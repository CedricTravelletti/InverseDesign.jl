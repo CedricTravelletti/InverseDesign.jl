{
 "cells": [
  {
   "cell_type": "markdown",
   "id": "3093d156-dae6-4582-956e-dae5fc931162",
   "metadata": {},
   "source": [
    "## Compute lattice constant using the current potential."
   ]
  },
  {
   "cell_type": "code",
   "execution_count": null,
   "id": "c6af6c7f-2d9b-4f1e-a437-09112c8560bf",
   "metadata": {},
   "outputs": [],
   "source": [
    "from ase.build import bulk\n",
    "from ase.calculators.emt import EMT\n",
    "from ase.db import connect\n",
    "from ase.eos import calculate_eos\n",
    "\n",
    "\n",
    "atoms = bulk('Cu', 'fcc')\n",
    "atoms.calc = EMT()\n",
    "eos = calculate_eos(atoms)\n",
    "v, e, B = eos.fit()  # find minimum\n",
    "# Do one more calculation at the minimum and write to database:\n",
    "atoms.cell *= (v / atoms.get_volume())**(1 / 3)\n",
    "atoms.get_potential_energy()"
   ]
  },
  {
   "cell_type": "markdown",
   "id": "a30a657e-5a2a-4c1e-a7e4-81e55158e044",
   "metadata": {},
   "source": [
    "## Adsorb one C atom using built-in BFGS."
   ]
  },
  {
   "cell_type": "code",
   "execution_count": null,
   "id": "1cce9f1c-143a-4b28-a39f-3de162edb76b",
   "metadata": {},
   "outputs": [],
   "source": [
    "# Now prepare adsorption.\n",
    "from ase.build import add_adsorbate, fcc111\n",
    "ads = 'C'\n",
    "n_layers = 3\n",
    "a = atoms.cell[0, 1] * 2 # Equilibrium lattice constant.\n",
    "atoms = fcc111(\"Cu\", (1, 1, n_layers), a=a)"
   ]
  },
  {
   "cell_type": "code",
   "execution_count": null,
   "id": "bdf39b23-3976-40f2-be19-c5e7b228a63f",
   "metadata": {},
   "outputs": [],
   "source": [
    "ads_height = 1.0\n",
    "add_adsorbate(atoms, ads, height=ads_height, position='fcc')\n",
    "\n",
    "# Constrain all atoms except the adsorbate:\n",
    "from ase.constraints import FixAtoms\n",
    "fixed = list(range(len(atoms) - 1))\n",
    "atoms.constraints = [FixAtoms(indices=fixed)]\n",
    "6,  6,  6,  6\n",
    "from ase.optimize import BFGS\n",
    "atoms.calc = EMT()\n",
    "opt = BFGS(atoms, logfile=None)\n",
    "opt.run(fmax=0.01)"
   ]
  },
  {
   "cell_type": "code",
   "execution_count": null,
   "id": "db703af8-9232-49a5-929f-8a98460698dd",
   "metadata": {},
   "outputs": [],
   "source": [
    "# Final adsorbate position.\n",
    "print(atoms[3].position)\n",
    "\n",
    "# Final energy.\n",
    "print(atoms.get_potential_energy())"
   ]
  },
  {
   "cell_type": "markdown",
   "id": "d80aa010-0d9f-4f24-82e7-3815ddcee72f",
   "metadata": {},
   "source": [
    "## Comparison with BoTorch"
   ]
  },
  {
   "cell_type": "code",
   "execution_count": null,
   "id": "2e2c9010-1f6d-4fab-88eb-f5d7f6e8eb6d",
   "metadata": {},
   "outputs": [],
   "source": [
    "import numpy as np\n",
    "import torch"
   ]
  },
  {
   "cell_type": "code",
   "execution_count": null,
   "id": "23cb127e-8f86-4b72-aee6-61d1476f5c4a",
   "metadata": {},
   "outputs": [],
   "source": [
    "# Do not allow our atom to go inside the surface. \n",
    "# Also restrict x-y to the unit cell size.\n",
    "bulk_z_max = np.max(atoms[:3].positions[:, 2])\n",
    "cell_x_min, cell_x_max = float(np.min(atoms.cell[:, 0])), float(np.max(atoms.cell[:, 0]))\n",
    "cell_y_min, cell_y_max = float(np.min(atoms.cell[:, 1])), float(np.max(atoms.cell[:, 1]))\n",
    "z_adsorb_max = 3 * ads_height"
   ]
  },
  {
   "cell_type": "markdown",
   "id": "add31d28-0b29-43e9-8ac4-d12e890f3c01",
   "metadata": {},
   "source": [
    "## Set up evaluation function (pipe to ASE) for trial parameters suggested by Ax. \n",
    "Note that this function can return additional keys that can be used in the `outcome_constraints` of the experiment."
   ]
  },
  {
   "cell_type": "code",
   "execution_count": null,
   "id": "8851d88f-604e-4fdc-ba29-608292b65ef3",
   "metadata": {},
   "outputs": [],
   "source": [
    "def evaluate(parameters):\n",
    "    x = np.array([parameters.get(f\"x\"), parameters.get(f\"y\"), parameters.get(f\"z\")])\n",
    "     # Can put zeros since constraints are respected by set_positions.\n",
    "    new_pos = np.vstack([np.zeros((atoms.get_number_of_atoms() - 1, 3)), x])\n",
    "    atoms.set_positions(new_pos, apply_constraint=True)\n",
    "    energy = atoms.get_potential_energy()\n",
    "    \n",
    "    # In our case, standard error is 0, since we are computing a synthetic function.\n",
    "    return {\"adsorption_energy\": (energy, 0.0)} # We have 0 noise on the target."
   ]
  },
  {
   "cell_type": "code",
   "execution_count": null,
   "id": "e116847c-4017-4c05-b9c2-7ca93424b6e9",
   "metadata": {},
   "outputs": [],
   "source": [
    "from botorch.models import SingleTaskGP, ModelListGP, FixedNoiseGP\n",
    "# Ax wrappers for BoTorch components\n",
    "from ax.models.torch.botorch_modular.model import BoTorchModel\n",
    "from ax.models.torch.botorch_modular.surrogate import Surrogate\n",
    "from gpytorch.mlls.exact_marginal_log_likelihood import ExactMarginalLogLikelihood\n",
    "from botorch.acquisition.analytic import ExpectedImprovement\n",
    "\n",
    "# model = SingleTaskGP(init_x, init_y)\n",
    "# mll = ExactMarginalLogLikelihood(single_model.likelihood, single_model)\n",
    "\n",
    "# Fit on init data. \n",
    "# from botorch import fit_gpytorch_model\n",
    "# fit_gpytorch_model(mll)\n",
    "\n",
    "model = BoTorchModel(\n",
    "    # Optional `Surrogate` specification to use instead of default\n",
    "    surrogate=Surrogate(\n",
    "        # BoTorch `Model` type\n",
    "        botorch_model_class=FixedNoiseGP,\n",
    "        # Optional, MLL class with which to optimize model parameters\n",
    "        mll_class=ExactMarginalLogLikelihood,\n",
    "        # Optional, dictionary of keyword arguments to underlying\n",
    "        # BoTorch `Model` constructor\n",
    "        model_options={},\n",
    "    ),\n",
    "    # Optional BoTorch `AcquisitionFunction` to use instead of default\n",
    "    botorch_acqf_class=ExpectedImprovement,\n",
    "    # Optional dict of keyword arguments, passed to the input\n",
    "    # constructor for the given BoTorch `AcquisitionFunction`\n",
    "    acquisition_options={},\n",
    ")"
   ]
  },
  {
   "cell_type": "markdown",
   "id": "8bbac27a-9aab-424e-a713-5adf31a5d9d6",
   "metadata": {},
   "source": [
    "## Create client and initial sampling strategy to warm-up the GP model"
   ]
  },
  {
   "cell_type": "code",
   "execution_count": null,
   "id": "ce5cdbda-2bd7-4ec4-a281-5755ab609b75",
   "metadata": {},
   "outputs": [],
   "source": [
    "import torch\n",
    "from ax.service.ax_client import AxClient\n",
    "from ax.service.utils.instantiation import ObjectiveProperties\n",
    "\n",
    "from ax.modelbridge.generation_strategy import GenerationStep, GenerationStrategy\n",
    "from ax.modelbridge.registry import Models\n",
    "\n",
    "\n",
    "gs = GenerationStrategy(\n",
    "    steps=[\n",
    "        # 1. Initialization step (does not require pre-existing data and is well-suited for\n",
    "        # initial sampling of the search space)\n",
    "        GenerationStep(\n",
    "            model=Models.SOBOL,\n",
    "            num_trials=5,  # How many trials should be produced from this generation step\n",
    "            min_trials_observed=3,  # How many trials need to be completed to move to next model\n",
    "            max_parallelism=5,  # Max parallelism for this step\n",
    "            model_kwargs={\"seed\": 999},  # Any kwargs you want passed into the model\n",
    "            model_gen_kwargs={},  # Any kwargs you want passed to `modelbridge.gen`\n",
    "        ),\n",
    "        # 2. Bayesian optimization step (requires data obtained from previous phase and learns\n",
    "        # from all data available at the time of each new candidate generation call)\n",
    "        GenerationStep(\n",
    "            model=Models.BOTORCH_MODULAR,\n",
    "            num_trials=-1,  # No limitation on how many trials should be produced from this step\n",
    "            max_parallelism=3,  # Parallelism limit for this step, often lower than for Sobol\n",
    "            # More on parallelism vs. required samples in BayesOpt:\n",
    "            # https://ax.dev/docs/bayesopt.html#tradeoff-between-parallelism-and-total-number-of-trials\n",
    "        ),\n",
    "    ]\n",
    ")\n",
    "\n",
    "# Initialize the client - AxClient offers a convenient API to control the experiment\n",
    "ax_client = AxClient(generation_strategy=gs)"
   ]
  },
  {
   "cell_type": "markdown",
   "id": "0aed0dcf-c8b4-4586-a2fb-b374bdd683ce",
   "metadata": {},
   "source": [
    "## Set up the optimization experiment in Ax."
   ]
  },
  {
   "cell_type": "code",
   "execution_count": null,
   "id": "e378595d-f852-42a5-8db7-7346fc0732c2",
   "metadata": {},
   "outputs": [],
   "source": [
    "ax_client.create_experiment(\n",
    "    name=\"adsorption_experiment\",\n",
    "    parameters=[\n",
    "        {\n",
    "            \"name\": \"x\",\n",
    "            \"type\": \"range\",\n",
    "            \"bounds\": [cell_x_min, cell_x_max],\n",
    "        },\n",
    "        {\n",
    "            \"name\": \"y\",\n",
    "            \"type\": \"range\",\n",
    "            \"bounds\": [cell_y_min, cell_y_max],\n",
    "        },\n",
    "        {\n",
    "            \"name\": \"z\",\n",
    "            \"type\": \"range\",\n",
    "            \"bounds\": [z_adsorb_max, bulk_z_max],\n",
    "        },\n",
    "    ],\n",
    "    objectives={\"adsorption_energy\": ObjectiveProperties(minimize=True)},\n",
    "    # parameter_constraints=[\"x1 + x2 <= 2.0\"],  # Optional.\n",
    "    # outcome_constraints=[\"l2norm <= 1.25\"],  # Optional.\n",
    ")"
   ]
  },
  {
   "cell_type": "markdown",
   "id": "e82d1d73-2d54-4fcf-8fe5-d504e37efed6",
   "metadata": {},
   "source": [
    "## Run the BO loop."
   ]
  },
  {
   "cell_type": "code",
   "execution_count": null,
   "id": "a476257c-7a50-473f-9482-4c0d4fee48c7",
   "metadata": {},
   "outputs": [],
   "source": [
    "N_BO_steps = 40\n",
    "for i in range(N_BO_steps):\n",
    "    parameters, trial_index = ax_client.get_next_trial()\n",
    "    # Local evaluation here can be replaced with deployment to external system.\n",
    "    ax_client.complete_trial(trial_index=trial_index, raw_data=evaluate(parameters))"
   ]
  },
  {
   "cell_type": "markdown",
   "id": "27ccf88b-55bf-4a66-8c25-d9b7c16c1ae2",
   "metadata": {},
   "source": [
    "## Display Results"
   ]
  },
  {
   "cell_type": "code",
   "execution_count": null,
   "id": "555aafbc-755f-43ce-a5a2-c923ad466e3a",
   "metadata": {},
   "outputs": [],
   "source": [
    "ax_client.get_trials_data_frame()"
   ]
  },
  {
   "cell_type": "code",
   "execution_count": null,
   "id": "75ddb778-40c2-4fc2-bb87-49e2764a93b2",
   "metadata": {},
   "outputs": [],
   "source": [
    "from ax.utils.notebook.plotting import render\n",
    "\n",
    "render(ax_client.from botorch.acquisitionget_optimization_trace(objective_optimum=0.0))"
   ]
  },
  {
   "cell_type": "code",
   "execution_count": null,
   "id": "59934bfa-43d6-434d-8d00-89d02cea063c",
   "metadata": {},
   "outputs": [],
   "source": [
    "render(ax_client.get_contour_plot())"
   ]
  },
  {
   "cell_type": "code",
   "execution_count": null,
   "id": "9337feb3-6ee8-47b4-bde7-d23111a1a0a2",
   "metadata": {},
   "outputs": [],
   "source": [
    "render(ax_client.get_contour_plot(param_x=\"y\", param_y=\"z\"))"
   ]
  },
  {
   "cell_type": "code",
   "execution_count": null,
   "id": "3a5cba0c-5fc3-41ee-b222-1a372d652ba0",
   "metadata": {},
   "outputs": [],
   "source": [
    "from ax.plot.contour import interact_contour\n",
    "model = ax_client.generation_strategy.model\n",
    "render(interact_contour(model=model, metric_name=\"adsorption_energy\",\n",
    "                       slice_values={'x': 1.0, 'y': 1.0, 'z': 5.23}))"
   ]
  },
  {
   "cell_type": "code",
   "execution_count": null,
   "id": "2834fdea-36d0-41d0-a3b2-2af945cd966a",
   "metadata": {},
   "outputs": [],
   "source": [
    "ax_client.get_best_parameters()"
   ]
  }
 ],
 "metadata": {
  "kernelspec": {
   "display_name": "Python 3 (ipykernel)",
   "language": "python",
   "name": "python3"
  },
  "language_info": {
   "codemirror_mode": {
    "name": "ipython",
    "version": 3
   },
   "file_extension": ".py",
   "mimetype": "text/x-python",
   "name": "python",
   "nbconvert_exporter": "python",
   "pygments_lexer": "ipython3",
   "version": "3.11.6"
  }
 },
 "nbformat": 4,
 "nbformat_minor": 5
}
