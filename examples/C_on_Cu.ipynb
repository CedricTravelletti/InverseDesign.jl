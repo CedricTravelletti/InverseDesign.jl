{
 "cells": [
  {
   "cell_type": "markdown",
   "id": "3093d156-dae6-4582-956e-dae5fc931162",
   "metadata": {},
   "source": [
    "## Compute lattice constant using the current potential."
   ]
  },
  {
   "cell_type": "code",
   "execution_count": null,
   "id": "c6af6c7f-2d9b-4f1e-a437-09112c8560bf",
   "metadata": {},
   "outputs": [],
   "source": [
    "from ase.build import bulk\n",
    "from ase.db import connect\n",
    "from ase.eos import calculate_eos\n",
    "\n",
    "input = {}\n",
    "with open('Input.txt', 'r') as file:\n",
    "    for line in file:\n",
    "        key, value = line.strip().split(' : ')\n",
    "        try:\n",
    "            #Convert to integer if possible\n",
    "            input[key] = int(value)\n",
    "        except ValueError:\n",
    "            # If not possible, store as string\n",
    "            input[key] = value\n",
    "\n",
    "atoms = bulk(input['surface_atom'], input['lattice'])\n",
    "if (input['calc_method'] == 'EMT'):\n",
    "    from ase.calculators.emt import EMT\n",
    "    atoms.calc = EMT()\n",
    "elif (input['calc_method'] == 'LJ'):\n",
    "    from ase.calculators.lj import LennardJones\n",
    "    atoms.calc = LennardJones()\n",
    "elif (input['calc_method'] == 'EAM'):\n",
    "    from ase.calculators.eam import EAM\n",
    "    atoms.calc = EAM()\n",
    "\n",
    "eos = calculate_eos(atoms) #For now eos only seems to work with EMT, not LJ or EAM\n",
    "v, e, B = eos.fit()  # find minimum\n",
    "# Do one more calculation at the minimum and write to database:\n",
    "atoms.cell *= (v / atoms.get_volume())**(1 / 3)\n",
    "atoms.get_potential_energy()"
   ]
  },
  {
   "cell_type": "markdown",
   "id": "a30a657e-5a2a-4c1e-a7e4-81e55158e044",
   "metadata": {},
   "source": [
    "## Adsorb one C atom using built-in BFGS.\n",
    "\n",
    "### First prepare the supercell (so the atom adsorbate does not see its mirror image)."
   ]
  },
  {
   "cell_type": "code",
   "execution_count": null,
   "id": "1cce9f1c-143a-4b28-a39f-3de162edb76b",
   "metadata": {},
   "outputs": [],
   "source": [
    "# Now prepare adsorption.\n",
    "from ase.build import add_adsorbate, fcc111\n",
    "from ase.visualize import view\n",
    "ads = input['adsorbant_atom']\n",
    "n_layers = input['number_of_layers']\n",
    "a = atoms.cell[0, 1] * 2 # Equilibrium lattice constant.\n",
    "atoms = fcc111(input['surface_atom'], (input['supercell_x_rep'], input['supercell_y_rep'], n_layers), a=a)\n",
    "atoms.get_tags()"
   ]
  },
  {
   "cell_type": "code",
   "execution_count": null,
   "id": "0abc31c3",
   "metadata": {},
   "outputs": [],
   "source": [
    "#view(atoms, viewer='x3d')\n",
    "#atoms\n",
    "#atoms.get_positions()"
   ]
  },
  {
   "cell_type": "markdown",
   "id": "33be5140-cfe3-49a2-a195-a1630d17d6a3",
   "metadata": {},
   "source": [
    "## Add single atom adsorbate."
   ]
  },
  {
   "cell_type": "code",
   "execution_count": null,
   "id": "d3f52c46-e18c-4e94-acbf-ced78ecc2d03",
   "metadata": {},
   "outputs": [],
   "source": [
    "ads_height = float(input['adsorbant_init_h']) #modified initial conditions\n",
    "add_adsorbate(atoms, ads, height=ads_height, position=input['lattice'])\n",
    "#defined vacuum layer for no overlap between supercells NEEDS CONVERGENCE STUDY\n",
    "atoms.center(vacuum = 10, axis = 2) \n",
    "atoms.get_tags()\n",
    "atoms.get_positions()"
   ]
  },
  {
   "cell_type": "code",
   "execution_count": null,
   "id": "16d041c9",
   "metadata": {},
   "outputs": [],
   "source": [
    "#view(atoms, viewer='x3d')\n",
    "#atoms[-1]"
   ]
  },
  {
   "cell_type": "code",
   "execution_count": null,
   "id": "02cc7f77-dbaf-4f56-93a7-31d08de90aa9",
   "metadata": {},
   "outputs": [],
   "source": [
    "# Constrain all atoms except the adsorbate:\n",
    "from ase.constraints import FixAtoms\n",
    "fixed = list(range(len(atoms) - 1))\n",
    "atoms.constraints = [FixAtoms(indices=fixed)]"
   ]
  },
  {
   "cell_type": "markdown",
   "id": "f7787e67-50e4-40d6-8479-f21e7482709c",
   "metadata": {},
   "source": [
    "## Optimize adsorbate position usgin built-in BFGS from ASE."
   ]
  },
  {
   "cell_type": "code",
   "execution_count": null,
   "id": "af55440d-dd81-4d14-a500-05ec8ef44691",
   "metadata": {},
   "outputs": [],
   "source": [
    "from ase.optimize import BFGS\n",
    "import time\n",
    "import os\n",
    "file_path = 'BFGS.log'\n",
    "# Check if the file exists\n",
    "if os.path.exists(file_path):\n",
    "    # Delete the file\n",
    "    os.remove(file_path)\n",
    "    print(f\"File '{file_path}' has been deleted.\")\n",
    "else:\n",
    "    print(f\"File '{file_path}' does not exist.\")\n",
    "\n",
    "\n",
    "atoms.calc = EMT()\n",
    "opt = BFGS(atoms, logfile='BFGS.log')\n",
    "BFGS_start = time.time()\n",
    "opt.run(fmax=0.0001)\n",
    "BFGS_runtime = time.time() - BFGS_start"
   ]
  },
  {
   "cell_type": "code",
   "execution_count": null,
   "id": "a7221ceb",
   "metadata": {},
   "outputs": [],
   "source": [
    "#Store BFGS.log as dataframes\n",
    "import pandas as pd\n",
    "df_bfgs = pd.read_csv('BFGS.log', skiprows=0, delim_whitespace=True)\n",
    "# change df_bfgs['Time'] from str to runtime from first run in seconds\n",
    "df_bfgs['Time'] = pd.to_datetime(df_bfgs['Time'])\n",
    "df_bfgs['Time'] = df_bfgs['Time'].dt.strftime('%H:%M:%S')\n",
    "df_bfgs['Time'] = pd.to_timedelta(df_bfgs['Time'])\n",
    "df_bfgs['Time'] = df_bfgs['Time'].dt.total_seconds()\n",
    "df_bfgs['Time'] = df_bfgs['Time'] - df_bfgs['Time'][0]"
   ]
  },
  {
   "cell_type": "code",
   "execution_count": null,
   "id": "db703af8-9232-49a5-929f-8a98460698dd",
   "metadata": {},
   "outputs": [],
   "source": [
    "# Final adsorbate position.\n",
    "### print(atoms[3].position)\n",
    "print(atoms[-1].position) # modified to get adsorbate position\n",
    "BFGS_params = atoms[-1].position.copy()\n",
    "# Final energy.\n",
    "bfgs_en = atoms.get_potential_energy()\n",
    "print(atoms.get_potential_energy())"
   ]
  },
  {
   "cell_type": "markdown",
   "id": "d80aa010-0d9f-4f24-82e7-3815ddcee72f",
   "metadata": {},
   "source": [
    "## Comparison with BoTorch"
   ]
  },
  {
   "cell_type": "code",
   "execution_count": null,
   "id": "2e2c9010-1f6d-4fab-88eb-f5d7f6e8eb6d",
   "metadata": {},
   "outputs": [],
   "source": [
    "import numpy as np\n",
    "#import torch"
   ]
  },
  {
   "cell_type": "code",
   "execution_count": null,
   "id": "23cb127e-8f86-4b72-aee6-61d1476f5c4a",
   "metadata": {},
   "outputs": [],
   "source": [
    "# Do not allow our atom to go inside the surface. \n",
    "# Also restrict x-y to the unit cell size.\n",
    "bulk_z_max = np.max(atoms[:-1].positions[:, 2]) #modified to account for changes in initial conditions + universal\n",
    "print(bulk_z_max)\n",
    "cell_x_min, cell_x_max = float(np.min(atoms.cell[:, 0])), float(np.max(atoms.cell[:, 0]))\n",
    "cell_y_min, cell_y_max = float(np.min(atoms.cell[:, 1])), float(np.max(atoms.cell[:, 1]))\n",
    "#z_adsorb_max = 3 * ads_height\n",
    "z_adsorb_max = atoms[-1].position[-1] + 5 # modified to account for changes in initial conditions"
   ]
  },
  {
   "cell_type": "markdown",
   "id": "e7f0e763",
   "metadata": {},
   "source": [
    "## Call functions from separate file instead of defining in notebook"
   ]
  },
  {
   "cell_type": "code",
   "execution_count": null,
   "id": "22c8b38b",
   "metadata": {},
   "outputs": [],
   "source": [
    "import pickle\n",
    "with open('atoms.pkl', 'wb') as f:\n",
    "    pickle.dump(atoms, f)\n",
    "\n",
    "#import Note_func"
   ]
  },
  {
   "cell_type": "markdown",
   "id": "0aed0dcf-c8b4-4586-a2fb-b374bdd683ce",
   "metadata": {},
   "source": [
    "## Set up the optimization experiment in Ax."
   ]
  },
  {
   "cell_type": "code",
   "execution_count": null,
   "id": "e378595d-f852-42a5-8db7-7346fc0732c2",
   "metadata": {},
   "outputs": [],
   "source": [
    "from ax.service.ax_client import AxClient\n",
    "from Note_func import gs\n",
    "from ax.service.utils.instantiation import ObjectiveProperties\n",
    "\n",
    "from ax.global_stopping.strategies.improvement import ImprovementGlobalStoppingStrategy\n",
    "from ax.exceptions.core import OptimizationShouldStop\n",
    "# Start considering stopping only after the 5 initialization trials + 5 real trials.\n",
    "# Stop if the improvement in the best point in the past 5 trials is less than\n",
    "# 1% of the IQR thus far.\n",
    "stopping_strategy = ImprovementGlobalStoppingStrategy(\n",
    "    min_trials=5 + 5, window_size=5, improvement_bar=0.01\n",
    ")\n",
    "\n",
    "# Initialize the client - AxClient offers a convenient API to control the experiment\n",
    "ax_client = AxClient(generation_strategy=gs, global_stopping_strategy=stopping_strategy)\n",
    "\n",
    "ax_client.create_experiment(\n",
    "    name=\"adsorption_experiment\",\n",
    "    parameters=[\n",
    "        {\n",
    "            \"name\": \"x\",\n",
    "            \"type\": \"range\",\n",
    "            \"bounds\": [float(cell_x_min), float(cell_x_max)],\n",
    "        },\n",
    "        {\n",
    "            \"name\": \"y\",\n",
    "            \"type\": \"range\",\n",
    "            \"bounds\": [float(cell_y_min), float(cell_y_max)],\n",
    "        },\n",
    "        {\n",
    "            \"name\": \"z\",\n",
    "            \"type\": \"range\",\n",
    "            \"bounds\": [float(bulk_z_max), float(z_adsorb_max)], #I made a modification here, switched both bounds.\n",
    "        },\n",
    "    ],\n",
    "    objectives={\"adsorption_energy\": ObjectiveProperties(minimize=True)},\n",
    "    # parameter_constraints=[\"x1 + x2 <= 2.0\"],  # Optional.\n",
    "    # outcome_constraints=[\"l2norm <= 1.25\"],  # Optional.\n",
    ")"
   ]
  },
  {
   "cell_type": "markdown",
   "id": "e82d1d73-2d54-4fcf-8fe5-d504e37efed6",
   "metadata": {},
   "source": [
    "## Run the BO loop."
   ]
  },
  {
   "cell_type": "code",
   "execution_count": null,
   "id": "a476257c-7a50-473f-9482-4c0d4fee48c7",
   "metadata": {},
   "outputs": [],
   "source": [
    "from Note_func import evaluate\n",
    "import time\n",
    "# Run the optimization loop. This is where the magic happens. \n",
    "start = time.time()\n",
    "run_time = []\n",
    "N_BO_steps = input['n_bo_steps']\n",
    "for i in range(N_BO_steps):\n",
    "    try: \n",
    "        parameters, trial_index = ax_client.get_next_trial()\n",
    "    except OptimizationShouldStop as exc:\n",
    "        print(exc.message)\n",
    "        break\n",
    "    # Local evaluation here can be replaced with deployment to external system.\n",
    "    ax_client.complete_trial(trial_index=trial_index, raw_data=evaluate(parameters))\n",
    "    run_time.append(time.time() - start)"
   ]
  },
  {
   "cell_type": "markdown",
   "id": "d6fde3ac",
   "metadata": {},
   "source": [
    "## (Optionnal : Load previous experiment result from JSON file)"
   ]
  },
  {
   "cell_type": "code",
   "execution_count": null,
   "id": "9a7a11a7",
   "metadata": {},
   "outputs": [],
   "source": [
    "if 'ax_client' not in globals() or ax_client is None:\n",
    "    ax_client = AxClient.load_from_json_file(filepath='test_json.json')\n",
    "\n",
    "#report = ax_client.get_report()\n",
    "#ax_client.get_best_trial()"
   ]
  },
  {
   "cell_type": "markdown",
   "id": "077c686d",
   "metadata": {},
   "source": [
    "## Save results in csv"
   ]
  },
  {
   "cell_type": "code",
   "execution_count": null,
   "id": "555aafbc-755f-43ce-a5a2-c923ad466e3a",
   "metadata": {},
   "outputs": [],
   "source": [
    "import glob\n",
    "\n",
    "#Build result dataframe\n",
    "df = ax_client.get_trials_data_frame()\n",
    "df['bo_trace'] = ax_client.get_trace()\n",
    "df[\"run_time\"] = run_time\n",
    "df[\"BFGS_runtime\"] = BFGS_runtime\n",
    "params = ax_client.get_best_parameters()[:1][0]\n",
    "df['opt_bfgs_x']= BFGS_params[0]\n",
    "df['opt_bfgs_y']= BFGS_params[1]\n",
    "df['opt_bfgs_z']= BFGS_params[2]\n",
    "\n",
    "df['opt_bo_x']= params['x']\n",
    "df['opt_bo_y']= params['y']\n",
    "df['opt_bo_z']= params['z']\n",
    "\n",
    "df['opt_bo_energy'] = ax_client.get_best_parameters()[1][0]['adsorption_energy']\n",
    "df['opt_bfgs_energy'] = bfgs_en\n",
    "\n",
    "\n",
    "#Define the file name format\n",
    "file_name_format = f\"ase_ads_DF_{input['adsorbant_atom']}_on_{input['surface_atom']}_{input['calc_method']}_{input['bo_surrogate']}_{input['bo_acquisition_f']}_*.csv\"\n",
    "num_files = len(glob.glob(file_name_format))\n",
    "curr_date_time = time.strftime(\"%Y-%m-%d_%H-%M-%S\")\n",
    "\n",
    "#Save results as dataframe csv file\n",
    "dfname = f\"ase_ads_DF_{input['adsorbant_atom']}_on_{input['surface_atom']}_{input['calc_method']}_{input['bo_surrogate']}_{input['bo_acquisition_f']}_{curr_date_time}_{num_files}.csv\"\n",
    "df.to_csv(dfname, index=False)\n",
    "df"
   ]
  },
  {
   "cell_type": "markdown",
   "id": "c19acfa1",
   "metadata": {},
   "source": [
    "## Display Results"
   ]
  },
  {
   "cell_type": "markdown",
   "id": "d2fa89c4-d269-4c9b-87f8-354e0ec7946d",
   "metadata": {},
   "source": [
    "## Plot Evolution of adsorption energy."
   ]
  },
  {
   "cell_type": "code",
   "execution_count": null,
   "id": "75ddb778-40c2-4fc2-bb87-49e2764a93b2",
   "metadata": {},
   "outputs": [],
   "source": [
    "from ax.utils.notebook.plotting import render\n",
    "# from botorch.acquisition\n",
    "#render(ax_client.get_optimization_trace(objective_optimum=0.0)) #objective optimum should be the bare surface without additionnal atom\n",
    "\n",
    "#Build Optimization trace plot from scratch\n",
    "import matplotlib.pyplot as plt\n",
    "\n",
    "# Plot the optimization trace vs steps\n",
    "fig, ax = plt.subplots(1, 2, figsize=(15, 6))\n",
    "ax[0].set_title('BO Optimized Adsorption vs steps')\n",
    "ax[0].set_xlabel(\"Optimization step\")\n",
    "ax[0].set_ylabel(\"Current optimum\")\n",
    "ax[0].spines['top'].set_visible(False)\n",
    "ax[0].spines['right'].set_visible(False)\n",
    "ax[0].grid(True, linestyle='--', color='0.7', zorder=-1, linewidth=1, alpha=0.5)\n",
    "# Add horizontal line at x = gs_init_steps to indicate the end of the initialization trials.\n",
    "ax[0].axvline(x=input['gs_init_steps'], color='k', linestyle='--', linewidth=2, alpha=0.5, label='End of initialization trials')\n",
    "\n",
    "#bfgs\n",
    "x_bfgs = range(len(df_bfgs))\n",
    "y_bfgs = df_bfgs['Energy']\n",
    "ax[0].plot(x_bfgs, y_bfgs, label=f\"{input['calc_method']}_BFGS\", color='r', marker='o', linestyle='-')\n",
    "\n",
    "#BO\n",
    "trace = df['bo_trace']\n",
    "x = range(len(trace))\n",
    "ax[0].plot(x, trace, label=f\"{input['calc_method']}_{input['bo_surrogate']}_{input['bo_acquisition_f']}\", color='b', marker='o', linestyle='-')\n",
    "\n",
    "# Plot the optimization trace vs time\n",
    "ax[1].set_title('BO Optimized Adsorption vs time')\n",
    "ax[1].set_xlabel(\"Optimization time (s)\")\n",
    "ax[1].spines['top'].set_visible(False)\n",
    "ax[1].spines['right'].set_visible(False)\n",
    "ax[1].grid(True, linestyle='--', color='0.7', zorder=-1, linewidth=1, alpha=0.5)\n",
    "#BFGS\n",
    "xt_bfgs = df_bfgs['Time']\n",
    "ax[1].plot(xt_bfgs, y_bfgs, label=f\"{input['calc_method']}_BFGS\", color='r', marker='o', linestyle='-')\n",
    "#BO\n",
    "xt_BO = df['run_time']\n",
    "ax[1].axvline(x=df['run_time'][input['gs_init_steps']-1], color='k', linestyle='--', linewidth=2, alpha=0.5, label='End of initialization trials')\n",
    "ax[1].plot(xt_BO, trace, label=f\"{input['calc_method']}_{input['bo_surrogate']}_{input['bo_acquisition_f']}\", color='b', marker='o', linestyle='-')\n",
    "\n",
    "plt.legend()\n",
    "ax[0].legend()\n",
    "fig.savefig(f\"ase_ads_Opt_trace_{input['adsorbant_atom']}_on_{input['surface_atom']}_{input['calc_method']}_{input['bo_surrogate']}_{input['bo_acquisition_f']}_{curr_date_time}_{num_files}.png\")"
   ]
  },
  {
   "cell_type": "markdown",
   "id": "0c009b11-1989-4f7b-9746-e56cc55ae920",
   "metadata": {},
   "source": [
    "## Plot learned response surface."
   ]
  },
  {
   "cell_type": "code",
   "execution_count": null,
   "id": "3a5cba0c-5fc3-41ee-b222-1a372d652ba0",
   "metadata": {},
   "outputs": [],
   "source": [
    "from ax.plot.contour import interact_contour\n",
    "model = ax_client.generation_strategy.model\n",
    "render(interact_contour(model=model, metric_name=\"adsorption_energy\",\n",
    "                       slice_values={'x': 1.263480218001716, 'y': 1.0, 'z': 3.01}))"
   ]
  },
  {
   "cell_type": "markdown",
   "id": "04c9390a",
   "metadata": {},
   "source": [
    "## Modify the \"atoms\" object to represent the best solution"
   ]
  },
  {
   "cell_type": "code",
   "execution_count": null,
   "id": "2834fdea-36d0-41d0-a3b2-2af945cd966a",
   "metadata": {},
   "outputs": [],
   "source": [
    "ax_client.get_best_parameters()\n",
    "#Modify the \"atoms\" object to represent the best solution\n",
    "params = ax_client.get_best_parameters()[:1][0]\n",
    "atoms[-1].position[:] = params['x'],params['y'],params['z']\n",
    "print(ax_client.get_best_parameters())\n",
    "\n",
    "\n",
    "#is the best found parameter one of the previous trials ? If yes, then EI has probably gone too far in the exploration phase.\n",
    "EI_test = ax_client.get_best_trial()[2][0]['adsorption_energy'] == ax_client.get_best_parameters()[1][0]['adsorption_energy']\n",
    "if EI_test:\n",
    "    print('EI has gone too far in the exploration phase (best parameters have been sampled)')\n",
    "    print('EI_test =', EI_test)"
   ]
  },
  {
   "cell_type": "markdown",
   "id": "a40b82cb",
   "metadata": {},
   "source": [
    "## Save Ax Client and experiment as JSON file"
   ]
  },
  {
   "cell_type": "code",
   "execution_count": null,
   "id": "941c24cd",
   "metadata": {},
   "outputs": [],
   "source": [
    "ax_client.save_to_json_file(filepath= f\"ase_ads_DF_{input['adsorbant_atom']}_on_{input['surface_atom']}_{input['calc_method']}_{input['bo_surrogate']}_{input['bo_acquisition_f']}_{curr_date_time}_{num_files}.json\")"
   ]
  },
  {
   "cell_type": "markdown",
   "id": "36e96968-cff1-4e51-88c7-b79bf84ea0da",
   "metadata": {},
   "source": [
    "## Visualize the resulting chemical system."
   ]
  },
  {
   "cell_type": "code",
   "execution_count": null,
   "id": "a8f4e93a-b20f-4f8e-a0aa-6e994ac8993d",
   "metadata": {},
   "outputs": [],
   "source": [
    "from ase.visualize import view\n",
    "view(atoms, viewer='x3d', repeat=(3, 3, 1))"
   ]
  },
  {
   "cell_type": "code",
   "execution_count": null,
   "id": "a7207210-3f5a-4098-802b-860365ffd016",
   "metadata": {},
   "outputs": [],
   "source": [
    "import matplotlib.pyplot as plt\n",
    "from ase.visualize.plot import plot_atoms\n",
    "\n",
    "\n",
    "fig, ax = plt.subplots(1, 4, figsize=(15, 5))\n",
    "#fig2,ax2 = plt.subplots()\n",
    "ax[0].set_title('BO Optimized Adsorption')\n",
    "ax[0].set_xlabel(\"[$\\mathrm{\\AA}$]\")\n",
    "ax[0].set_ylabel(\"[$\\mathrm{\\AA}$]\")\n",
    "ax[1].set_xlabel(\"[$\\mathrm{\\AA}$]\")\n",
    "ax[2].set_xlabel(\"[$\\mathrm{\\AA}$]\")\n",
    "ax[3].set_xlabel(\"[$\\mathrm{\\AA}$]\")\n",
    "ax[1].set_title('BO Optimized Adsorption')\n",
    "plot_atoms(atoms, ax[0], radii=0.5, rotation=('90x,45y,0z'), show_unit_cell=True)\n",
    "plot_atoms(atoms, ax[1], radii=0.5, rotation=('0x,0y,0z'))\n",
    "#fig.savefig(\"ase_slab_BO.png\")\n",
    "ax[2].set_title('BFGS Optimized Adsorption')\n",
    "ax[3].set_title('BFGS Optimized Adsorption')\n",
    "\n",
    "atoms_BFGS = atoms.copy()\n",
    "atoms_BFGS[-1].position[:] = BFGS_params[0],BFGS_params[1],BFGS_params[2]\n",
    "plot_atoms(atoms_BFGS, ax[2], radii=0.5, rotation=('90x,45y,0z'), show_unit_cell=True)\n",
    "plot_atoms(atoms_BFGS, ax[3], radii=0.5, rotation=('0x,0y,0z'))\n",
    "\n",
    "filename = f\"ase_ads_{input['adsorbant_atom']}_on_{input['surface_atom']}_{input['calc_method']}_{input['bo_surrogate']}_{input['bo_acquisition_f']}_{curr_date_time}_{num_files}.png\"\n",
    "fig.savefig(filename)\n"
   ]
  },
  {
   "cell_type": "code",
   "execution_count": null,
   "id": "db887a3b",
   "metadata": {},
   "outputs": [],
   "source": [
    "fig, ax = plt.subplots(1, 4, figsize=(15, 5))\n",
    "#fig2,ax2 = plt.subplots()\n",
    "ax[0].set_title('BO Optimized Adsorption')\n",
    "ax[0].set_xlabel(\"[$\\mathrm{\\AA}$]\")\n",
    "ax[0].set_ylabel(\"[$\\mathrm{\\AA}$]\")\n",
    "ax[1].set_xlabel(\"[$\\mathrm{\\AA}$]\")\n",
    "ax[2].set_xlabel(\"[$\\mathrm{\\AA}$]\")\n",
    "ax[3].set_xlabel(\"[$\\mathrm{\\AA}$]\")\n",
    "ax[1].set_title('BO Optimized Adsorption')\n",
    "plot_atoms(atoms, ax[0], radii=0.5, rotation=('90x,45y,0z'))\n",
    "plot_atoms(atoms, ax[1], radii=0.5, rotation=('0x,0y,0z'))\n",
    "#fig.savefig(\"ase_slab_BO.png\")\n",
    "ax[2].set_title('BFGS Optimized Adsorption')\n",
    "ax[3].set_title('BFGS Optimized Adsorption')\n",
    "\n",
    "atoms_BFGS = atoms.copy()\n",
    "atoms_BFGS[-1].position[:] = BFGS_params[0],BFGS_params[1],BFGS_params[2]\n",
    "plot_atoms(atoms_BFGS, ax[2], radii=0.5, rotation=('90x,45y,0z'))\n",
    "plot_atoms(atoms_BFGS, ax[3], radii=0.5, rotation=('0x,0y,0z'))\n",
    "\n",
    "filename = f\"ase_ads_{input['adsorbant_atom']}_on_{input['surface_atom']}_{input['calc_method']}_{input['bo_surrogate']}_{input['bo_acquisition_f']}_vacuum_{curr_date_time}_{num_files}.png\"\n",
    "fig.savefig(filename)"
   ]
  }
 ],
 "metadata": {
  "kernelspec": {
   "display_name": "Python 3 (ipykernel)",
   "language": "python",
   "name": "python3"
  },
  "language_info": {
   "codemirror_mode": {
    "name": "ipython",
    "version": 3
   },
   "file_extension": ".py",
   "mimetype": "text/x-python",
   "name": "python",
   "nbconvert_exporter": "python",
   "pygments_lexer": "ipython3",
   "version": "3.10.6"
  }
 },
 "nbformat": 4,
 "nbformat_minor": 5
}
