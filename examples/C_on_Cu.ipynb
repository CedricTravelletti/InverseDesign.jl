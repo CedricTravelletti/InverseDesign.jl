{
 "cells": [
  {
   "cell_type": "markdown",
   "id": "3093d156-dae6-4582-956e-dae5fc931162",
   "metadata": {},
   "source": [
    "## Compute lattice constant using the current potential."
   ]
  },
  {
   "cell_type": "code",
   "execution_count": 1,
   "id": "c6af6c7f-2d9b-4f1e-a437-09112c8560bf",
   "metadata": {},
   "outputs": [
    {
     "data": {
      "text/plain": [
       "-0.007036492048378307"
      ]
     },
     "execution_count": 1,
     "metadata": {},
     "output_type": "execute_result"
    }
   ],
   "source": [
    "from ase.build import bulk\n",
    "from ase.db import connect\n",
    "from ase.eos import calculate_eos\n",
    "\n",
    "input = {}\n",
    "with open('Input.txt', 'r') as file:\n",
    "    for line in file:\n",
    "        key, value = line.strip().split(' : ')\n",
    "        try:\n",
    "            #Convert to integer if possible\n",
    "            input[key] = int(value)\n",
    "        except ValueError:\n",
    "            # If not possible, store as string\n",
    "            input[key] = value\n",
    "\n",
    "atoms = bulk(input['surface_atom'], input['lattice'])\n",
    "if (input['calc_method'] == 'EMT'):\n",
    "    from ase.calculators.emt import EMT\n",
    "    atoms.calc = EMT()\n",
    "elif (input['calc_method'] == 'LJ'):\n",
    "    from ase.calculators.lj import LennardJones\n",
    "    atoms.calc = LennardJones()\n",
    "elif (input['calc_method'] == 'EAM'):\n",
    "    from ase.calculators.eam import EAM\n",
    "    atoms.calc = EAM()\n",
    "\n",
    "eos = calculate_eos(atoms) #For now eos only seems to work with EMT, not LJ or EAM\n",
    "v, e, B = eos.fit()  # find minimum\n",
    "# Do one more calculation at the minimum and write to database:\n",
    "atoms.cell *= (v / atoms.get_volume())**(1 / 3)\n",
    "atoms.get_potential_energy()"
   ]
  },
  {
   "cell_type": "markdown",
   "id": "a30a657e-5a2a-4c1e-a7e4-81e55158e044",
   "metadata": {},
   "source": [
    "## Adsorb one C atom using built-in BFGS.\n",
    "\n",
    "### First prepare the supercell (so the atom adsorbate does not see its mirror image)."
   ]
  },
  {
   "cell_type": "code",
   "execution_count": 2,
   "id": "1cce9f1c-143a-4b28-a39f-3de162edb76b",
   "metadata": {},
   "outputs": [
    {
     "data": {
      "text/plain": [
       "array([3, 3, 3, 3, 3, 3, 3, 3, 3, 3, 3, 3, 3, 3, 3, 3, 2, 2, 2, 2, 2, 2,\n",
       "       2, 2, 2, 2, 2, 2, 2, 2, 2, 2, 1, 1, 1, 1, 1, 1, 1, 1, 1, 1, 1, 1,\n",
       "       1, 1, 1, 1])"
      ]
     },
     "execution_count": 2,
     "metadata": {},
     "output_type": "execute_result"
    }
   ],
   "source": [
    "# Now prepare adsorption.\n",
    "from ase.build import add_adsorbate, fcc111\n",
    "from ase.visualize import view\n",
    "ads = input['adsorbant_atom']\n",
    "n_layers = input['number_of_layers']\n",
    "a = atoms.cell[0, 1] * 2 # Equilibrium lattice constant.\n",
    "atoms = fcc111(input['surface_atom'], (input['supercell_x_rep'], input['supercell_y_rep'], n_layers), a=a)\n",
    "atoms.get_tags()"
   ]
  },
  {
   "cell_type": "code",
   "execution_count": null,
   "id": "0abc31c3",
   "metadata": {},
   "outputs": [],
   "source": [
    "view(atoms, viewer='x3d')"
   ]
  },
  {
   "cell_type": "code",
   "execution_count": null,
   "id": "2a3722e8-17fb-4c6c-a93e-16c0892770cd",
   "metadata": {},
   "outputs": [],
   "source": [
    "atoms\n",
    "atoms.get_positions()"
   ]
  },
  {
   "cell_type": "markdown",
   "id": "33be5140-cfe3-49a2-a195-a1630d17d6a3",
   "metadata": {},
   "source": [
    "## Add single atom adsorbate."
   ]
  },
  {
   "cell_type": "code",
   "execution_count": 3,
   "id": "d3f52c46-e18c-4e94-acbf-ced78ecc2d03",
   "metadata": {},
   "outputs": [
    {
     "data": {
      "text/plain": [
       "array([[ 1.26919466,  0.73276988, 10.        ],\n",
       "       [ 3.80758399,  0.73276988, 10.        ],\n",
       "       [ 6.34597331,  0.73276988, 10.        ],\n",
       "       [ 8.88436264,  0.73276988, 10.        ],\n",
       "       [ 2.53838933,  2.93107952, 10.        ],\n",
       "       [ 5.07677865,  2.93107952, 10.        ],\n",
       "       [ 7.61516798,  2.93107952, 10.        ],\n",
       "       [10.1535573 ,  2.93107952, 10.        ],\n",
       "       [ 3.80758399,  5.12938916, 10.        ],\n",
       "       [ 6.34597331,  5.12938916, 10.        ],\n",
       "       [ 8.88436264,  5.12938916, 10.        ],\n",
       "       [11.42275197,  5.12938916, 10.        ],\n",
       "       [ 5.07677865,  7.3276988 , 10.        ],\n",
       "       [ 7.61516798,  7.3276988 , 10.        ],\n",
       "       [10.1535573 ,  7.3276988 , 10.        ],\n",
       "       [12.69194663,  7.3276988 , 10.        ],\n",
       "       [ 0.        ,  1.46553976, 12.07258621],\n",
       "       [ 2.53838933,  1.46553976, 12.07258621],\n",
       "       [ 5.07677865,  1.46553976, 12.07258621],\n",
       "       [ 7.61516798,  1.46553976, 12.07258621],\n",
       "       [ 1.26919466,  3.6638494 , 12.07258621],\n",
       "       [ 3.80758399,  3.6638494 , 12.07258621],\n",
       "       [ 6.34597331,  3.6638494 , 12.07258621],\n",
       "       [ 8.88436264,  3.6638494 , 12.07258621],\n",
       "       [ 2.53838933,  5.86215904, 12.07258621],\n",
       "       [ 5.07677865,  5.86215904, 12.07258621],\n",
       "       [ 7.61516798,  5.86215904, 12.07258621],\n",
       "       [10.1535573 ,  5.86215904, 12.07258621],\n",
       "       [ 3.80758399,  8.06046868, 12.07258621],\n",
       "       [ 6.34597331,  8.06046868, 12.07258621],\n",
       "       [ 8.88436264,  8.06046868, 12.07258621],\n",
       "       [11.42275197,  8.06046868, 12.07258621],\n",
       "       [ 0.        ,  0.        , 14.14517241],\n",
       "       [ 2.53838933,  0.        , 14.14517241],\n",
       "       [ 5.07677865,  0.        , 14.14517241],\n",
       "       [ 7.61516798,  0.        , 14.14517241],\n",
       "       [ 1.26919466,  2.19830964, 14.14517241],\n",
       "       [ 3.80758399,  2.19830964, 14.14517241],\n",
       "       [ 6.34597331,  2.19830964, 14.14517241],\n",
       "       [ 8.88436264,  2.19830964, 14.14517241],\n",
       "       [ 2.53838933,  4.39661928, 14.14517241],\n",
       "       [ 5.07677865,  4.39661928, 14.14517241],\n",
       "       [ 7.61516798,  4.39661928, 14.14517241],\n",
       "       [10.1535573 ,  4.39661928, 14.14517241],\n",
       "       [ 3.80758399,  6.59492892, 14.14517241],\n",
       "       [ 6.34597331,  6.59492892, 14.14517241],\n",
       "       [ 8.88436264,  6.59492892, 14.14517241],\n",
       "       [11.42275197,  6.59492892, 14.14517241],\n",
       "       [ 1.26919466,  0.73276988, 15.64517241]])"
      ]
     },
     "execution_count": 3,
     "metadata": {},
     "output_type": "execute_result"
    }
   ],
   "source": [
    "ads_height = float(input['adsorbant_init_h']) #modified initial conditions\n",
    "add_adsorbate(atoms, ads, height=ads_height, position=input['lattice'])\n",
    "#defined vacuum layer for no overlap between supercells NEEDS CONVERGENCE STUDY\n",
    "atoms.center(vacuum = 10, axis = 2) \n",
    "atoms.get_tags()\n",
    "atoms.get_positions()"
   ]
  },
  {
   "cell_type": "code",
   "execution_count": null,
   "id": "16d041c9",
   "metadata": {},
   "outputs": [],
   "source": [
    "view(atoms, viewer='x3d')\n"
   ]
  },
  {
   "cell_type": "code",
   "execution_count": null,
   "id": "290f26f0-0957-4c8b-9ab8-af43e21e79ff",
   "metadata": {},
   "outputs": [],
   "source": [
    "atoms[-1]"
   ]
  },
  {
   "cell_type": "code",
   "execution_count": 4,
   "id": "02cc7f77-dbaf-4f56-93a7-31d08de90aa9",
   "metadata": {},
   "outputs": [],
   "source": [
    "# Constrain all atoms except the adsorbate:\n",
    "from ase.constraints import FixAtoms\n",
    "fixed = list(range(len(atoms) - 1))\n",
    "atoms.constraints = [FixAtoms(indices=fixed)]"
   ]
  },
  {
   "cell_type": "markdown",
   "id": "f7787e67-50e4-40d6-8479-f21e7482709c",
   "metadata": {},
   "source": [
    "## Optimize adsorbate position usgin built-in BFGS from ASE."
   ]
  },
  {
   "cell_type": "code",
   "execution_count": 5,
   "id": "af55440d-dd81-4d14-a500-05ec8ef44691",
   "metadata": {},
   "outputs": [
    {
     "data": {
      "text/plain": [
       "True"
      ]
     },
     "execution_count": 5,
     "metadata": {},
     "output_type": "execute_result"
    }
   ],
   "source": [
    "from ase.optimize import BFGS\n",
    "atoms.calc = EMT()\n",
    "opt = BFGS(atoms, logfile=None)\n",
    "opt.run(fmax=0.0001)"
   ]
  },
  {
   "cell_type": "code",
   "execution_count": 6,
   "id": "db703af8-9232-49a5-929f-8a98460698dd",
   "metadata": {},
   "outputs": [
    {
     "name": "stdout",
     "output_type": "stream",
     "text": [
      "[ 1.26919466  0.73276988 15.5051332 ]\n",
      "11.22491804732231\n"
     ]
    }
   ],
   "source": [
    "# Final adsorbate position.\n",
    "### print(atoms[3].position)\n",
    "print(atoms[-1].position) # modified to get adsorbate position\n",
    "\n",
    "# Final energy.\n",
    "print(atoms.get_potential_energy())"
   ]
  },
  {
   "cell_type": "markdown",
   "id": "d80aa010-0d9f-4f24-82e7-3815ddcee72f",
   "metadata": {},
   "source": [
    "## Comparison with BoTorch"
   ]
  },
  {
   "cell_type": "code",
   "execution_count": 7,
   "id": "2e2c9010-1f6d-4fab-88eb-f5d7f6e8eb6d",
   "metadata": {},
   "outputs": [],
   "source": [
    "import numpy as np\n",
    "import torch"
   ]
  },
  {
   "cell_type": "code",
   "execution_count": 8,
   "id": "23cb127e-8f86-4b72-aee6-61d1476f5c4a",
   "metadata": {},
   "outputs": [
    {
     "name": "stdout",
     "output_type": "stream",
     "text": [
      "14.145172411082733\n"
     ]
    }
   ],
   "source": [
    "# Do not allow our atom to go inside the surface. \n",
    "# Also restrict x-y to the unit cell size.\n",
    "bulk_z_max = np.max(atoms[:-1].positions[:, 2]) #modified to account for changes in initial conditions + universal\n",
    "print(bulk_z_max)\n",
    "cell_x_min, cell_x_max = float(np.min(atoms.cell[:, 0])), float(np.max(atoms.cell[:, 0]))\n",
    "cell_y_min, cell_y_max = float(np.min(atoms.cell[:, 1])), float(np.max(atoms.cell[:, 1]))\n",
    "#z_adsorb_max = 3 * ads_height\n",
    "z_adsorb_max = atoms[-1].position[-1] + 5 # modified to account for changes in initial conditions"
   ]
  },
  {
   "cell_type": "markdown",
   "id": "e7f0e763",
   "metadata": {},
   "source": [
    "## Call functions from separate file instead of defining in notebook"
   ]
  },
  {
   "cell_type": "code",
   "execution_count": 9,
   "id": "22c8b38b",
   "metadata": {},
   "outputs": [],
   "source": [
    "import pickle\n",
    "with open('atoms.pkl', 'wb') as f:\n",
    "    pickle.dump(atoms, f)\n",
    "\n",
    "import Note_func"
   ]
  },
  {
   "cell_type": "markdown",
   "id": "0aed0dcf-c8b4-4586-a2fb-b374bdd683ce",
   "metadata": {},
   "source": [
    "## Set up the optimization experiment in Ax."
   ]
  },
  {
   "cell_type": "code",
   "execution_count": 10,
   "id": "e378595d-f852-42a5-8db7-7346fc0732c2",
   "metadata": {},
   "outputs": [
    {
     "name": "stderr",
     "output_type": "stream",
     "text": [
      "[WARNING 03-11 17:15:41] ax.service.utils.with_db_settings_base: Ax currently requires a sqlalchemy version below 2.0. This will be addressed in a future release. Disabling SQL storage in Ax for now, if you would like to use SQL storage please install Ax with mysql extras via `pip install ax-platform[mysql]`.\n",
      "[INFO 03-11 17:15:41] ax.service.ax_client: Starting optimization with verbose logging. To disable logging, set the `verbose_logging` argument to `False`. Note that float values in the logs are rounded to 6 decimal points.\n",
      "[INFO 03-11 17:15:41] ax.service.utils.instantiation: Inferred value type of ParameterType.FLOAT for parameter x. If that is not the expected value type, you can explicitly specify 'value_type' ('int', 'float', 'bool' or 'str') in parameter dict.\n",
      "[INFO 03-11 17:15:41] ax.service.utils.instantiation: Inferred value type of ParameterType.FLOAT for parameter y. If that is not the expected value type, you can explicitly specify 'value_type' ('int', 'float', 'bool' or 'str') in parameter dict.\n",
      "[INFO 03-11 17:15:41] ax.service.utils.instantiation: Inferred value type of ParameterType.FLOAT for parameter z. If that is not the expected value type, you can explicitly specify 'value_type' ('int', 'float', 'bool' or 'str') in parameter dict.\n",
      "[INFO 03-11 17:15:41] ax.service.utils.instantiation: Created search space: SearchSpace(parameters=[RangeParameter(name='x', parameter_type=FLOAT, range=[0.0, 10.15355730301497]), RangeParameter(name='y', parameter_type=FLOAT, range=[0.0, 8.793238563191975]), RangeParameter(name='z', parameter_type=FLOAT, range=[14.145172411082733, 20.505133198534637])], parameter_constraints=[]).\n"
     ]
    }
   ],
   "source": [
    "from ax.service.ax_client import AxClient\n",
    "from Note_func import gs\n",
    "from ax.service.utils.instantiation import ObjectiveProperties\n",
    "# Initialize the client - AxClient offers a convenient API to control the experiment\n",
    "ax_client = AxClient(generation_strategy=gs)\n",
    "\n",
    "ax_client.create_experiment(\n",
    "    name=\"adsorption_experiment\",\n",
    "    parameters=[\n",
    "        {\n",
    "            \"name\": \"x\",\n",
    "            \"type\": \"range\",\n",
    "            \"bounds\": [float(cell_x_min), float(cell_x_max)],\n",
    "        },\n",
    "        {\n",
    "            \"name\": \"y\",\n",
    "            \"type\": \"range\",\n",
    "            \"bounds\": [float(cell_y_min), float(cell_y_max)],\n",
    "        },\n",
    "        {\n",
    "            \"name\": \"z\",\n",
    "            \"type\": \"range\",\n",
    "            \"bounds\": [float(bulk_z_max), float(z_adsorb_max)], #I made a modification here, switched both bounds.\n",
    "        },\n",
    "    ],\n",
    "    objectives={\"adsorption_energy\": ObjectiveProperties(minimize=True)},\n",
    "    # parameter_constraints=[\"x1 + x2 <= 2.0\"],  # Optional.\n",
    "    # outcome_constraints=[\"l2norm <= 1.25\"],  # Optional.\n",
    ")"
   ]
  },
  {
   "cell_type": "markdown",
   "id": "e82d1d73-2d54-4fcf-8fe5-d504e37efed6",
   "metadata": {},
   "source": [
    "## Run the BO loop."
   ]
  },
  {
   "cell_type": "code",
   "execution_count": 11,
   "id": "a476257c-7a50-473f-9482-4c0d4fee48c7",
   "metadata": {},
   "outputs": [
    {
     "name": "stderr",
     "output_type": "stream",
     "text": [
      "[INFO 03-11 17:15:51] ax.service.ax_client: Generated new trial 0 with parameters {'x': 6.383844, 'y': 4.526849, 'z': 17.334144} using model Sobol.\n",
      "C:\\Users\\arnau\\AppData\\Roaming\\Python\\Python310\\site-packages\\ase\\atoms.py:967: VisibleDeprecationWarning: Use get_global_number_of_atoms() instead\n",
      "  warnings.warn('Use get_global_number_of_atoms() instead',\n",
      "[INFO 03-11 17:15:51] ax.service.ax_client: Completed trial 0 with data: {'adsorption_energy': (14.085002, 0.0)}.\n",
      "[INFO 03-11 17:15:51] ax.service.ax_client: Generated new trial 1 with parameters {'x': 2.526671, 'y': 2.704544, 'z': 16.63266} using model Sobol.\n",
      "C:\\Users\\arnau\\AppData\\Roaming\\Python\\Python310\\site-packages\\ase\\atoms.py:967: VisibleDeprecationWarning: Use get_global_number_of_atoms() instead\n",
      "  warnings.warn('Use get_global_number_of_atoms() instead',\n",
      "[INFO 03-11 17:15:51] ax.service.ax_client: Completed trial 1 with data: {'adsorption_energy': (13.116128, 0.0)}.\n",
      "[INFO 03-11 17:15:51] ax.service.ax_client: Generated new trial 2 with parameters {'x': 2.842006, 'y': 7.520354, 'z': 18.958385} using model Sobol.\n",
      "C:\\Users\\arnau\\AppData\\Roaming\\Python\\Python310\\site-packages\\ase\\atoms.py:967: VisibleDeprecationWarning: Use get_global_number_of_atoms() instead\n",
      "  warnings.warn('Use get_global_number_of_atoms() instead',\n",
      "[INFO 03-11 17:15:51] ax.service.ax_client: Completed trial 2 with data: {'adsorption_energy': (14.741501, 0.0)}.\n",
      "[INFO 03-11 17:15:51] ax.service.ax_client: Generated new trial 3 with parameters {'x': 8.602932, 'y': 0.808181, 'z': 15.08312} using model Sobol.\n",
      "C:\\Users\\arnau\\AppData\\Roaming\\Python\\Python310\\site-packages\\ase\\atoms.py:967: VisibleDeprecationWarning: Use get_global_number_of_atoms() instead\n",
      "  warnings.warn('Use get_global_number_of_atoms() instead',\n",
      "[INFO 03-11 17:15:51] ax.service.ax_client: Completed trial 3 with data: {'adsorption_energy': (12.182324, 0.0)}.\n",
      "[INFO 03-11 17:15:51] ax.service.ax_client: Generated new trial 4 with parameters {'x': 9.260425, 'y': 8.57192, 'z': 15.853069} using model Sobol.\n",
      "C:\\Users\\arnau\\AppData\\Roaming\\Python\\Python310\\site-packages\\ase\\atoms.py:967: VisibleDeprecationWarning: Use get_global_number_of_atoms() instead\n",
      "  warnings.warn('Use get_global_number_of_atoms() instead',\n",
      "[INFO 03-11 17:15:51] ax.service.ax_client: Completed trial 4 with data: {'adsorption_energy': (11.478172, 0.0)}.\n",
      "[INFO 03-11 17:15:51] ax.service.ax_client: Generated new trial 5 with parameters {'x': 4.689369, 'y': 1.819526, 'z': 18.139015} using model Sobol.\n",
      "C:\\Users\\arnau\\AppData\\Roaming\\Python\\Python310\\site-packages\\ase\\atoms.py:967: VisibleDeprecationWarning: Use get_global_number_of_atoms() instead\n",
      "  warnings.warn('Use get_global_number_of_atoms() instead',\n",
      "[INFO 03-11 17:15:51] ax.service.ax_client: Completed trial 5 with data: {'adsorption_energy': (14.572963, 0.0)}.\n",
      "[INFO 03-11 17:15:51] ax.service.ax_client: Generated new trial 6 with parameters {'x': 0.56156, 'y': 5.520081, 'z': 14.278685} using model Sobol.\n",
      "C:\\Users\\arnau\\AppData\\Roaming\\Python\\Python310\\site-packages\\ase\\atoms.py:967: VisibleDeprecationWarning: Use get_global_number_of_atoms() instead\n",
      "  warnings.warn('Use get_global_number_of_atoms() instead',\n",
      "[INFO 03-11 17:15:51] ax.service.ax_client: Completed trial 6 with data: {'adsorption_energy': (18.447064, 0.0)}.\n",
      "[INFO 03-11 17:15:51] ax.service.ax_client: Generated new trial 7 with parameters {'x': 5.767253, 'y': 3.770197, 'z': 19.738413} using model Sobol.\n",
      "C:\\Users\\arnau\\AppData\\Roaming\\Python\\Python310\\site-packages\\ase\\atoms.py:967: VisibleDeprecationWarning: Use get_global_number_of_atoms() instead\n",
      "  warnings.warn('Use get_global_number_of_atoms() instead',\n",
      "[INFO 03-11 17:15:51] ax.service.ax_client: Completed trial 7 with data: {'adsorption_energy': (14.798983, 0.0)}.\n",
      "[INFO 03-11 17:15:52] ax.service.ax_client: Generated new trial 8 with parameters {'x': 10.153557, 'y': 6.198431, 'z': 15.226027} using model BoTorch.\n",
      "C:\\Users\\arnau\\AppData\\Roaming\\Python\\Python310\\site-packages\\ase\\atoms.py:967: VisibleDeprecationWarning: Use get_global_number_of_atoms() instead\n",
      "  warnings.warn('Use get_global_number_of_atoms() instead',\n",
      "[INFO 03-11 17:15:52] ax.service.ax_client: Completed trial 8 with data: {'adsorption_energy': (11.675562, 0.0)}.\n",
      "[INFO 03-11 17:15:54] ax.service.ax_client: Generated new trial 9 with parameters {'x': 8.961199, 'y': 8.793239, 'z': 14.837731} using model BoTorch.\n",
      "C:\\Users\\arnau\\AppData\\Roaming\\Python\\Python310\\site-packages\\ase\\atoms.py:967: VisibleDeprecationWarning: Use get_global_number_of_atoms() instead\n",
      "  warnings.warn('Use get_global_number_of_atoms() instead',\n",
      "[INFO 03-11 17:15:54] ax.service.ax_client: Completed trial 9 with data: {'adsorption_energy': (14.344367, 0.0)}.\n",
      "[INFO 03-11 17:15:55] ax.service.ax_client: Generated new trial 10 with parameters {'x': 10.153557, 'y': 5.70746, 'z': 15.908005} using model BoTorch.\n",
      "C:\\Users\\arnau\\AppData\\Roaming\\Python\\Python310\\site-packages\\ase\\atoms.py:967: VisibleDeprecationWarning: Use get_global_number_of_atoms() instead\n",
      "  warnings.warn('Use get_global_number_of_atoms() instead',\n",
      "[INFO 03-11 17:15:55] ax.service.ax_client: Completed trial 10 with data: {'adsorption_energy': (11.644749, 0.0)}.\n",
      "[INFO 03-11 17:15:57] ax.service.ax_client: Generated new trial 11 with parameters {'x': 10.153557, 'y': 8.793239, 'z': 16.225955} using model BoTorch.\n",
      "C:\\Users\\arnau\\AppData\\Roaming\\Python\\Python310\\site-packages\\ase\\atoms.py:967: VisibleDeprecationWarning: Use get_global_number_of_atoms() instead\n",
      "  warnings.warn('Use get_global_number_of_atoms() instead',\n",
      "[INFO 03-11 17:15:57] ax.service.ax_client: Completed trial 11 with data: {'adsorption_energy': (11.984905, 0.0)}.\n",
      "[INFO 03-11 17:15:59] ax.service.ax_client: Generated new trial 12 with parameters {'x': 8.598475, 'y': 5.235856, 'z': 15.60529} using model BoTorch.\n",
      "C:\\Users\\arnau\\AppData\\Roaming\\Python\\Python310\\site-packages\\ase\\atoms.py:967: VisibleDeprecationWarning: Use get_global_number_of_atoms() instead\n",
      "  warnings.warn('Use get_global_number_of_atoms() instead',\n",
      "[INFO 03-11 17:15:59] ax.service.ax_client: Completed trial 12 with data: {'adsorption_energy': (11.2622, 0.0)}.\n",
      "[INFO 03-11 17:16:00] ax.service.ax_client: Generated new trial 13 with parameters {'x': 10.153557, 'y': 3.55985, 'z': 15.423607} using model BoTorch.\n",
      "C:\\Users\\arnau\\AppData\\Roaming\\Python\\Python310\\site-packages\\ase\\atoms.py:967: VisibleDeprecationWarning: Use get_global_number_of_atoms() instead\n",
      "  warnings.warn('Use get_global_number_of_atoms() instead',\n",
      "[INFO 03-11 17:16:00] ax.service.ax_client: Completed trial 13 with data: {'adsorption_energy': (11.774951, 0.0)}.\n",
      "[INFO 03-11 17:16:02] ax.service.ax_client: Generated new trial 14 with parameters {'x': 7.750062, 'y': 6.76091, 'z': 15.956312} using model BoTorch.\n",
      "C:\\Users\\arnau\\AppData\\Roaming\\Python\\Python310\\site-packages\\ase\\atoms.py:967: VisibleDeprecationWarning: Use get_global_number_of_atoms() instead\n",
      "  warnings.warn('Use get_global_number_of_atoms() instead',\n",
      "[INFO 03-11 17:16:02] ax.service.ax_client: Completed trial 14 with data: {'adsorption_energy': (11.694862, 0.0)}.\n",
      "[INFO 03-11 17:16:03] ax.service.ax_client: Generated new trial 15 with parameters {'x': 9.404773, 'y': 6.467805, 'z': 15.623368} using model BoTorch.\n",
      "C:\\Users\\arnau\\AppData\\Roaming\\Python\\Python310\\site-packages\\ase\\atoms.py:967: VisibleDeprecationWarning: Use get_global_number_of_atoms() instead\n",
      "  warnings.warn('Use get_global_number_of_atoms() instead',\n",
      "[INFO 03-11 17:16:03] ax.service.ax_client: Completed trial 15 with data: {'adsorption_energy': (11.591998, 0.0)}.\n",
      "[INFO 03-11 17:16:04] ax.service.ax_client: Generated new trial 16 with parameters {'x': 7.349359, 'y': 3.21774, 'z': 15.795249} using model BoTorch.\n",
      "C:\\Users\\arnau\\AppData\\Roaming\\Python\\Python310\\site-packages\\ase\\atoms.py:967: VisibleDeprecationWarning: Use get_global_number_of_atoms() instead\n",
      "  warnings.warn('Use get_global_number_of_atoms() instead',\n",
      "[INFO 03-11 17:16:04] ax.service.ax_client: Completed trial 16 with data: {'adsorption_energy': (11.443004, 0.0)}.\n",
      "[INFO 03-11 17:16:05] ax.service.ax_client: Generated new trial 17 with parameters {'x': 7.92876, 'y': 4.0637, 'z': 15.435802} using model BoTorch.\n",
      "C:\\Users\\arnau\\AppData\\Roaming\\Python\\Python310\\site-packages\\ase\\atoms.py:967: VisibleDeprecationWarning: Use get_global_number_of_atoms() instead\n",
      "  warnings.warn('Use get_global_number_of_atoms() instead',\n",
      "[INFO 03-11 17:16:05] ax.service.ax_client: Completed trial 17 with data: {'adsorption_energy': (12.780379, 0.0)}.\n",
      "[INFO 03-11 17:16:06] ax.service.ax_client: Generated new trial 18 with parameters {'x': 8.677676, 'y': 3.064658, 'z': 16.101964} using model BoTorch.\n",
      "C:\\Users\\arnau\\AppData\\Roaming\\Python\\Python310\\site-packages\\ase\\atoms.py:967: VisibleDeprecationWarning: Use get_global_number_of_atoms() instead\n",
      "  warnings.warn('Use get_global_number_of_atoms() instead',\n",
      "[INFO 03-11 17:16:06] ax.service.ax_client: Completed trial 18 with data: {'adsorption_energy': (11.926312, 0.0)}.\n",
      "[INFO 03-11 17:16:07] ax.service.ax_client: Generated new trial 19 with parameters {'x': 7.810512, 'y': 0.030599, 'z': 15.73674} using model BoTorch.\n",
      "C:\\Users\\arnau\\AppData\\Roaming\\Python\\Python310\\site-packages\\ase\\atoms.py:967: VisibleDeprecationWarning: Use get_global_number_of_atoms() instead\n",
      "  warnings.warn('Use get_global_number_of_atoms() instead',\n",
      "[INFO 03-11 17:16:07] ax.service.ax_client: Completed trial 19 with data: {'adsorption_energy': (11.531729, 0.0)}.\n",
      "[INFO 03-11 17:16:08] ax.service.ax_client: Generated new trial 20 with parameters {'x': 10.153557, 'y': 0.0, 'z': 15.508041} using model BoTorch.\n",
      "C:\\Users\\arnau\\AppData\\Roaming\\Python\\Python310\\site-packages\\ase\\atoms.py:967: VisibleDeprecationWarning: Use get_global_number_of_atoms() instead\n",
      "  warnings.warn('Use get_global_number_of_atoms() instead',\n",
      "[INFO 03-11 17:16:08] ax.service.ax_client: Completed trial 20 with data: {'adsorption_energy': (12.821264, 0.0)}.\n",
      "[INFO 03-11 17:16:09] ax.service.ax_client: Generated new trial 21 with parameters {'x': 6.062224, 'y': 1.361528, 'z': 15.963976} using model BoTorch.\n",
      "C:\\Users\\arnau\\AppData\\Roaming\\Python\\Python310\\site-packages\\ase\\atoms.py:967: VisibleDeprecationWarning: Use get_global_number_of_atoms() instead\n",
      "  warnings.warn('Use get_global_number_of_atoms() instead',\n",
      "[INFO 03-11 17:16:09] ax.service.ax_client: Completed trial 21 with data: {'adsorption_energy': (11.648291, 0.0)}.\n",
      "[INFO 03-11 17:16:11] ax.service.ax_client: Generated new trial 22 with parameters {'x': 8.690087, 'y': 4.919111, 'z': 15.810086} using model BoTorch.\n",
      "C:\\Users\\arnau\\AppData\\Roaming\\Python\\Python310\\site-packages\\ase\\atoms.py:967: VisibleDeprecationWarning: Use get_global_number_of_atoms() instead\n",
      "  warnings.warn('Use get_global_number_of_atoms() instead',\n",
      "[INFO 03-11 17:16:11] ax.service.ax_client: Completed trial 22 with data: {'adsorption_energy': (11.468347, 0.0)}.\n",
      "[INFO 03-11 17:16:12] ax.service.ax_client: Generated new trial 23 with parameters {'x': 7.782657, 'y': 1.683699, 'z': 15.712937} using model BoTorch.\n",
      "C:\\Users\\arnau\\AppData\\Roaming\\Python\\Python310\\site-packages\\ase\\atoms.py:967: VisibleDeprecationWarning: Use get_global_number_of_atoms() instead\n",
      "  warnings.warn('Use get_global_number_of_atoms() instead',\n",
      "[INFO 03-11 17:16:12] ax.service.ax_client: Completed trial 23 with data: {'adsorption_energy': (11.346061, 0.0)}.\n",
      "[INFO 03-11 17:16:13] ax.service.ax_client: Generated new trial 24 with parameters {'x': 10.153557, 'y': 5.2207, 'z': 15.519806} using model BoTorch.\n",
      "C:\\Users\\arnau\\AppData\\Roaming\\Python\\Python310\\site-packages\\ase\\atoms.py:967: VisibleDeprecationWarning: Use get_global_number_of_atoms() instead\n",
      "  warnings.warn('Use get_global_number_of_atoms() instead',\n",
      "[INFO 03-11 17:16:13] ax.service.ax_client: Completed trial 24 with data: {'adsorption_energy': (11.512561, 0.0)}.\n",
      "[INFO 03-11 17:16:14] ax.service.ax_client: Generated new trial 25 with parameters {'x': 5.619849, 'y': 0.0, 'z': 15.460542} using model BoTorch.\n",
      "C:\\Users\\arnau\\AppData\\Roaming\\Python\\Python310\\site-packages\\ase\\atoms.py:967: VisibleDeprecationWarning: Use get_global_number_of_atoms() instead\n",
      "  warnings.warn('Use get_global_number_of_atoms() instead',\n",
      "[INFO 03-11 17:16:14] ax.service.ax_client: Completed trial 25 with data: {'adsorption_energy': (12.328983, 0.0)}.\n",
      "[INFO 03-11 17:16:14] ax.service.ax_client: Generated new trial 26 with parameters {'x': 7.379039, 'y': 8.793239, 'z': 16.139587} using model BoTorch.\n",
      "C:\\Users\\arnau\\AppData\\Roaming\\Python\\Python310\\site-packages\\ase\\atoms.py:967: VisibleDeprecationWarning: Use get_global_number_of_atoms() instead\n",
      "  warnings.warn('Use get_global_number_of_atoms() instead',\n",
      "[INFO 03-11 17:16:14] ax.service.ax_client: Completed trial 26 with data: {'adsorption_energy': (11.812566, 0.0)}.\n",
      "[INFO 03-11 17:16:16] ax.service.ax_client: Generated new trial 27 with parameters {'x': 6.571169, 'y': 2.649628, 'z': 15.965012} using model BoTorch.\n",
      "C:\\Users\\arnau\\AppData\\Roaming\\Python\\Python310\\site-packages\\ase\\atoms.py:967: VisibleDeprecationWarning: Use get_global_number_of_atoms() instead\n",
      "  warnings.warn('Use get_global_number_of_atoms() instead',\n",
      "[INFO 03-11 17:16:16] ax.service.ax_client: Completed trial 27 with data: {'adsorption_energy': (11.546731, 0.0)}.\n",
      "[INFO 03-11 17:16:17] ax.service.ax_client: Generated new trial 28 with parameters {'x': 8.510524, 'y': 5.641292, 'z': 15.680431} using model BoTorch.\n",
      "C:\\Users\\arnau\\AppData\\Roaming\\Python\\Python310\\site-packages\\ase\\atoms.py:967: VisibleDeprecationWarning: Use get_global_number_of_atoms() instead\n",
      "  warnings.warn('Use get_global_number_of_atoms() instead',\n",
      "[INFO 03-11 17:16:17] ax.service.ax_client: Completed trial 28 with data: {'adsorption_energy': (11.315055, 0.0)}.\n",
      "[INFO 03-11 17:16:19] ax.service.ax_client: Generated new trial 29 with parameters {'x': 10.153557, 'y': 0.0, 'z': 14.87772} using model BoTorch.\n",
      "C:\\Users\\arnau\\AppData\\Roaming\\Python\\Python310\\site-packages\\ase\\atoms.py:967: VisibleDeprecationWarning: Use get_global_number_of_atoms() instead\n",
      "  warnings.warn('Use get_global_number_of_atoms() instead',\n",
      "[INFO 03-11 17:16:19] ax.service.ax_client: Completed trial 29 with data: {'adsorption_energy': (40.761794, 0.0)}.\n",
      "[INFO 03-11 17:16:24] ax.service.ax_client: Generated new trial 30 with parameters {'x': 7.514663, 'y': 0.0, 'z': 15.119718} using model BoTorch.\n",
      "C:\\Users\\arnau\\AppData\\Roaming\\Python\\Python310\\site-packages\\ase\\atoms.py:967: VisibleDeprecationWarning: Use get_global_number_of_atoms() instead\n",
      "  warnings.warn('Use get_global_number_of_atoms() instead',\n",
      "[INFO 03-11 17:16:24] ax.service.ax_client: Completed trial 30 with data: {'adsorption_energy': (22.405516, 0.0)}.\n",
      "[INFO 03-11 17:16:26] ax.service.ax_client: Generated new trial 31 with parameters {'x': 7.294767, 'y': 1.289163, 'z': 15.245653} using model BoTorch.\n",
      "C:\\Users\\arnau\\AppData\\Roaming\\Python\\Python310\\site-packages\\ase\\atoms.py:967: VisibleDeprecationWarning: Use get_global_number_of_atoms() instead\n",
      "  warnings.warn('Use get_global_number_of_atoms() instead',\n",
      "[INFO 03-11 17:16:26] ax.service.ax_client: Completed trial 31 with data: {'adsorption_energy': (11.638162, 0.0)}.\n",
      "[INFO 03-11 17:16:29] ax.service.ax_client: Generated new trial 32 with parameters {'x': 8.559235, 'y': 0.744363, 'z': 15.501891} using model BoTorch.\n",
      "C:\\Users\\arnau\\AppData\\Roaming\\Python\\Python310\\site-packages\\ase\\atoms.py:967: VisibleDeprecationWarning: Use get_global_number_of_atoms() instead\n",
      "  warnings.warn('Use get_global_number_of_atoms() instead',\n",
      "[INFO 03-11 17:16:29] ax.service.ax_client: Completed trial 32 with data: {'adsorption_energy': (11.263682, 0.0)}.\n",
      "[INFO 03-11 17:16:32] ax.service.ax_client: Generated new trial 33 with parameters {'x': 10.153557, 'y': 1.846173, 'z': 16.103716} using model BoTorch.\n",
      "C:\\Users\\arnau\\AppData\\Roaming\\Python\\Python310\\site-packages\\ase\\atoms.py:967: VisibleDeprecationWarning: Use get_global_number_of_atoms() instead\n",
      "  warnings.warn('Use get_global_number_of_atoms() instead',\n",
      "[INFO 03-11 17:16:32] ax.service.ax_client: Completed trial 33 with data: {'adsorption_energy': (12.014717, 0.0)}.\n",
      "[INFO 03-11 17:16:35] ax.service.ax_client: Generated new trial 34 with parameters {'x': 9.409623, 'y': 7.765544, 'z': 16.106845} using model BoTorch.\n",
      "C:\\Users\\arnau\\AppData\\Roaming\\Python\\Python310\\site-packages\\ase\\atoms.py:967: VisibleDeprecationWarning: Use get_global_number_of_atoms() instead\n",
      "  warnings.warn('Use get_global_number_of_atoms() instead',\n",
      "[INFO 03-11 17:16:35] ax.service.ax_client: Completed trial 34 with data: {'adsorption_energy': (12.006085, 0.0)}.\n",
      "[INFO 03-11 17:16:38] ax.service.ax_client: Generated new trial 35 with parameters {'x': 10.153557, 'y': 2.571113, 'z': 15.639814} using model BoTorch.\n",
      "C:\\Users\\arnau\\AppData\\Roaming\\Python\\Python310\\site-packages\\ase\\atoms.py:967: VisibleDeprecationWarning: Use get_global_number_of_atoms() instead\n",
      "  warnings.warn('Use get_global_number_of_atoms() instead',\n",
      "[INFO 03-11 17:16:38] ax.service.ax_client: Completed trial 35 with data: {'adsorption_energy': (11.282413, 0.0)}.\n",
      "[INFO 03-11 17:16:42] ax.service.ax_client: Generated new trial 36 with parameters {'x': 5.10134, 'y': 7.631605, 'z': 15.595107} using model BoTorch.\n",
      "C:\\Users\\arnau\\AppData\\Roaming\\Python\\Python310\\site-packages\\ase\\atoms.py:967: VisibleDeprecationWarning: Use get_global_number_of_atoms() instead\n",
      "  warnings.warn('Use get_global_number_of_atoms() instead',\n",
      "[INFO 03-11 17:16:42] ax.service.ax_client: Completed trial 36 with data: {'adsorption_energy': (11.265444, 0.0)}.\n",
      "[INFO 03-11 17:16:45] ax.service.ax_client: Generated new trial 37 with parameters {'x': 10.153557, 'y': 7.627992, 'z': 15.4492} using model BoTorch.\n",
      "C:\\Users\\arnau\\AppData\\Roaming\\Python\\Python310\\site-packages\\ase\\atoms.py:967: VisibleDeprecationWarning: Use get_global_number_of_atoms() instead\n",
      "  warnings.warn('Use get_global_number_of_atoms() instead',\n",
      "[INFO 03-11 17:16:45] ax.service.ax_client: Completed trial 37 with data: {'adsorption_energy': (11.305836, 0.0)}.\n",
      "[INFO 03-11 17:16:48] ax.service.ax_client: Generated new trial 38 with parameters {'x': 2.704289, 'y': 6.479884, 'z': 15.40053} using model BoTorch.\n",
      "C:\\Users\\arnau\\AppData\\Roaming\\Python\\Python310\\site-packages\\ase\\atoms.py:967: VisibleDeprecationWarning: Use get_global_number_of_atoms() instead\n",
      "  warnings.warn('Use get_global_number_of_atoms() instead',\n",
      "[INFO 03-11 17:16:48] ax.service.ax_client: Completed trial 38 with data: {'adsorption_energy': (11.449734, 0.0)}.\n",
      "[INFO 03-11 17:16:51] ax.service.ax_client: Generated new trial 39 with parameters {'x': 0.0, 'y': 5.775937, 'z': 15.886322} using model BoTorch.\n",
      "C:\\Users\\arnau\\AppData\\Roaming\\Python\\Python310\\site-packages\\ase\\atoms.py:967: VisibleDeprecationWarning: Use get_global_number_of_atoms() instead\n",
      "  warnings.warn('Use get_global_number_of_atoms() instead',\n",
      "[INFO 03-11 17:16:51] ax.service.ax_client: Completed trial 39 with data: {'adsorption_energy': (11.611099, 0.0)}.\n"
     ]
    }
   ],
   "source": [
    "from Note_func import evaluate\n",
    "N_BO_steps = input['n_bo_steps']\n",
    "for i in range(N_BO_steps):\n",
    "    parameters, trial_index = ax_client.get_next_trial()\n",
    "    # Local evaluation here can be replaced with deployment to external system.\n",
    "    ax_client.complete_trial(trial_index=trial_index, raw_data=evaluate(parameters))"
   ]
  },
  {
   "cell_type": "markdown",
   "id": "d6fde3ac",
   "metadata": {},
   "source": [
    "## (Optionnal : Load previous experiment result from JSON file)"
   ]
  },
  {
   "cell_type": "code",
   "execution_count": 14,
   "id": "9a7a11a7",
   "metadata": {},
   "outputs": [
    {
     "name": "stderr",
     "output_type": "stream",
     "text": [
      "c:\\Users\\arnau\\AppData\\Local\\Programs\\Python\\Python310\\lib\\site-packages\\ax\\core\\data.py:203: FutureWarning: Passing literal json to 'read_json' is deprecated and will be removed in a future version. To read from a literal string, wrap it in a 'StringIO' object.\n",
      "  args[\"df\"] = pd.read_json(args[\"df\"][\"value\"], dtype=False)\n",
      "c:\\Users\\arnau\\AppData\\Local\\Programs\\Python\\Python310\\lib\\site-packages\\ax\\core\\data.py:203: FutureWarning: Passing literal json to 'read_json' is deprecated and will be removed in a future version. To read from a literal string, wrap it in a 'StringIO' object.\n",
      "  args[\"df\"] = pd.read_json(args[\"df\"][\"value\"], dtype=False)\n",
      "c:\\Users\\arnau\\AppData\\Local\\Programs\\Python\\Python310\\lib\\site-packages\\ax\\core\\data.py:203: FutureWarning: Passing literal json to 'read_json' is deprecated and will be removed in a future version. To read from a literal string, wrap it in a 'StringIO' object.\n",
      "  args[\"df\"] = pd.read_json(args[\"df\"][\"value\"], dtype=False)\n",
      "c:\\Users\\arnau\\AppData\\Local\\Programs\\Python\\Python310\\lib\\site-packages\\ax\\core\\data.py:203: FutureWarning: Passing literal json to 'read_json' is deprecated and will be removed in a future version. To read from a literal string, wrap it in a 'StringIO' object.\n",
      "  args[\"df\"] = pd.read_json(args[\"df\"][\"value\"], dtype=False)\n",
      "c:\\Users\\arnau\\AppData\\Local\\Programs\\Python\\Python310\\lib\\site-packages\\ax\\core\\data.py:203: FutureWarning: Passing literal json to 'read_json' is deprecated and will be removed in a future version. To read from a literal string, wrap it in a 'StringIO' object.\n",
      "  args[\"df\"] = pd.read_json(args[\"df\"][\"value\"], dtype=False)\n",
      "c:\\Users\\arnau\\AppData\\Local\\Programs\\Python\\Python310\\lib\\site-packages\\ax\\core\\data.py:203: FutureWarning: Passing literal json to 'read_json' is deprecated and will be removed in a future version. To read from a literal string, wrap it in a 'StringIO' object.\n",
      "  args[\"df\"] = pd.read_json(args[\"df\"][\"value\"], dtype=False)\n",
      "c:\\Users\\arnau\\AppData\\Local\\Programs\\Python\\Python310\\lib\\site-packages\\ax\\core\\data.py:203: FutureWarning: Passing literal json to 'read_json' is deprecated and will be removed in a future version. To read from a literal string, wrap it in a 'StringIO' object.\n",
      "  args[\"df\"] = pd.read_json(args[\"df\"][\"value\"], dtype=False)\n",
      "c:\\Users\\arnau\\AppData\\Local\\Programs\\Python\\Python310\\lib\\site-packages\\ax\\core\\data.py:203: FutureWarning: Passing literal json to 'read_json' is deprecated and will be removed in a future version. To read from a literal string, wrap it in a 'StringIO' object.\n",
      "  args[\"df\"] = pd.read_json(args[\"df\"][\"value\"], dtype=False)\n",
      "c:\\Users\\arnau\\AppData\\Local\\Programs\\Python\\Python310\\lib\\site-packages\\ax\\core\\data.py:203: FutureWarning: Passing literal json to 'read_json' is deprecated and will be removed in a future version. To read from a literal string, wrap it in a 'StringIO' object.\n",
      "  args[\"df\"] = pd.read_json(args[\"df\"][\"value\"], dtype=False)\n",
      "c:\\Users\\arnau\\AppData\\Local\\Programs\\Python\\Python310\\lib\\site-packages\\ax\\core\\data.py:203: FutureWarning: Passing literal json to 'read_json' is deprecated and will be removed in a future version. To read from a literal string, wrap it in a 'StringIO' object.\n",
      "  args[\"df\"] = pd.read_json(args[\"df\"][\"value\"], dtype=False)\n",
      "c:\\Users\\arnau\\AppData\\Local\\Programs\\Python\\Python310\\lib\\site-packages\\ax\\core\\data.py:203: FutureWarning: Passing literal json to 'read_json' is deprecated and will be removed in a future version. To read from a literal string, wrap it in a 'StringIO' object.\n",
      "  args[\"df\"] = pd.read_json(args[\"df\"][\"value\"], dtype=False)\n",
      "c:\\Users\\arnau\\AppData\\Local\\Programs\\Python\\Python310\\lib\\site-packages\\ax\\core\\data.py:203: FutureWarning: Passing literal json to 'read_json' is deprecated and will be removed in a future version. To read from a literal string, wrap it in a 'StringIO' object.\n",
      "  args[\"df\"] = pd.read_json(args[\"df\"][\"value\"], dtype=False)\n",
      "c:\\Users\\arnau\\AppData\\Local\\Programs\\Python\\Python310\\lib\\site-packages\\ax\\core\\data.py:203: FutureWarning: Passing literal json to 'read_json' is deprecated and will be removed in a future version. To read from a literal string, wrap it in a 'StringIO' object.\n",
      "  args[\"df\"] = pd.read_json(args[\"df\"][\"value\"], dtype=False)\n",
      "c:\\Users\\arnau\\AppData\\Local\\Programs\\Python\\Python310\\lib\\site-packages\\ax\\core\\data.py:203: FutureWarning: Passing literal json to 'read_json' is deprecated and will be removed in a future version. To read from a literal string, wrap it in a 'StringIO' object.\n",
      "  args[\"df\"] = pd.read_json(args[\"df\"][\"value\"], dtype=False)\n",
      "c:\\Users\\arnau\\AppData\\Local\\Programs\\Python\\Python310\\lib\\site-packages\\ax\\core\\data.py:203: FutureWarning: Passing literal json to 'read_json' is deprecated and will be removed in a future version. To read from a literal string, wrap it in a 'StringIO' object.\n",
      "  args[\"df\"] = pd.read_json(args[\"df\"][\"value\"], dtype=False)\n",
      "c:\\Users\\arnau\\AppData\\Local\\Programs\\Python\\Python310\\lib\\site-packages\\ax\\core\\data.py:203: FutureWarning: Passing literal json to 'read_json' is deprecated and will be removed in a future version. To read from a literal string, wrap it in a 'StringIO' object.\n",
      "  args[\"df\"] = pd.read_json(args[\"df\"][\"value\"], dtype=False)\n",
      "c:\\Users\\arnau\\AppData\\Local\\Programs\\Python\\Python310\\lib\\site-packages\\ax\\core\\data.py:203: FutureWarning: Passing literal json to 'read_json' is deprecated and will be removed in a future version. To read from a literal string, wrap it in a 'StringIO' object.\n",
      "  args[\"df\"] = pd.read_json(args[\"df\"][\"value\"], dtype=False)\n",
      "c:\\Users\\arnau\\AppData\\Local\\Programs\\Python\\Python310\\lib\\site-packages\\ax\\core\\data.py:203: FutureWarning: Passing literal json to 'read_json' is deprecated and will be removed in a future version. To read from a literal string, wrap it in a 'StringIO' object.\n",
      "  args[\"df\"] = pd.read_json(args[\"df\"][\"value\"], dtype=False)\n",
      "c:\\Users\\arnau\\AppData\\Local\\Programs\\Python\\Python310\\lib\\site-packages\\ax\\core\\data.py:203: FutureWarning: Passing literal json to 'read_json' is deprecated and will be removed in a future version. To read from a literal string, wrap it in a 'StringIO' object.\n",
      "  args[\"df\"] = pd.read_json(args[\"df\"][\"value\"], dtype=False)\n",
      "c:\\Users\\arnau\\AppData\\Local\\Programs\\Python\\Python310\\lib\\site-packages\\ax\\core\\data.py:203: FutureWarning: Passing literal json to 'read_json' is deprecated and will be removed in a future version. To read from a literal string, wrap it in a 'StringIO' object.\n",
      "  args[\"df\"] = pd.read_json(args[\"df\"][\"value\"], dtype=False)\n",
      "c:\\Users\\arnau\\AppData\\Local\\Programs\\Python\\Python310\\lib\\site-packages\\ax\\core\\data.py:203: FutureWarning: Passing literal json to 'read_json' is deprecated and will be removed in a future version. To read from a literal string, wrap it in a 'StringIO' object.\n",
      "  args[\"df\"] = pd.read_json(args[\"df\"][\"value\"], dtype=False)\n",
      "c:\\Users\\arnau\\AppData\\Local\\Programs\\Python\\Python310\\lib\\site-packages\\ax\\core\\data.py:203: FutureWarning: Passing literal json to 'read_json' is deprecated and will be removed in a future version. To read from a literal string, wrap it in a 'StringIO' object.\n",
      "  args[\"df\"] = pd.read_json(args[\"df\"][\"value\"], dtype=False)\n",
      "c:\\Users\\arnau\\AppData\\Local\\Programs\\Python\\Python310\\lib\\site-packages\\ax\\core\\data.py:203: FutureWarning: Passing literal json to 'read_json' is deprecated and will be removed in a future version. To read from a literal string, wrap it in a 'StringIO' object.\n",
      "  args[\"df\"] = pd.read_json(args[\"df\"][\"value\"], dtype=False)\n",
      "c:\\Users\\arnau\\AppData\\Local\\Programs\\Python\\Python310\\lib\\site-packages\\ax\\core\\data.py:203: FutureWarning: Passing literal json to 'read_json' is deprecated and will be removed in a future version. To read from a literal string, wrap it in a 'StringIO' object.\n",
      "  args[\"df\"] = pd.read_json(args[\"df\"][\"value\"], dtype=False)\n",
      "c:\\Users\\arnau\\AppData\\Local\\Programs\\Python\\Python310\\lib\\site-packages\\ax\\core\\data.py:203: FutureWarning: Passing literal json to 'read_json' is deprecated and will be removed in a future version. To read from a literal string, wrap it in a 'StringIO' object.\n",
      "  args[\"df\"] = pd.read_json(args[\"df\"][\"value\"], dtype=False)\n",
      "c:\\Users\\arnau\\AppData\\Local\\Programs\\Python\\Python310\\lib\\site-packages\\ax\\core\\data.py:203: FutureWarning: Passing literal json to 'read_json' is deprecated and will be removed in a future version. To read from a literal string, wrap it in a 'StringIO' object.\n",
      "  args[\"df\"] = pd.read_json(args[\"df\"][\"value\"], dtype=False)\n",
      "c:\\Users\\arnau\\AppData\\Local\\Programs\\Python\\Python310\\lib\\site-packages\\ax\\core\\data.py:203: FutureWarning: Passing literal json to 'read_json' is deprecated and will be removed in a future version. To read from a literal string, wrap it in a 'StringIO' object.\n",
      "  args[\"df\"] = pd.read_json(args[\"df\"][\"value\"], dtype=False)\n",
      "c:\\Users\\arnau\\AppData\\Local\\Programs\\Python\\Python310\\lib\\site-packages\\ax\\core\\data.py:203: FutureWarning: Passing literal json to 'read_json' is deprecated and will be removed in a future version. To read from a literal string, wrap it in a 'StringIO' object.\n",
      "  args[\"df\"] = pd.read_json(args[\"df\"][\"value\"], dtype=False)\n",
      "c:\\Users\\arnau\\AppData\\Local\\Programs\\Python\\Python310\\lib\\site-packages\\ax\\core\\data.py:203: FutureWarning: Passing literal json to 'read_json' is deprecated and will be removed in a future version. To read from a literal string, wrap it in a 'StringIO' object.\n",
      "  args[\"df\"] = pd.read_json(args[\"df\"][\"value\"], dtype=False)\n",
      "c:\\Users\\arnau\\AppData\\Local\\Programs\\Python\\Python310\\lib\\site-packages\\ax\\core\\data.py:203: FutureWarning: Passing literal json to 'read_json' is deprecated and will be removed in a future version. To read from a literal string, wrap it in a 'StringIO' object.\n",
      "  args[\"df\"] = pd.read_json(args[\"df\"][\"value\"], dtype=False)\n",
      "c:\\Users\\arnau\\AppData\\Local\\Programs\\Python\\Python310\\lib\\site-packages\\ax\\core\\data.py:203: FutureWarning: Passing literal json to 'read_json' is deprecated and will be removed in a future version. To read from a literal string, wrap it in a 'StringIO' object.\n",
      "  args[\"df\"] = pd.read_json(args[\"df\"][\"value\"], dtype=False)\n",
      "c:\\Users\\arnau\\AppData\\Local\\Programs\\Python\\Python310\\lib\\site-packages\\ax\\core\\data.py:203: FutureWarning: Passing literal json to 'read_json' is deprecated and will be removed in a future version. To read from a literal string, wrap it in a 'StringIO' object.\n",
      "  args[\"df\"] = pd.read_json(args[\"df\"][\"value\"], dtype=False)\n",
      "c:\\Users\\arnau\\AppData\\Local\\Programs\\Python\\Python310\\lib\\site-packages\\ax\\core\\data.py:203: FutureWarning: Passing literal json to 'read_json' is deprecated and will be removed in a future version. To read from a literal string, wrap it in a 'StringIO' object.\n",
      "  args[\"df\"] = pd.read_json(args[\"df\"][\"value\"], dtype=False)\n",
      "c:\\Users\\arnau\\AppData\\Local\\Programs\\Python\\Python310\\lib\\site-packages\\ax\\core\\data.py:203: FutureWarning: Passing literal json to 'read_json' is deprecated and will be removed in a future version. To read from a literal string, wrap it in a 'StringIO' object.\n",
      "  args[\"df\"] = pd.read_json(args[\"df\"][\"value\"], dtype=False)\n",
      "c:\\Users\\arnau\\AppData\\Local\\Programs\\Python\\Python310\\lib\\site-packages\\ax\\core\\data.py:203: FutureWarning: Passing literal json to 'read_json' is deprecated and will be removed in a future version. To read from a literal string, wrap it in a 'StringIO' object.\n",
      "  args[\"df\"] = pd.read_json(args[\"df\"][\"value\"], dtype=False)\n",
      "c:\\Users\\arnau\\AppData\\Local\\Programs\\Python\\Python310\\lib\\site-packages\\ax\\core\\data.py:203: FutureWarning: Passing literal json to 'read_json' is deprecated and will be removed in a future version. To read from a literal string, wrap it in a 'StringIO' object.\n",
      "  args[\"df\"] = pd.read_json(args[\"df\"][\"value\"], dtype=False)\n",
      "c:\\Users\\arnau\\AppData\\Local\\Programs\\Python\\Python310\\lib\\site-packages\\ax\\core\\data.py:203: FutureWarning: Passing literal json to 'read_json' is deprecated and will be removed in a future version. To read from a literal string, wrap it in a 'StringIO' object.\n",
      "  args[\"df\"] = pd.read_json(args[\"df\"][\"value\"], dtype=False)\n",
      "c:\\Users\\arnau\\AppData\\Local\\Programs\\Python\\Python310\\lib\\site-packages\\ax\\core\\data.py:203: FutureWarning: Passing literal json to 'read_json' is deprecated and will be removed in a future version. To read from a literal string, wrap it in a 'StringIO' object.\n",
      "  args[\"df\"] = pd.read_json(args[\"df\"][\"value\"], dtype=False)\n",
      "c:\\Users\\arnau\\AppData\\Local\\Programs\\Python\\Python310\\lib\\site-packages\\ax\\core\\data.py:203: FutureWarning: Passing literal json to 'read_json' is deprecated and will be removed in a future version. To read from a literal string, wrap it in a 'StringIO' object.\n",
      "  args[\"df\"] = pd.read_json(args[\"df\"][\"value\"], dtype=False)\n",
      "c:\\Users\\arnau\\AppData\\Local\\Programs\\Python\\Python310\\lib\\site-packages\\ax\\core\\data.py:203: FutureWarning: Passing literal json to 'read_json' is deprecated and will be removed in a future version. To read from a literal string, wrap it in a 'StringIO' object.\n",
      "  args[\"df\"] = pd.read_json(args[\"df\"][\"value\"], dtype=False)\n",
      "[INFO 03-11 17:17:42] ax.service.ax_client: Starting optimization with verbose logging. To disable logging, set the `verbose_logging` argument to `False`. Note that float values in the logs are rounded to 6 decimal points.\n"
     ]
    }
   ],
   "source": [
    "ax_client = AxClient.load_from_json_file(filepath='test_json.json')"
   ]
  },
  {
   "cell_type": "markdown",
   "id": "27ccf88b-55bf-4a66-8c25-d9b7c16c1ae2",
   "metadata": {},
   "source": [
    "## Display Results"
   ]
  },
  {
   "cell_type": "code",
   "execution_count": 13,
   "id": "555aafbc-755f-43ce-a5a2-c923ad466e3a",
   "metadata": {},
   "outputs": [
    {
     "name": "stderr",
     "output_type": "stream",
     "text": [
      "[WARNING 03-11 17:17:04] ax.service.utils.report_utils: Column reason missing for all trials. Not appending column.\n"
     ]
    },
    {
     "data": {
      "text/html": [
       "<div>\n",
       "<style scoped>\n",
       "    .dataframe tbody tr th:only-of-type {\n",
       "        vertical-align: middle;\n",
       "    }\n",
       "\n",
       "    .dataframe tbody tr th {\n",
       "        vertical-align: top;\n",
       "    }\n",
       "\n",
       "    .dataframe thead th {\n",
       "        text-align: right;\n",
       "    }\n",
       "</style>\n",
       "<table border=\"1\" class=\"dataframe\">\n",
       "  <thead>\n",
       "    <tr style=\"text-align: right;\">\n",
       "      <th></th>\n",
       "      <th>trial_index</th>\n",
       "      <th>arm_name</th>\n",
       "      <th>trial_status</th>\n",
       "      <th>generation_method</th>\n",
       "      <th>adsorption_energy</th>\n",
       "      <th>x</th>\n",
       "      <th>y</th>\n",
       "      <th>z</th>\n",
       "    </tr>\n",
       "  </thead>\n",
       "  <tbody>\n",
       "    <tr>\n",
       "      <th>0</th>\n",
       "      <td>0</td>\n",
       "      <td>0_0</td>\n",
       "      <td>COMPLETED</td>\n",
       "      <td>Sobol</td>\n",
       "      <td>14.085002</td>\n",
       "      <td>6.383844</td>\n",
       "      <td>4.526849</td>\n",
       "      <td>17.334144</td>\n",
       "    </tr>\n",
       "    <tr>\n",
       "      <th>1</th>\n",
       "      <td>1</td>\n",
       "      <td>1_0</td>\n",
       "      <td>COMPLETED</td>\n",
       "      <td>Sobol</td>\n",
       "      <td>13.116128</td>\n",
       "      <td>2.526671</td>\n",
       "      <td>2.704544</td>\n",
       "      <td>16.632660</td>\n",
       "    </tr>\n",
       "    <tr>\n",
       "      <th>2</th>\n",
       "      <td>2</td>\n",
       "      <td>2_0</td>\n",
       "      <td>COMPLETED</td>\n",
       "      <td>Sobol</td>\n",
       "      <td>14.741501</td>\n",
       "      <td>2.842006</td>\n",
       "      <td>7.520354</td>\n",
       "      <td>18.958385</td>\n",
       "    </tr>\n",
       "    <tr>\n",
       "      <th>3</th>\n",
       "      <td>3</td>\n",
       "      <td>3_0</td>\n",
       "      <td>COMPLETED</td>\n",
       "      <td>Sobol</td>\n",
       "      <td>12.182324</td>\n",
       "      <td>8.602932</td>\n",
       "      <td>0.808181</td>\n",
       "      <td>15.083120</td>\n",
       "    </tr>\n",
       "    <tr>\n",
       "      <th>4</th>\n",
       "      <td>4</td>\n",
       "      <td>4_0</td>\n",
       "      <td>COMPLETED</td>\n",
       "      <td>Sobol</td>\n",
       "      <td>11.478172</td>\n",
       "      <td>9.260425</td>\n",
       "      <td>8.571920</td>\n",
       "      <td>15.853069</td>\n",
       "    </tr>\n",
       "    <tr>\n",
       "      <th>5</th>\n",
       "      <td>5</td>\n",
       "      <td>5_0</td>\n",
       "      <td>COMPLETED</td>\n",
       "      <td>Sobol</td>\n",
       "      <td>14.572963</td>\n",
       "      <td>4.689369</td>\n",
       "      <td>1.819526</td>\n",
       "      <td>18.139015</td>\n",
       "    </tr>\n",
       "    <tr>\n",
       "      <th>6</th>\n",
       "      <td>6</td>\n",
       "      <td>6_0</td>\n",
       "      <td>COMPLETED</td>\n",
       "      <td>Sobol</td>\n",
       "      <td>18.447064</td>\n",
       "      <td>0.561560</td>\n",
       "      <td>5.520081</td>\n",
       "      <td>14.278685</td>\n",
       "    </tr>\n",
       "    <tr>\n",
       "      <th>7</th>\n",
       "      <td>7</td>\n",
       "      <td>7_0</td>\n",
       "      <td>COMPLETED</td>\n",
       "      <td>Sobol</td>\n",
       "      <td>14.798983</td>\n",
       "      <td>5.767253</td>\n",
       "      <td>3.770197</td>\n",
       "      <td>19.738413</td>\n",
       "    </tr>\n",
       "    <tr>\n",
       "      <th>8</th>\n",
       "      <td>8</td>\n",
       "      <td>8_0</td>\n",
       "      <td>COMPLETED</td>\n",
       "      <td>BoTorch</td>\n",
       "      <td>11.675562</td>\n",
       "      <td>10.153557</td>\n",
       "      <td>6.198431</td>\n",
       "      <td>15.226027</td>\n",
       "    </tr>\n",
       "    <tr>\n",
       "      <th>9</th>\n",
       "      <td>9</td>\n",
       "      <td>9_0</td>\n",
       "      <td>COMPLETED</td>\n",
       "      <td>BoTorch</td>\n",
       "      <td>14.344367</td>\n",
       "      <td>8.961199</td>\n",
       "      <td>8.793239</td>\n",
       "      <td>14.837731</td>\n",
       "    </tr>\n",
       "    <tr>\n",
       "      <th>10</th>\n",
       "      <td>10</td>\n",
       "      <td>10_0</td>\n",
       "      <td>COMPLETED</td>\n",
       "      <td>BoTorch</td>\n",
       "      <td>11.644749</td>\n",
       "      <td>10.153557</td>\n",
       "      <td>5.707460</td>\n",
       "      <td>15.908005</td>\n",
       "    </tr>\n",
       "    <tr>\n",
       "      <th>11</th>\n",
       "      <td>11</td>\n",
       "      <td>11_0</td>\n",
       "      <td>COMPLETED</td>\n",
       "      <td>BoTorch</td>\n",
       "      <td>11.984905</td>\n",
       "      <td>10.153557</td>\n",
       "      <td>8.793239</td>\n",
       "      <td>16.225955</td>\n",
       "    </tr>\n",
       "    <tr>\n",
       "      <th>12</th>\n",
       "      <td>12</td>\n",
       "      <td>12_0</td>\n",
       "      <td>COMPLETED</td>\n",
       "      <td>BoTorch</td>\n",
       "      <td>11.262200</td>\n",
       "      <td>8.598475</td>\n",
       "      <td>5.235856</td>\n",
       "      <td>15.605290</td>\n",
       "    </tr>\n",
       "    <tr>\n",
       "      <th>13</th>\n",
       "      <td>13</td>\n",
       "      <td>13_0</td>\n",
       "      <td>COMPLETED</td>\n",
       "      <td>BoTorch</td>\n",
       "      <td>11.774951</td>\n",
       "      <td>10.153557</td>\n",
       "      <td>3.559850</td>\n",
       "      <td>15.423607</td>\n",
       "    </tr>\n",
       "    <tr>\n",
       "      <th>14</th>\n",
       "      <td>14</td>\n",
       "      <td>14_0</td>\n",
       "      <td>COMPLETED</td>\n",
       "      <td>BoTorch</td>\n",
       "      <td>11.694862</td>\n",
       "      <td>7.750062</td>\n",
       "      <td>6.760910</td>\n",
       "      <td>15.956312</td>\n",
       "    </tr>\n",
       "    <tr>\n",
       "      <th>15</th>\n",
       "      <td>15</td>\n",
       "      <td>15_0</td>\n",
       "      <td>COMPLETED</td>\n",
       "      <td>BoTorch</td>\n",
       "      <td>11.591998</td>\n",
       "      <td>9.404773</td>\n",
       "      <td>6.467805</td>\n",
       "      <td>15.623368</td>\n",
       "    </tr>\n",
       "    <tr>\n",
       "      <th>16</th>\n",
       "      <td>16</td>\n",
       "      <td>16_0</td>\n",
       "      <td>COMPLETED</td>\n",
       "      <td>BoTorch</td>\n",
       "      <td>11.443004</td>\n",
       "      <td>7.349359</td>\n",
       "      <td>3.217740</td>\n",
       "      <td>15.795249</td>\n",
       "    </tr>\n",
       "    <tr>\n",
       "      <th>17</th>\n",
       "      <td>17</td>\n",
       "      <td>17_0</td>\n",
       "      <td>COMPLETED</td>\n",
       "      <td>BoTorch</td>\n",
       "      <td>12.780379</td>\n",
       "      <td>7.928760</td>\n",
       "      <td>4.063700</td>\n",
       "      <td>15.435802</td>\n",
       "    </tr>\n",
       "    <tr>\n",
       "      <th>18</th>\n",
       "      <td>18</td>\n",
       "      <td>18_0</td>\n",
       "      <td>COMPLETED</td>\n",
       "      <td>BoTorch</td>\n",
       "      <td>11.926312</td>\n",
       "      <td>8.677676</td>\n",
       "      <td>3.064658</td>\n",
       "      <td>16.101964</td>\n",
       "    </tr>\n",
       "    <tr>\n",
       "      <th>19</th>\n",
       "      <td>19</td>\n",
       "      <td>19_0</td>\n",
       "      <td>COMPLETED</td>\n",
       "      <td>BoTorch</td>\n",
       "      <td>11.531729</td>\n",
       "      <td>7.810512</td>\n",
       "      <td>0.030599</td>\n",
       "      <td>15.736740</td>\n",
       "    </tr>\n",
       "    <tr>\n",
       "      <th>20</th>\n",
       "      <td>20</td>\n",
       "      <td>20_0</td>\n",
       "      <td>COMPLETED</td>\n",
       "      <td>BoTorch</td>\n",
       "      <td>12.821264</td>\n",
       "      <td>10.153557</td>\n",
       "      <td>0.000000</td>\n",
       "      <td>15.508041</td>\n",
       "    </tr>\n",
       "    <tr>\n",
       "      <th>21</th>\n",
       "      <td>21</td>\n",
       "      <td>21_0</td>\n",
       "      <td>COMPLETED</td>\n",
       "      <td>BoTorch</td>\n",
       "      <td>11.648291</td>\n",
       "      <td>6.062224</td>\n",
       "      <td>1.361528</td>\n",
       "      <td>15.963976</td>\n",
       "    </tr>\n",
       "    <tr>\n",
       "      <th>22</th>\n",
       "      <td>22</td>\n",
       "      <td>22_0</td>\n",
       "      <td>COMPLETED</td>\n",
       "      <td>BoTorch</td>\n",
       "      <td>11.468347</td>\n",
       "      <td>8.690087</td>\n",
       "      <td>4.919111</td>\n",
       "      <td>15.810086</td>\n",
       "    </tr>\n",
       "    <tr>\n",
       "      <th>23</th>\n",
       "      <td>23</td>\n",
       "      <td>23_0</td>\n",
       "      <td>COMPLETED</td>\n",
       "      <td>BoTorch</td>\n",
       "      <td>11.346061</td>\n",
       "      <td>7.782657</td>\n",
       "      <td>1.683699</td>\n",
       "      <td>15.712937</td>\n",
       "    </tr>\n",
       "    <tr>\n",
       "      <th>24</th>\n",
       "      <td>24</td>\n",
       "      <td>24_0</td>\n",
       "      <td>COMPLETED</td>\n",
       "      <td>BoTorch</td>\n",
       "      <td>11.512561</td>\n",
       "      <td>10.153557</td>\n",
       "      <td>5.220700</td>\n",
       "      <td>15.519806</td>\n",
       "    </tr>\n",
       "    <tr>\n",
       "      <th>25</th>\n",
       "      <td>25</td>\n",
       "      <td>25_0</td>\n",
       "      <td>COMPLETED</td>\n",
       "      <td>BoTorch</td>\n",
       "      <td>12.328983</td>\n",
       "      <td>5.619849</td>\n",
       "      <td>0.000000</td>\n",
       "      <td>15.460542</td>\n",
       "    </tr>\n",
       "    <tr>\n",
       "      <th>26</th>\n",
       "      <td>26</td>\n",
       "      <td>26_0</td>\n",
       "      <td>COMPLETED</td>\n",
       "      <td>BoTorch</td>\n",
       "      <td>11.812566</td>\n",
       "      <td>7.379039</td>\n",
       "      <td>8.793239</td>\n",
       "      <td>16.139587</td>\n",
       "    </tr>\n",
       "    <tr>\n",
       "      <th>27</th>\n",
       "      <td>27</td>\n",
       "      <td>27_0</td>\n",
       "      <td>COMPLETED</td>\n",
       "      <td>BoTorch</td>\n",
       "      <td>11.546731</td>\n",
       "      <td>6.571169</td>\n",
       "      <td>2.649628</td>\n",
       "      <td>15.965012</td>\n",
       "    </tr>\n",
       "    <tr>\n",
       "      <th>28</th>\n",
       "      <td>28</td>\n",
       "      <td>28_0</td>\n",
       "      <td>COMPLETED</td>\n",
       "      <td>BoTorch</td>\n",
       "      <td>11.315055</td>\n",
       "      <td>8.510524</td>\n",
       "      <td>5.641292</td>\n",
       "      <td>15.680431</td>\n",
       "    </tr>\n",
       "    <tr>\n",
       "      <th>29</th>\n",
       "      <td>29</td>\n",
       "      <td>29_0</td>\n",
       "      <td>COMPLETED</td>\n",
       "      <td>BoTorch</td>\n",
       "      <td>40.761794</td>\n",
       "      <td>10.153557</td>\n",
       "      <td>0.000000</td>\n",
       "      <td>14.877720</td>\n",
       "    </tr>\n",
       "    <tr>\n",
       "      <th>30</th>\n",
       "      <td>30</td>\n",
       "      <td>30_0</td>\n",
       "      <td>COMPLETED</td>\n",
       "      <td>BoTorch</td>\n",
       "      <td>22.405516</td>\n",
       "      <td>7.514663</td>\n",
       "      <td>0.000000</td>\n",
       "      <td>15.119718</td>\n",
       "    </tr>\n",
       "    <tr>\n",
       "      <th>31</th>\n",
       "      <td>31</td>\n",
       "      <td>31_0</td>\n",
       "      <td>COMPLETED</td>\n",
       "      <td>BoTorch</td>\n",
       "      <td>11.638162</td>\n",
       "      <td>7.294767</td>\n",
       "      <td>1.289163</td>\n",
       "      <td>15.245653</td>\n",
       "    </tr>\n",
       "    <tr>\n",
       "      <th>32</th>\n",
       "      <td>32</td>\n",
       "      <td>32_0</td>\n",
       "      <td>COMPLETED</td>\n",
       "      <td>BoTorch</td>\n",
       "      <td>11.263682</td>\n",
       "      <td>8.559235</td>\n",
       "      <td>0.744363</td>\n",
       "      <td>15.501891</td>\n",
       "    </tr>\n",
       "    <tr>\n",
       "      <th>33</th>\n",
       "      <td>33</td>\n",
       "      <td>33_0</td>\n",
       "      <td>COMPLETED</td>\n",
       "      <td>BoTorch</td>\n",
       "      <td>12.014717</td>\n",
       "      <td>10.153557</td>\n",
       "      <td>1.846173</td>\n",
       "      <td>16.103716</td>\n",
       "    </tr>\n",
       "    <tr>\n",
       "      <th>34</th>\n",
       "      <td>34</td>\n",
       "      <td>34_0</td>\n",
       "      <td>COMPLETED</td>\n",
       "      <td>BoTorch</td>\n",
       "      <td>12.006085</td>\n",
       "      <td>9.409623</td>\n",
       "      <td>7.765544</td>\n",
       "      <td>16.106845</td>\n",
       "    </tr>\n",
       "    <tr>\n",
       "      <th>35</th>\n",
       "      <td>35</td>\n",
       "      <td>35_0</td>\n",
       "      <td>COMPLETED</td>\n",
       "      <td>BoTorch</td>\n",
       "      <td>11.282413</td>\n",
       "      <td>10.153557</td>\n",
       "      <td>2.571113</td>\n",
       "      <td>15.639814</td>\n",
       "    </tr>\n",
       "    <tr>\n",
       "      <th>36</th>\n",
       "      <td>36</td>\n",
       "      <td>36_0</td>\n",
       "      <td>COMPLETED</td>\n",
       "      <td>BoTorch</td>\n",
       "      <td>11.265444</td>\n",
       "      <td>5.101340</td>\n",
       "      <td>7.631605</td>\n",
       "      <td>15.595107</td>\n",
       "    </tr>\n",
       "    <tr>\n",
       "      <th>37</th>\n",
       "      <td>37</td>\n",
       "      <td>37_0</td>\n",
       "      <td>COMPLETED</td>\n",
       "      <td>BoTorch</td>\n",
       "      <td>11.305836</td>\n",
       "      <td>10.153557</td>\n",
       "      <td>7.627992</td>\n",
       "      <td>15.449200</td>\n",
       "    </tr>\n",
       "    <tr>\n",
       "      <th>38</th>\n",
       "      <td>38</td>\n",
       "      <td>38_0</td>\n",
       "      <td>COMPLETED</td>\n",
       "      <td>BoTorch</td>\n",
       "      <td>11.449734</td>\n",
       "      <td>2.704289</td>\n",
       "      <td>6.479884</td>\n",
       "      <td>15.400530</td>\n",
       "    </tr>\n",
       "    <tr>\n",
       "      <th>39</th>\n",
       "      <td>39</td>\n",
       "      <td>39_0</td>\n",
       "      <td>COMPLETED</td>\n",
       "      <td>BoTorch</td>\n",
       "      <td>11.611099</td>\n",
       "      <td>0.000000</td>\n",
       "      <td>5.775937</td>\n",
       "      <td>15.886322</td>\n",
       "    </tr>\n",
       "  </tbody>\n",
       "</table>\n",
       "</div>"
      ],
      "text/plain": [
       "    trial_index arm_name trial_status generation_method  adsorption_energy  \\\n",
       "0             0      0_0    COMPLETED             Sobol          14.085002   \n",
       "1             1      1_0    COMPLETED             Sobol          13.116128   \n",
       "2             2      2_0    COMPLETED             Sobol          14.741501   \n",
       "3             3      3_0    COMPLETED             Sobol          12.182324   \n",
       "4             4      4_0    COMPLETED             Sobol          11.478172   \n",
       "5             5      5_0    COMPLETED             Sobol          14.572963   \n",
       "6             6      6_0    COMPLETED             Sobol          18.447064   \n",
       "7             7      7_0    COMPLETED             Sobol          14.798983   \n",
       "8             8      8_0    COMPLETED           BoTorch          11.675562   \n",
       "9             9      9_0    COMPLETED           BoTorch          14.344367   \n",
       "10           10     10_0    COMPLETED           BoTorch          11.644749   \n",
       "11           11     11_0    COMPLETED           BoTorch          11.984905   \n",
       "12           12     12_0    COMPLETED           BoTorch          11.262200   \n",
       "13           13     13_0    COMPLETED           BoTorch          11.774951   \n",
       "14           14     14_0    COMPLETED           BoTorch          11.694862   \n",
       "15           15     15_0    COMPLETED           BoTorch          11.591998   \n",
       "16           16     16_0    COMPLETED           BoTorch          11.443004   \n",
       "17           17     17_0    COMPLETED           BoTorch          12.780379   \n",
       "18           18     18_0    COMPLETED           BoTorch          11.926312   \n",
       "19           19     19_0    COMPLETED           BoTorch          11.531729   \n",
       "20           20     20_0    COMPLETED           BoTorch          12.821264   \n",
       "21           21     21_0    COMPLETED           BoTorch          11.648291   \n",
       "22           22     22_0    COMPLETED           BoTorch          11.468347   \n",
       "23           23     23_0    COMPLETED           BoTorch          11.346061   \n",
       "24           24     24_0    COMPLETED           BoTorch          11.512561   \n",
       "25           25     25_0    COMPLETED           BoTorch          12.328983   \n",
       "26           26     26_0    COMPLETED           BoTorch          11.812566   \n",
       "27           27     27_0    COMPLETED           BoTorch          11.546731   \n",
       "28           28     28_0    COMPLETED           BoTorch          11.315055   \n",
       "29           29     29_0    COMPLETED           BoTorch          40.761794   \n",
       "30           30     30_0    COMPLETED           BoTorch          22.405516   \n",
       "31           31     31_0    COMPLETED           BoTorch          11.638162   \n",
       "32           32     32_0    COMPLETED           BoTorch          11.263682   \n",
       "33           33     33_0    COMPLETED           BoTorch          12.014717   \n",
       "34           34     34_0    COMPLETED           BoTorch          12.006085   \n",
       "35           35     35_0    COMPLETED           BoTorch          11.282413   \n",
       "36           36     36_0    COMPLETED           BoTorch          11.265444   \n",
       "37           37     37_0    COMPLETED           BoTorch          11.305836   \n",
       "38           38     38_0    COMPLETED           BoTorch          11.449734   \n",
       "39           39     39_0    COMPLETED           BoTorch          11.611099   \n",
       "\n",
       "            x         y          z  \n",
       "0    6.383844  4.526849  17.334144  \n",
       "1    2.526671  2.704544  16.632660  \n",
       "2    2.842006  7.520354  18.958385  \n",
       "3    8.602932  0.808181  15.083120  \n",
       "4    9.260425  8.571920  15.853069  \n",
       "5    4.689369  1.819526  18.139015  \n",
       "6    0.561560  5.520081  14.278685  \n",
       "7    5.767253  3.770197  19.738413  \n",
       "8   10.153557  6.198431  15.226027  \n",
       "9    8.961199  8.793239  14.837731  \n",
       "10  10.153557  5.707460  15.908005  \n",
       "11  10.153557  8.793239  16.225955  \n",
       "12   8.598475  5.235856  15.605290  \n",
       "13  10.153557  3.559850  15.423607  \n",
       "14   7.750062  6.760910  15.956312  \n",
       "15   9.404773  6.467805  15.623368  \n",
       "16   7.349359  3.217740  15.795249  \n",
       "17   7.928760  4.063700  15.435802  \n",
       "18   8.677676  3.064658  16.101964  \n",
       "19   7.810512  0.030599  15.736740  \n",
       "20  10.153557  0.000000  15.508041  \n",
       "21   6.062224  1.361528  15.963976  \n",
       "22   8.690087  4.919111  15.810086  \n",
       "23   7.782657  1.683699  15.712937  \n",
       "24  10.153557  5.220700  15.519806  \n",
       "25   5.619849  0.000000  15.460542  \n",
       "26   7.379039  8.793239  16.139587  \n",
       "27   6.571169  2.649628  15.965012  \n",
       "28   8.510524  5.641292  15.680431  \n",
       "29  10.153557  0.000000  14.877720  \n",
       "30   7.514663  0.000000  15.119718  \n",
       "31   7.294767  1.289163  15.245653  \n",
       "32   8.559235  0.744363  15.501891  \n",
       "33  10.153557  1.846173  16.103716  \n",
       "34   9.409623  7.765544  16.106845  \n",
       "35  10.153557  2.571113  15.639814  \n",
       "36   5.101340  7.631605  15.595107  \n",
       "37  10.153557  7.627992  15.449200  \n",
       "38   2.704289  6.479884  15.400530  \n",
       "39   0.000000  5.775937  15.886322  "
      ]
     },
     "execution_count": 13,
     "metadata": {},
     "output_type": "execute_result"
    }
   ],
   "source": [
    "df = ax_client.get_trials_data_frame()\n",
    "#save df as csv file\n",
    "df.to_csv('trials_dataframe.csv', index=False)\n",
    "df"
   ]
  },
  {
   "cell_type": "markdown",
   "id": "d2fa89c4-d269-4c9b-87f8-354e0ec7946d",
   "metadata": {},
   "source": [
    "## Plot Evolution of adsorption energy."
   ]
  },
  {
   "cell_type": "code",
   "execution_count": 16,
   "id": "75ddb778-40c2-4fc2-bb87-49e2764a93b2",
   "metadata": {},
   "outputs": [
    {
     "data": {
      "application/vnd.plotly.v1+json": {
       "config": {
        "linkText": "Export to plot.ly",
        "plotlyServerURL": "https://plot.ly",
        "showLink": false
       },
       "data": [
        {
         "hoverinfo": "none",
         "legendgroup": "",
         "line": {
          "width": 0
         },
         "mode": "lines",
         "showlegend": false,
         "type": "scatter",
         "x": [
          1,
          2,
          3,
          4,
          5,
          6,
          7,
          8,
          9,
          10,
          11,
          12,
          13,
          14,
          15,
          16,
          17,
          18,
          19,
          20,
          21,
          22,
          23,
          24,
          25,
          26,
          27,
          28,
          29,
          30,
          31,
          32,
          33,
          34,
          35,
          36,
          37,
          38,
          39,
          40
         ],
         "y": [
          14.085002255017713,
          13.116127588359683,
          13.116127588359683,
          12.182324264682503,
          11.478172442818266,
          11.478172442818266,
          11.478172442818266,
          11.478172442818266,
          11.478172442818266,
          11.478172442818266,
          11.478172442818266,
          11.478172442818266,
          11.2621997214346,
          11.2621997214346,
          11.2621997214346,
          11.2621997214346,
          11.2621997214346,
          11.2621997214346,
          11.2621997214346,
          11.2621997214346,
          11.2621997214346,
          11.2621997214346,
          11.2621997214346,
          11.2621997214346,
          11.2621997214346,
          11.2621997214346,
          11.2621997214346,
          11.2621997214346,
          11.2621997214346,
          11.2621997214346,
          11.2621997214346,
          11.2621997214346,
          11.2621997214346,
          11.2621997214346,
          11.2621997214346,
          11.2621997214346,
          11.2621997214346,
          11.2621997214346,
          11.2621997214346,
          11.2621997214346
         ]
        },
        {
         "fill": "tonexty",
         "fillcolor": "rgba(128,177,211,0.3)",
         "legendgroup": "objective value",
         "line": {
          "color": "rgba(128,177,211,1)"
         },
         "mode": "lines",
         "name": "objective value",
         "text": [
          "<br><em>Parameterization:</em><br>x: 6.38384425803755<br>y: 4.526849467104068<br>z: 17.334143900229808",
          "<br><em>Parameterization:</em><br>x: 2.5266708730164344<br>y: 2.704543502993761<br>z: 16.632660234968018",
          "<br><em>Parameterization:</em><br>x: 2.8420060267457226<br>y: 7.520353502774273<br>z: 18.95838535439516",
          "<br><em>Parameterization:</em><br>x: 8.602931765536102<br>y: 0.8081809544743145<br>z: 15.083119548635171",
          "<br><em>Parameterization:</em><br>x: 9.260425171879039<br>y: 8.571920182104332<br>z: 15.853069123279873",
          "<br><em>Parameterization:</em><br>x: 4.689369391710778<br>y: 1.8195259119461802<br>z: 18.139015330363918",
          "<br><em>Parameterization:</em><br>x: 0.561560353481598<br>y: 5.520081369903443<br>z: 14.278684769042943",
          "<br><em>Parameterization:</em><br>x: 5.767252689559905<br>y: 3.770196783422714<br>z: 19.738412980392155",
          "<br><em>Parameterization:</em><br>x: 10.15355730301497<br>y: 6.19843082179713<br>z: 15.226026594749825",
          "<br><em>Parameterization:</em><br>x: 8.961198902329063<br>y: 8.793238563191975<br>z: 14.837730777140475",
          "<br><em>Parameterization:</em><br>x: 10.15355730301497<br>y: 5.7074598704473924<br>z: 15.90800494335636",
          "<br><em>Parameterization:</em><br>x: 10.15355730301497<br>y: 8.793238563191975<br>z: 16.225955477611635",
          "<br><em>Parameterization:</em><br>x: 8.598475181068272<br>y: 5.235855834212526<br>z: 15.605290109410767",
          "<br><em>Parameterization:</em><br>x: 10.15355730301497<br>y: 3.5598498072858864<br>z: 15.423607372218278",
          "<br><em>Parameterization:</em><br>x: 7.750062305348793<br>y: 6.760909927717692<br>z: 15.956311923049656",
          "<br><em>Parameterization:</em><br>x: 9.404773364385722<br>y: 6.467805328964249<br>z: 15.623368383493466",
          "<br><em>Parameterization:</em><br>x: 7.34935876407833<br>y: 3.2177396312374524<br>z: 15.795249320689347",
          "<br><em>Parameterization:</em><br>x: 7.928759610024071<br>y: 4.063699849787951<br>z: 15.435802076294307",
          "<br><em>Parameterization:</em><br>x: 8.677675642343376<br>y: 3.0646583609898475<br>z: 16.101963601860717",
          "<br><em>Parameterization:</em><br>x: 7.810511954128691<br>y: 0.030598942704228256<br>z: 15.736740407071899",
          "<br><em>Parameterization:</em><br>x: 10.15355730301497<br>y: 0.0<br>z: 15.508041333962995",
          "<br><em>Parameterization:</em><br>x: 6.062223937101689<br>y: 1.3615277100807466<br>z: 15.963976207189136",
          "<br><em>Parameterization:</em><br>x: 8.690086920113554<br>y: 4.91911070390227<br>z: 15.810086354101418",
          "<br><em>Parameterization:</em><br>x: 7.782657415150989<br>y: 1.6836991052809163<br>z: 15.71293711686763",
          "<br><em>Parameterization:</em><br>x: 10.15355730301497<br>y: 5.22070021089869<br>z: 15.519805500612712",
          "<br><em>Parameterization:</em><br>x: 5.619849205317886<br>y: 0.0<br>z: 15.460542162651375",
          "<br><em>Parameterization:</em><br>x: 7.379038644135021<br>y: 8.793238563191975<br>z: 16.13958700671932",
          "<br><em>Parameterization:</em><br>x: 6.571168603670553<br>y: 2.6496284529324114<br>z: 15.965012027355657",
          "<br><em>Parameterization:</em><br>x: 8.51052421013805<br>y: 5.641291958626544<br>z: 15.68043087580304",
          "<br><em>Parameterization:</em><br>x: 10.15355730301497<br>y: 0.0<br>z: 14.877720003858467",
          "<br><em>Parameterization:</em><br>x: 7.514662548717159<br>y: 0.0<br>z: 15.119718423579833",
          "<br><em>Parameterization:</em><br>x: 7.2947669842642995<br>y: 1.2891632902625016<br>z: 15.24565257706645",
          "<br><em>Parameterization:</em><br>x: 8.55923466266353<br>y: 0.7443631435254079<br>z: 15.501890658355679",
          "<br><em>Parameterization:</em><br>x: 10.15355730301497<br>y: 1.8461727560099654<br>z: 16.10371644915117",
          "<br><em>Parameterization:</em><br>x: 9.409623481962942<br>y: 7.765544229467582<br>z: 16.10684500392211",
          "<br><em>Parameterization:</em><br>x: 10.15355730301497<br>y: 2.5711132391189024<br>z: 15.639814229773148",
          "<br><em>Parameterization:</em><br>x: 5.101339958828252<br>y: 7.631605486287239<br>z: 15.595106577715034",
          "<br><em>Parameterization:</em><br>x: 10.15355730301497<br>y: 7.627992055921745<br>z: 15.449199797034463",
          "<br><em>Parameterization:</em><br>x: 2.704289109306426<br>y: 6.479884066930164<br>z: 15.400530333573519",
          "<br><em>Parameterization:</em><br>x: 0.0<br>y: 5.775937066123671<br>z: 15.886322296553836"
         ],
         "type": "scatter",
         "x": [
          1,
          2,
          3,
          4,
          5,
          6,
          7,
          8,
          9,
          10,
          11,
          12,
          13,
          14,
          15,
          16,
          17,
          18,
          19,
          20,
          21,
          22,
          23,
          24,
          25,
          26,
          27,
          28,
          29,
          30,
          31,
          32,
          33,
          34,
          35,
          36,
          37,
          38,
          39,
          40
         ],
         "y": [
          14.085002255017713,
          13.116127588359683,
          13.116127588359683,
          12.182324264682503,
          11.478172442818266,
          11.478172442818266,
          11.478172442818266,
          11.478172442818266,
          11.478172442818266,
          11.478172442818266,
          11.478172442818266,
          11.478172442818266,
          11.2621997214346,
          11.2621997214346,
          11.2621997214346,
          11.2621997214346,
          11.2621997214346,
          11.2621997214346,
          11.2621997214346,
          11.2621997214346,
          11.2621997214346,
          11.2621997214346,
          11.2621997214346,
          11.2621997214346,
          11.2621997214346,
          11.2621997214346,
          11.2621997214346,
          11.2621997214346,
          11.2621997214346,
          11.2621997214346,
          11.2621997214346,
          11.2621997214346,
          11.2621997214346,
          11.2621997214346,
          11.2621997214346,
          11.2621997214346,
          11.2621997214346,
          11.2621997214346,
          11.2621997214346,
          11.2621997214346
         ]
        },
        {
         "fill": "tonexty",
         "fillcolor": "rgba(128,177,211,0.3)",
         "hoverinfo": "none",
         "legendgroup": "",
         "line": {
          "width": 0
         },
         "mode": "lines",
         "showlegend": false,
         "type": "scatter",
         "x": [
          1,
          2,
          3,
          4,
          5,
          6,
          7,
          8,
          9,
          10,
          11,
          12,
          13,
          14,
          15,
          16,
          17,
          18,
          19,
          20,
          21,
          22,
          23,
          24,
          25,
          26,
          27,
          28,
          29,
          30,
          31,
          32,
          33,
          34,
          35,
          36,
          37,
          38,
          39,
          40
         ],
         "y": [
          14.085002255017713,
          13.116127588359683,
          13.116127588359683,
          12.182324264682503,
          11.478172442818266,
          11.478172442818266,
          11.478172442818266,
          11.478172442818266,
          11.478172442818266,
          11.478172442818266,
          11.478172442818266,
          11.478172442818266,
          11.2621997214346,
          11.2621997214346,
          11.2621997214346,
          11.2621997214346,
          11.2621997214346,
          11.2621997214346,
          11.2621997214346,
          11.2621997214346,
          11.2621997214346,
          11.2621997214346,
          11.2621997214346,
          11.2621997214346,
          11.2621997214346,
          11.2621997214346,
          11.2621997214346,
          11.2621997214346,
          11.2621997214346,
          11.2621997214346,
          11.2621997214346,
          11.2621997214346,
          11.2621997214346,
          11.2621997214346,
          11.2621997214346,
          11.2621997214346,
          11.2621997214346,
          11.2621997214346,
          11.2621997214346,
          11.2621997214346
         ]
        },
        {
         "line": {
          "color": "rgba(253,180,98,1)",
          "dash": "dash"
         },
         "mode": "lines",
         "name": "Optimum",
         "type": "scatter",
         "x": [
          1,
          40
         ],
         "y": [
          5,
          5
         ]
        },
        {
         "line": {
          "color": "rgba(141,211,199,1)",
          "dash": "dash"
         },
         "mode": "lines",
         "name": "model change",
         "type": "scatter",
         "x": [
          8,
          8
         ],
         "y": [
          5,
          14.085002255017713
         ]
        }
       ],
       "layout": {
        "showlegend": true,
        "template": {
         "data": {
          "bar": [
           {
            "error_x": {
             "color": "#2a3f5f"
            },
            "error_y": {
             "color": "#2a3f5f"
            },
            "marker": {
             "line": {
              "color": "#E5ECF6",
              "width": 0.5
             },
             "pattern": {
              "fillmode": "overlay",
              "size": 10,
              "solidity": 0.2
             }
            },
            "type": "bar"
           }
          ],
          "barpolar": [
           {
            "marker": {
             "line": {
              "color": "#E5ECF6",
              "width": 0.5
             },
             "pattern": {
              "fillmode": "overlay",
              "size": 10,
              "solidity": 0.2
             }
            },
            "type": "barpolar"
           }
          ],
          "carpet": [
           {
            "aaxis": {
             "endlinecolor": "#2a3f5f",
             "gridcolor": "white",
             "linecolor": "white",
             "minorgridcolor": "white",
             "startlinecolor": "#2a3f5f"
            },
            "baxis": {
             "endlinecolor": "#2a3f5f",
             "gridcolor": "white",
             "linecolor": "white",
             "minorgridcolor": "white",
             "startlinecolor": "#2a3f5f"
            },
            "type": "carpet"
           }
          ],
          "choropleth": [
           {
            "colorbar": {
             "outlinewidth": 0,
             "ticks": ""
            },
            "type": "choropleth"
           }
          ],
          "contour": [
           {
            "colorbar": {
             "outlinewidth": 0,
             "ticks": ""
            },
            "colorscale": [
             [
              0,
              "#0d0887"
             ],
             [
              0.1111111111111111,
              "#46039f"
             ],
             [
              0.2222222222222222,
              "#7201a8"
             ],
             [
              0.3333333333333333,
              "#9c179e"
             ],
             [
              0.4444444444444444,
              "#bd3786"
             ],
             [
              0.5555555555555556,
              "#d8576b"
             ],
             [
              0.6666666666666666,
              "#ed7953"
             ],
             [
              0.7777777777777778,
              "#fb9f3a"
             ],
             [
              0.8888888888888888,
              "#fdca26"
             ],
             [
              1,
              "#f0f921"
             ]
            ],
            "type": "contour"
           }
          ],
          "contourcarpet": [
           {
            "colorbar": {
             "outlinewidth": 0,
             "ticks": ""
            },
            "type": "contourcarpet"
           }
          ],
          "heatmap": [
           {
            "colorbar": {
             "outlinewidth": 0,
             "ticks": ""
            },
            "colorscale": [
             [
              0,
              "#0d0887"
             ],
             [
              0.1111111111111111,
              "#46039f"
             ],
             [
              0.2222222222222222,
              "#7201a8"
             ],
             [
              0.3333333333333333,
              "#9c179e"
             ],
             [
              0.4444444444444444,
              "#bd3786"
             ],
             [
              0.5555555555555556,
              "#d8576b"
             ],
             [
              0.6666666666666666,
              "#ed7953"
             ],
             [
              0.7777777777777778,
              "#fb9f3a"
             ],
             [
              0.8888888888888888,
              "#fdca26"
             ],
             [
              1,
              "#f0f921"
             ]
            ],
            "type": "heatmap"
           }
          ],
          "heatmapgl": [
           {
            "colorbar": {
             "outlinewidth": 0,
             "ticks": ""
            },
            "colorscale": [
             [
              0,
              "#0d0887"
             ],
             [
              0.1111111111111111,
              "#46039f"
             ],
             [
              0.2222222222222222,
              "#7201a8"
             ],
             [
              0.3333333333333333,
              "#9c179e"
             ],
             [
              0.4444444444444444,
              "#bd3786"
             ],
             [
              0.5555555555555556,
              "#d8576b"
             ],
             [
              0.6666666666666666,
              "#ed7953"
             ],
             [
              0.7777777777777778,
              "#fb9f3a"
             ],
             [
              0.8888888888888888,
              "#fdca26"
             ],
             [
              1,
              "#f0f921"
             ]
            ],
            "type": "heatmapgl"
           }
          ],
          "histogram": [
           {
            "marker": {
             "pattern": {
              "fillmode": "overlay",
              "size": 10,
              "solidity": 0.2
             }
            },
            "type": "histogram"
           }
          ],
          "histogram2d": [
           {
            "colorbar": {
             "outlinewidth": 0,
             "ticks": ""
            },
            "colorscale": [
             [
              0,
              "#0d0887"
             ],
             [
              0.1111111111111111,
              "#46039f"
             ],
             [
              0.2222222222222222,
              "#7201a8"
             ],
             [
              0.3333333333333333,
              "#9c179e"
             ],
             [
              0.4444444444444444,
              "#bd3786"
             ],
             [
              0.5555555555555556,
              "#d8576b"
             ],
             [
              0.6666666666666666,
              "#ed7953"
             ],
             [
              0.7777777777777778,
              "#fb9f3a"
             ],
             [
              0.8888888888888888,
              "#fdca26"
             ],
             [
              1,
              "#f0f921"
             ]
            ],
            "type": "histogram2d"
           }
          ],
          "histogram2dcontour": [
           {
            "colorbar": {
             "outlinewidth": 0,
             "ticks": ""
            },
            "colorscale": [
             [
              0,
              "#0d0887"
             ],
             [
              0.1111111111111111,
              "#46039f"
             ],
             [
              0.2222222222222222,
              "#7201a8"
             ],
             [
              0.3333333333333333,
              "#9c179e"
             ],
             [
              0.4444444444444444,
              "#bd3786"
             ],
             [
              0.5555555555555556,
              "#d8576b"
             ],
             [
              0.6666666666666666,
              "#ed7953"
             ],
             [
              0.7777777777777778,
              "#fb9f3a"
             ],
             [
              0.8888888888888888,
              "#fdca26"
             ],
             [
              1,
              "#f0f921"
             ]
            ],
            "type": "histogram2dcontour"
           }
          ],
          "mesh3d": [
           {
            "colorbar": {
             "outlinewidth": 0,
             "ticks": ""
            },
            "type": "mesh3d"
           }
          ],
          "parcoords": [
           {
            "line": {
             "colorbar": {
              "outlinewidth": 0,
              "ticks": ""
             }
            },
            "type": "parcoords"
           }
          ],
          "pie": [
           {
            "automargin": true,
            "type": "pie"
           }
          ],
          "scatter": [
           {
            "fillpattern": {
             "fillmode": "overlay",
             "size": 10,
             "solidity": 0.2
            },
            "type": "scatter"
           }
          ],
          "scatter3d": [
           {
            "line": {
             "colorbar": {
              "outlinewidth": 0,
              "ticks": ""
             }
            },
            "marker": {
             "colorbar": {
              "outlinewidth": 0,
              "ticks": ""
             }
            },
            "type": "scatter3d"
           }
          ],
          "scattercarpet": [
           {
            "marker": {
             "colorbar": {
              "outlinewidth": 0,
              "ticks": ""
             }
            },
            "type": "scattercarpet"
           }
          ],
          "scattergeo": [
           {
            "marker": {
             "colorbar": {
              "outlinewidth": 0,
              "ticks": ""
             }
            },
            "type": "scattergeo"
           }
          ],
          "scattergl": [
           {
            "marker": {
             "colorbar": {
              "outlinewidth": 0,
              "ticks": ""
             }
            },
            "type": "scattergl"
           }
          ],
          "scattermapbox": [
           {
            "marker": {
             "colorbar": {
              "outlinewidth": 0,
              "ticks": ""
             }
            },
            "type": "scattermapbox"
           }
          ],
          "scatterpolar": [
           {
            "marker": {
             "colorbar": {
              "outlinewidth": 0,
              "ticks": ""
             }
            },
            "type": "scatterpolar"
           }
          ],
          "scatterpolargl": [
           {
            "marker": {
             "colorbar": {
              "outlinewidth": 0,
              "ticks": ""
             }
            },
            "type": "scatterpolargl"
           }
          ],
          "scatterternary": [
           {
            "marker": {
             "colorbar": {
              "outlinewidth": 0,
              "ticks": ""
             }
            },
            "type": "scatterternary"
           }
          ],
          "surface": [
           {
            "colorbar": {
             "outlinewidth": 0,
             "ticks": ""
            },
            "colorscale": [
             [
              0,
              "#0d0887"
             ],
             [
              0.1111111111111111,
              "#46039f"
             ],
             [
              0.2222222222222222,
              "#7201a8"
             ],
             [
              0.3333333333333333,
              "#9c179e"
             ],
             [
              0.4444444444444444,
              "#bd3786"
             ],
             [
              0.5555555555555556,
              "#d8576b"
             ],
             [
              0.6666666666666666,
              "#ed7953"
             ],
             [
              0.7777777777777778,
              "#fb9f3a"
             ],
             [
              0.8888888888888888,
              "#fdca26"
             ],
             [
              1,
              "#f0f921"
             ]
            ],
            "type": "surface"
           }
          ],
          "table": [
           {
            "cells": {
             "fill": {
              "color": "#EBF0F8"
             },
             "line": {
              "color": "white"
             }
            },
            "header": {
             "fill": {
              "color": "#C8D4E3"
             },
             "line": {
              "color": "white"
             }
            },
            "type": "table"
           }
          ]
         },
         "layout": {
          "annotationdefaults": {
           "arrowcolor": "#2a3f5f",
           "arrowhead": 0,
           "arrowwidth": 1
          },
          "autotypenumbers": "strict",
          "coloraxis": {
           "colorbar": {
            "outlinewidth": 0,
            "ticks": ""
           }
          },
          "colorscale": {
           "diverging": [
            [
             0,
             "#8e0152"
            ],
            [
             0.1,
             "#c51b7d"
            ],
            [
             0.2,
             "#de77ae"
            ],
            [
             0.3,
             "#f1b6da"
            ],
            [
             0.4,
             "#fde0ef"
            ],
            [
             0.5,
             "#f7f7f7"
            ],
            [
             0.6,
             "#e6f5d0"
            ],
            [
             0.7,
             "#b8e186"
            ],
            [
             0.8,
             "#7fbc41"
            ],
            [
             0.9,
             "#4d9221"
            ],
            [
             1,
             "#276419"
            ]
           ],
           "sequential": [
            [
             0,
             "#0d0887"
            ],
            [
             0.1111111111111111,
             "#46039f"
            ],
            [
             0.2222222222222222,
             "#7201a8"
            ],
            [
             0.3333333333333333,
             "#9c179e"
            ],
            [
             0.4444444444444444,
             "#bd3786"
            ],
            [
             0.5555555555555556,
             "#d8576b"
            ],
            [
             0.6666666666666666,
             "#ed7953"
            ],
            [
             0.7777777777777778,
             "#fb9f3a"
            ],
            [
             0.8888888888888888,
             "#fdca26"
            ],
            [
             1,
             "#f0f921"
            ]
           ],
           "sequentialminus": [
            [
             0,
             "#0d0887"
            ],
            [
             0.1111111111111111,
             "#46039f"
            ],
            [
             0.2222222222222222,
             "#7201a8"
            ],
            [
             0.3333333333333333,
             "#9c179e"
            ],
            [
             0.4444444444444444,
             "#bd3786"
            ],
            [
             0.5555555555555556,
             "#d8576b"
            ],
            [
             0.6666666666666666,
             "#ed7953"
            ],
            [
             0.7777777777777778,
             "#fb9f3a"
            ],
            [
             0.8888888888888888,
             "#fdca26"
            ],
            [
             1,
             "#f0f921"
            ]
           ]
          },
          "colorway": [
           "#636efa",
           "#EF553B",
           "#00cc96",
           "#ab63fa",
           "#FFA15A",
           "#19d3f3",
           "#FF6692",
           "#B6E880",
           "#FF97FF",
           "#FECB52"
          ],
          "font": {
           "color": "#2a3f5f"
          },
          "geo": {
           "bgcolor": "white",
           "lakecolor": "white",
           "landcolor": "#E5ECF6",
           "showlakes": true,
           "showland": true,
           "subunitcolor": "white"
          },
          "hoverlabel": {
           "align": "left"
          },
          "hovermode": "closest",
          "mapbox": {
           "style": "light"
          },
          "paper_bgcolor": "white",
          "plot_bgcolor": "#E5ECF6",
          "polar": {
           "angularaxis": {
            "gridcolor": "white",
            "linecolor": "white",
            "ticks": ""
           },
           "bgcolor": "#E5ECF6",
           "radialaxis": {
            "gridcolor": "white",
            "linecolor": "white",
            "ticks": ""
           }
          },
          "scene": {
           "xaxis": {
            "backgroundcolor": "#E5ECF6",
            "gridcolor": "white",
            "gridwidth": 2,
            "linecolor": "white",
            "showbackground": true,
            "ticks": "",
            "zerolinecolor": "white"
           },
           "yaxis": {
            "backgroundcolor": "#E5ECF6",
            "gridcolor": "white",
            "gridwidth": 2,
            "linecolor": "white",
            "showbackground": true,
            "ticks": "",
            "zerolinecolor": "white"
           },
           "zaxis": {
            "backgroundcolor": "#E5ECF6",
            "gridcolor": "white",
            "gridwidth": 2,
            "linecolor": "white",
            "showbackground": true,
            "ticks": "",
            "zerolinecolor": "white"
           }
          },
          "shapedefaults": {
           "line": {
            "color": "#2a3f5f"
           }
          },
          "ternary": {
           "aaxis": {
            "gridcolor": "white",
            "linecolor": "white",
            "ticks": ""
           },
           "baxis": {
            "gridcolor": "white",
            "linecolor": "white",
            "ticks": ""
           },
           "bgcolor": "#E5ECF6",
           "caxis": {
            "gridcolor": "white",
            "linecolor": "white",
            "ticks": ""
           }
          },
          "title": {
           "x": 0.05
          },
          "xaxis": {
           "automargin": true,
           "gridcolor": "white",
           "linecolor": "white",
           "ticks": "",
           "title": {
            "standoff": 15
           },
           "zerolinecolor": "white",
           "zerolinewidth": 2
          },
          "yaxis": {
           "automargin": true,
           "gridcolor": "white",
           "linecolor": "white",
           "ticks": "",
           "title": {
            "standoff": 15
           },
           "zerolinecolor": "white",
           "zerolinewidth": 2
          }
         }
        },
        "title": {
         "text": "Model performance vs. # of iterations"
        },
        "xaxis": {
         "title": {
          "text": "Iteration"
         }
        },
        "yaxis": {
         "title": {
          "text": "Adsorption_energy"
         }
        }
       }
      }
     },
     "metadata": {},
     "output_type": "display_data"
    }
   ],
   "source": [
    "from ax.utils.notebook.plotting import render\n",
    "# from botorch.acquisition\n",
    "\n",
    "render(ax_client.get_optimization_trace(objective_optimum=0.0)) #objective optimum should be the bare surface without additionnal atom\n"
   ]
  },
  {
   "cell_type": "markdown",
   "id": "0c009b11-1989-4f7b-9746-e56cc55ae920",
   "metadata": {},
   "source": [
    "## Plot learned response surface."
   ]
  },
  {
   "cell_type": "code",
   "execution_count": null,
   "id": "3a5cba0c-5fc3-41ee-b222-1a372d652ba0",
   "metadata": {},
   "outputs": [],
   "source": [
    "from ax.plot.contour import interact_contour\n",
    "model = ax_client.generation_strategy.model\n",
    "render(interact_contour(model=model, metric_name=\"adsorption_energy\",\n",
    "                       slice_values={'x': 1.263480218001716, 'y': 1.0, 'z': 3.01}))"
   ]
  },
  {
   "cell_type": "code",
   "execution_count": null,
   "id": "2834fdea-36d0-41d0-a3b2-2af945cd966a",
   "metadata": {},
   "outputs": [],
   "source": [
    "ax_client.get_best_parameters()\n",
    "#Modify atoms to represent the best solution\n",
    "params = ax_client.get_best_parameters()[:1][0]\n",
    "atoms[-1].position[:] = params['x'],params['y'],params['z']\n",
    "print(ax_client.get_best_parameters())"
   ]
  },
  {
   "cell_type": "markdown",
   "id": "a40b82cb",
   "metadata": {},
   "source": [
    "## Save Ax Client and experiment as JSON file"
   ]
  },
  {
   "cell_type": "code",
   "execution_count": null,
   "id": "941c24cd",
   "metadata": {},
   "outputs": [],
   "source": [
    "ax_client.save_to_json_file(filepath= 'test_json.json')"
   ]
  },
  {
   "cell_type": "markdown",
   "id": "36e96968-cff1-4e51-88c7-b79bf84ea0da",
   "metadata": {},
   "source": [
    "## Visualize the resulting chemical system."
   ]
  },
  {
   "cell_type": "code",
   "execution_count": null,
   "id": "a8f4e93a-b20f-4f8e-a0aa-6e994ac8993d",
   "metadata": {},
   "outputs": [],
   "source": [
    "from ase.visualize import view\n",
    "view(atoms, viewer='x3d')"
   ]
  },
  {
   "cell_type": "code",
   "execution_count": null,
   "id": "a7207210-3f5a-4098-802b-860365ffd016",
   "metadata": {},
   "outputs": [],
   "source": [
    "import matplotlib.pyplot as plt\n",
    "from ase.visualize.plot import plot_atoms\n",
    "\n",
    "fig, ax = plt.subplots()\n",
    "\n",
    "plot_atoms(atoms, ax, radii=0.5, rotation=('90x,45y,0z'))\n",
    "#plot_atoms(atoms, ax, radii=0.5, rotation=('0x,0y,0z'))\n",
    "\n",
    "\n",
    "fig.savefig(\"ase_slab.png\")"
   ]
  }
 ],
 "metadata": {
  "kernelspec": {
   "display_name": "Python 3 (ipykernel)",
   "language": "python",
   "name": "python3"
  },
  "language_info": {
   "codemirror_mode": {
    "name": "ipython",
    "version": 3
   },
   "file_extension": ".py",
   "mimetype": "text/x-python",
   "name": "python",
   "nbconvert_exporter": "python",
   "pygments_lexer": "ipython3",
   "version": "3.10.6"
  }
 },
 "nbformat": 4,
 "nbformat_minor": 5
}
