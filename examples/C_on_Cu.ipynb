{
 "cells": [
  {
   "cell_type": "markdown",
   "id": "3093d156-dae6-4582-956e-dae5fc931162",
   "metadata": {},
   "source": [
    "## Compute lattice constant using the current potential."
   ]
  },
  {
   "cell_type": "code",
   "execution_count": 1,
   "id": "c6af6c7f-2d9b-4f1e-a437-09112c8560bf",
   "metadata": {},
   "outputs": [
    {
     "data": {
      "text/plain": [
       "-0.007036492048378307"
      ]
     },
     "execution_count": 1,
     "metadata": {},
     "output_type": "execute_result"
    }
   ],
   "source": [
    "from ase.build import bulk\n",
    "from ase.db import connect\n",
    "from ase.eos import calculate_eos\n",
    "\n",
    "input = {}\n",
    "with open('Input.txt', 'r') as file:\n",
    "    for line in file:\n",
    "        key, value = line.strip().split(' : ')\n",
    "        try:\n",
    "            #Convert to integer if possible\n",
    "            input[key] = int(value)\n",
    "        except ValueError:\n",
    "            # If not possible, store as string\n",
    "            input[key] = value\n",
    "\n",
    "atoms = bulk(input['surface_atom'], input['lattice'])\n",
    "if (input['calc_method'] == 'EMT'):\n",
    "    from ase.calculators.emt import EMT\n",
    "    atoms.calc = EMT()\n",
    "elif (input['calc_method'] == 'LJ'):\n",
    "    from ase.calculators.lj import LennardJones\n",
    "    atoms.calc = LennardJones()\n",
    "elif (input['calc_method'] == 'EAM'):\n",
    "    from ase.calculators.eam import EAM\n",
    "    atoms.calc = EAM()\n",
    "\n",
    "eos = calculate_eos(atoms) #For now eos only seems to work with EMT, not LJ or EAM\n",
    "v, e, B = eos.fit()  # find minimum\n",
    "# Do one more calculation at the minimum and write to database:\n",
    "atoms.cell *= (v / atoms.get_volume())**(1 / 3)\n",
    "atoms.get_potential_energy()"
   ]
  },
  {
   "cell_type": "markdown",
   "id": "a30a657e-5a2a-4c1e-a7e4-81e55158e044",
   "metadata": {},
   "source": [
    "## Adsorb one C atom using built-in BFGS.\n",
    "\n",
    "### First prepare the supercell (so the atom adsorbate does not see its mirror image)."
   ]
  },
  {
   "cell_type": "code",
   "execution_count": 2,
   "id": "1cce9f1c-143a-4b28-a39f-3de162edb76b",
   "metadata": {},
   "outputs": [
    {
     "data": {
      "text/plain": [
       "array([3, 3, 3, 3, 3, 3, 3, 3, 3, 3, 3, 3, 3, 3, 3, 3, 2, 2, 2, 2, 2, 2,\n",
       "       2, 2, 2, 2, 2, 2, 2, 2, 2, 2, 1, 1, 1, 1, 1, 1, 1, 1, 1, 1, 1, 1,\n",
       "       1, 1, 1, 1])"
      ]
     },
     "execution_count": 2,
     "metadata": {},
     "output_type": "execute_result"
    }
   ],
   "source": [
    "# Now prepare adsorption.\n",
    "from ase.build import add_adsorbate, fcc111\n",
    "from ase.visualize import view\n",
    "ads = input['adsorbant_atom']\n",
    "n_layers = input['number_of_layers']\n",
    "a = atoms.cell[0, 1] * 2 # Equilibrium lattice constant.\n",
    "atoms = fcc111(input['surface_atom'], (input['supercell_x_rep'], input['supercell_y_rep'], n_layers), a=a)\n",
    "atoms.get_tags()"
   ]
  },
  {
   "cell_type": "code",
   "execution_count": null,
   "id": "0abc31c3",
   "metadata": {},
   "outputs": [],
   "source": [
    "view(atoms, viewer='x3d')"
   ]
  },
  {
   "cell_type": "code",
   "execution_count": null,
   "id": "2a3722e8-17fb-4c6c-a93e-16c0892770cd",
   "metadata": {},
   "outputs": [],
   "source": [
    "atoms\n",
    "atoms.get_positions()"
   ]
  },
  {
   "cell_type": "markdown",
   "id": "33be5140-cfe3-49a2-a195-a1630d17d6a3",
   "metadata": {},
   "source": [
    "## Add single atom adsorbate."
   ]
  },
  {
   "cell_type": "code",
   "execution_count": 3,
   "id": "d3f52c46-e18c-4e94-acbf-ced78ecc2d03",
   "metadata": {},
   "outputs": [
    {
     "data": {
      "text/plain": [
       "array([[ 1.26919466,  0.73276988, 10.        ],\n",
       "       [ 3.80758399,  0.73276988, 10.        ],\n",
       "       [ 6.34597331,  0.73276988, 10.        ],\n",
       "       [ 8.88436264,  0.73276988, 10.        ],\n",
       "       [ 2.53838933,  2.93107952, 10.        ],\n",
       "       [ 5.07677865,  2.93107952, 10.        ],\n",
       "       [ 7.61516798,  2.93107952, 10.        ],\n",
       "       [10.1535573 ,  2.93107952, 10.        ],\n",
       "       [ 3.80758399,  5.12938916, 10.        ],\n",
       "       [ 6.34597331,  5.12938916, 10.        ],\n",
       "       [ 8.88436264,  5.12938916, 10.        ],\n",
       "       [11.42275197,  5.12938916, 10.        ],\n",
       "       [ 5.07677865,  7.3276988 , 10.        ],\n",
       "       [ 7.61516798,  7.3276988 , 10.        ],\n",
       "       [10.1535573 ,  7.3276988 , 10.        ],\n",
       "       [12.69194663,  7.3276988 , 10.        ],\n",
       "       [ 0.        ,  1.46553976, 12.07258621],\n",
       "       [ 2.53838933,  1.46553976, 12.07258621],\n",
       "       [ 5.07677865,  1.46553976, 12.07258621],\n",
       "       [ 7.61516798,  1.46553976, 12.07258621],\n",
       "       [ 1.26919466,  3.6638494 , 12.07258621],\n",
       "       [ 3.80758399,  3.6638494 , 12.07258621],\n",
       "       [ 6.34597331,  3.6638494 , 12.07258621],\n",
       "       [ 8.88436264,  3.6638494 , 12.07258621],\n",
       "       [ 2.53838933,  5.86215904, 12.07258621],\n",
       "       [ 5.07677865,  5.86215904, 12.07258621],\n",
       "       [ 7.61516798,  5.86215904, 12.07258621],\n",
       "       [10.1535573 ,  5.86215904, 12.07258621],\n",
       "       [ 3.80758399,  8.06046868, 12.07258621],\n",
       "       [ 6.34597331,  8.06046868, 12.07258621],\n",
       "       [ 8.88436264,  8.06046868, 12.07258621],\n",
       "       [11.42275197,  8.06046868, 12.07258621],\n",
       "       [ 0.        ,  0.        , 14.14517241],\n",
       "       [ 2.53838933,  0.        , 14.14517241],\n",
       "       [ 5.07677865,  0.        , 14.14517241],\n",
       "       [ 7.61516798,  0.        , 14.14517241],\n",
       "       [ 1.26919466,  2.19830964, 14.14517241],\n",
       "       [ 3.80758399,  2.19830964, 14.14517241],\n",
       "       [ 6.34597331,  2.19830964, 14.14517241],\n",
       "       [ 8.88436264,  2.19830964, 14.14517241],\n",
       "       [ 2.53838933,  4.39661928, 14.14517241],\n",
       "       [ 5.07677865,  4.39661928, 14.14517241],\n",
       "       [ 7.61516798,  4.39661928, 14.14517241],\n",
       "       [10.1535573 ,  4.39661928, 14.14517241],\n",
       "       [ 3.80758399,  6.59492892, 14.14517241],\n",
       "       [ 6.34597331,  6.59492892, 14.14517241],\n",
       "       [ 8.88436264,  6.59492892, 14.14517241],\n",
       "       [11.42275197,  6.59492892, 14.14517241],\n",
       "       [ 1.26919466,  0.73276988, 15.64517241]])"
      ]
     },
     "execution_count": 3,
     "metadata": {},
     "output_type": "execute_result"
    }
   ],
   "source": [
    "ads_height = float(input['adsorbant_init_h']) #modified initial conditions\n",
    "add_adsorbate(atoms, ads, height=ads_height, position=input['lattice'])\n",
    "#defined vacuum layer for no overlap between supercells NEEDS CONVERGENCE STUDY\n",
    "atoms.center(vacuum = 10, axis = 2) \n",
    "atoms.get_tags()\n",
    "atoms.get_positions()"
   ]
  },
  {
   "cell_type": "code",
   "execution_count": null,
   "id": "16d041c9",
   "metadata": {},
   "outputs": [],
   "source": [
    "view(atoms, viewer='x3d')\n"
   ]
  },
  {
   "cell_type": "code",
   "execution_count": null,
   "id": "290f26f0-0957-4c8b-9ab8-af43e21e79ff",
   "metadata": {},
   "outputs": [],
   "source": [
    "atoms[-1]"
   ]
  },
  {
   "cell_type": "code",
   "execution_count": 4,
   "id": "02cc7f77-dbaf-4f56-93a7-31d08de90aa9",
   "metadata": {},
   "outputs": [],
   "source": [
    "# Constrain all atoms except the adsorbate:\n",
    "from ase.constraints import FixAtoms\n",
    "fixed = list(range(len(atoms) - 1))\n",
    "atoms.constraints = [FixAtoms(indices=fixed)]"
   ]
  },
  {
   "cell_type": "markdown",
   "id": "f7787e67-50e4-40d6-8479-f21e7482709c",
   "metadata": {},
   "source": [
    "## Optimize adsorbate position usgin built-in BFGS from ASE."
   ]
  },
  {
   "cell_type": "code",
   "execution_count": 5,
   "id": "af55440d-dd81-4d14-a500-05ec8ef44691",
   "metadata": {},
   "outputs": [
    {
     "data": {
      "text/plain": [
       "True"
      ]
     },
     "execution_count": 5,
     "metadata": {},
     "output_type": "execute_result"
    }
   ],
   "source": [
    "from ase.optimize import BFGS\n",
    "atoms.calc = EMT()\n",
    "opt = BFGS(atoms, logfile=None)\n",
    "opt.run(fmax=0.0001)"
   ]
  },
  {
   "cell_type": "code",
   "execution_count": 6,
   "id": "db703af8-9232-49a5-929f-8a98460698dd",
   "metadata": {},
   "outputs": [
    {
     "name": "stdout",
     "output_type": "stream",
     "text": [
      "[ 1.26919466  0.73276988 15.5051332 ]\n",
      "11.22491804732231\n"
     ]
    }
   ],
   "source": [
    "# Final adsorbate position.\n",
    "### print(atoms[3].position)\n",
    "print(atoms[-1].position) # modified to get adsorbate position\n",
    "\n",
    "# Final energy.\n",
    "print(atoms.get_potential_energy())"
   ]
  },
  {
   "cell_type": "markdown",
   "id": "d80aa010-0d9f-4f24-82e7-3815ddcee72f",
   "metadata": {},
   "source": [
    "## Comparison with BoTorch"
   ]
  },
  {
   "cell_type": "code",
   "execution_count": 7,
   "id": "2e2c9010-1f6d-4fab-88eb-f5d7f6e8eb6d",
   "metadata": {},
   "outputs": [],
   "source": [
    "import numpy as np\n",
    "import torch"
   ]
  },
  {
   "cell_type": "code",
   "execution_count": 8,
   "id": "23cb127e-8f86-4b72-aee6-61d1476f5c4a",
   "metadata": {},
   "outputs": [
    {
     "name": "stdout",
     "output_type": "stream",
     "text": [
      "14.145172411082733\n"
     ]
    }
   ],
   "source": [
    "# Do not allow our atom to go inside the surface. \n",
    "# Also restrict x-y to the unit cell size.\n",
    "bulk_z_max = np.max(atoms[:-1].positions[:, 2]) #modified to account for changes in initial conditions + universal\n",
    "print(bulk_z_max)\n",
    "cell_x_min, cell_x_max = float(np.min(atoms.cell[:, 0])), float(np.max(atoms.cell[:, 0]))\n",
    "cell_y_min, cell_y_max = float(np.min(atoms.cell[:, 1])), float(np.max(atoms.cell[:, 1]))\n",
    "#z_adsorb_max = 3 * ads_height\n",
    "z_adsorb_max = atoms[-1].position[-1] + 5 # modified to account for changes in initial conditions"
   ]
  },
  {
   "cell_type": "markdown",
   "id": "e7f0e763",
   "metadata": {},
   "source": [
    "## Call functions from separate file instead of defining in notebook"
   ]
  },
  {
   "cell_type": "code",
   "execution_count": 9,
   "id": "22c8b38b",
   "metadata": {},
   "outputs": [],
   "source": [
    "import pickle\n",
    "with open('atoms.pkl', 'wb') as f:\n",
    "    pickle.dump(atoms, f)\n",
    "\n",
    "import Note_func"
   ]
  },
  {
   "cell_type": "markdown",
   "id": "0aed0dcf-c8b4-4586-a2fb-b374bdd683ce",
   "metadata": {},
   "source": [
    "## Set up the optimization experiment in Ax."
   ]
  },
  {
   "cell_type": "code",
   "execution_count": 10,
   "id": "e378595d-f852-42a5-8db7-7346fc0732c2",
   "metadata": {},
   "outputs": [
    {
     "name": "stderr",
     "output_type": "stream",
     "text": [
      "[WARNING 03-09 17:14:54] ax.service.utils.with_db_settings_base: Ax currently requires a sqlalchemy version below 2.0. This will be addressed in a future release. Disabling SQL storage in Ax for now, if you would like to use SQL storage please install Ax with mysql extras via `pip install ax-platform[mysql]`.\n",
      "[INFO 03-09 17:14:54] ax.service.ax_client: Starting optimization with verbose logging. To disable logging, set the `verbose_logging` argument to `False`. Note that float values in the logs are rounded to 6 decimal points.\n",
      "[INFO 03-09 17:14:54] ax.service.utils.instantiation: Inferred value type of ParameterType.FLOAT for parameter x. If that is not the expected value type, you can explicitly specify 'value_type' ('int', 'float', 'bool' or 'str') in parameter dict.\n",
      "[INFO 03-09 17:14:54] ax.service.utils.instantiation: Inferred value type of ParameterType.FLOAT for parameter y. If that is not the expected value type, you can explicitly specify 'value_type' ('int', 'float', 'bool' or 'str') in parameter dict.\n",
      "[INFO 03-09 17:14:54] ax.service.utils.instantiation: Inferred value type of ParameterType.FLOAT for parameter z. If that is not the expected value type, you can explicitly specify 'value_type' ('int', 'float', 'bool' or 'str') in parameter dict.\n",
      "[INFO 03-09 17:14:54] ax.service.utils.instantiation: Created search space: SearchSpace(parameters=[RangeParameter(name='x', parameter_type=FLOAT, range=[0.0, 10.15355730301497]), RangeParameter(name='y', parameter_type=FLOAT, range=[0.0, 8.793238563191975]), RangeParameter(name='z', parameter_type=FLOAT, range=[14.145172411082733, 20.505133198534637])], parameter_constraints=[]).\n"
     ]
    }
   ],
   "source": [
    "from ax.service.ax_client import AxClient\n",
    "from Note_func import gs\n",
    "from ax.service.utils.instantiation import ObjectiveProperties\n",
    "# Initialize the client - AxClient offers a convenient API to control the experiment\n",
    "ax_client = AxClient(generation_strategy=gs)\n",
    "\n",
    "ax_client.create_experiment(\n",
    "    name=\"adsorption_experiment\",\n",
    "    parameters=[\n",
    "        {\n",
    "            \"name\": \"x\",\n",
    "            \"type\": \"range\",\n",
    "            \"bounds\": [float(cell_x_min), float(cell_x_max)],\n",
    "        },\n",
    "        {\n",
    "            \"name\": \"y\",\n",
    "            \"type\": \"range\",\n",
    "            \"bounds\": [float(cell_y_min), float(cell_y_max)],\n",
    "        },\n",
    "        {\n",
    "            \"name\": \"z\",\n",
    "            \"type\": \"range\",\n",
    "            \"bounds\": [float(bulk_z_max), float(z_adsorb_max)], #I made a modification here, switched both bounds.\n",
    "        },\n",
    "    ],\n",
    "    objectives={\"adsorption_energy\": ObjectiveProperties(minimize=True)},\n",
    "    # parameter_constraints=[\"x1 + x2 <= 2.0\"],  # Optional.\n",
    "    # outcome_constraints=[\"l2norm <= 1.25\"],  # Optional.\n",
    ")"
   ]
  },
  {
   "cell_type": "markdown",
   "id": "e82d1d73-2d54-4fcf-8fe5-d504e37efed6",
   "metadata": {},
   "source": [
    "## Run the BO loop."
   ]
  },
  {
   "cell_type": "code",
   "execution_count": 11,
   "id": "a476257c-7a50-473f-9482-4c0d4fee48c7",
   "metadata": {},
   "outputs": [
    {
     "name": "stderr",
     "output_type": "stream",
     "text": [
      "[INFO 03-09 17:14:56] ax.service.ax_client: Generated new trial 0 with parameters {'x': 6.383844, 'y': 4.526849, 'z': 17.334144} using model Sobol.\n",
      "C:\\Users\\arnau\\AppData\\Roaming\\Python\\Python310\\site-packages\\ase\\atoms.py:967: VisibleDeprecationWarning: Use get_global_number_of_atoms() instead\n",
      "  warnings.warn('Use get_global_number_of_atoms() instead',\n",
      "[INFO 03-09 17:14:56] ax.service.ax_client: Completed trial 0 with data: {'adsorption_energy': (14.085002, 0.0)}.\n",
      "[INFO 03-09 17:14:56] ax.service.ax_client: Generated new trial 1 with parameters {'x': 2.526671, 'y': 2.704544, 'z': 16.63266} using model Sobol.\n",
      "C:\\Users\\arnau\\AppData\\Roaming\\Python\\Python310\\site-packages\\ase\\atoms.py:967: VisibleDeprecationWarning: Use get_global_number_of_atoms() instead\n",
      "  warnings.warn('Use get_global_number_of_atoms() instead',\n",
      "[INFO 03-09 17:14:56] ax.service.ax_client: Completed trial 1 with data: {'adsorption_energy': (13.116128, 0.0)}.\n",
      "[INFO 03-09 17:14:56] ax.service.ax_client: Generated new trial 2 with parameters {'x': 2.842006, 'y': 7.520354, 'z': 18.958385} using model Sobol.\n",
      "C:\\Users\\arnau\\AppData\\Roaming\\Python\\Python310\\site-packages\\ase\\atoms.py:967: VisibleDeprecationWarning: Use get_global_number_of_atoms() instead\n",
      "  warnings.warn('Use get_global_number_of_atoms() instead',\n",
      "[INFO 03-09 17:14:56] ax.service.ax_client: Completed trial 2 with data: {'adsorption_energy': (14.741501, 0.0)}.\n",
      "[INFO 03-09 17:14:56] ax.service.ax_client: Generated new trial 3 with parameters {'x': 8.602932, 'y': 0.808181, 'z': 15.08312} using model Sobol.\n",
      "C:\\Users\\arnau\\AppData\\Roaming\\Python\\Python310\\site-packages\\ase\\atoms.py:967: VisibleDeprecationWarning: Use get_global_number_of_atoms() instead\n",
      "  warnings.warn('Use get_global_number_of_atoms() instead',\n",
      "[INFO 03-09 17:14:56] ax.service.ax_client: Completed trial 3 with data: {'adsorption_energy': (12.182324, 0.0)}.\n",
      "[INFO 03-09 17:14:56] ax.service.ax_client: Generated new trial 4 with parameters {'x': 9.260425, 'y': 8.57192, 'z': 15.853069} using model Sobol.\n",
      "C:\\Users\\arnau\\AppData\\Roaming\\Python\\Python310\\site-packages\\ase\\atoms.py:967: VisibleDeprecationWarning: Use get_global_number_of_atoms() instead\n",
      "  warnings.warn('Use get_global_number_of_atoms() instead',\n",
      "[INFO 03-09 17:14:56] ax.service.ax_client: Completed trial 4 with data: {'adsorption_energy': (11.478172, 0.0)}.\n",
      "[INFO 03-09 17:14:57] ax.service.ax_client: Generated new trial 5 with parameters {'x': 10.153557, 'y': 8.793239, 'z': 14.581046} using model BoTorch.\n",
      "C:\\Users\\arnau\\AppData\\Roaming\\Python\\Python310\\site-packages\\ase\\atoms.py:967: VisibleDeprecationWarning: Use get_global_number_of_atoms() instead\n",
      "  warnings.warn('Use get_global_number_of_atoms() instead',\n",
      "[INFO 03-09 17:14:57] ax.service.ax_client: Completed trial 5 with data: {'adsorption_energy': (93.264106, 0.0)}.\n",
      "[INFO 03-09 17:14:58] ax.service.ax_client: Generated new trial 6 with parameters {'x': 8.422303, 'y': 8.290763, 'z': 16.674829} using model BoTorch.\n",
      "C:\\Users\\arnau\\AppData\\Roaming\\Python\\Python310\\site-packages\\ase\\atoms.py:967: VisibleDeprecationWarning: Use get_global_number_of_atoms() instead\n",
      "  warnings.warn('Use get_global_number_of_atoms() instead',\n",
      "[INFO 03-09 17:14:58] ax.service.ax_client: Completed trial 6 with data: {'adsorption_energy': (13.155789, 0.0)}.\n",
      "[INFO 03-09 17:14:59] ax.service.ax_client: Generated new trial 7 with parameters {'x': 7.389973, 'y': 3.935659, 'z': 16.129894} using model BoTorch.\n",
      "C:\\Users\\arnau\\AppData\\Roaming\\Python\\Python310\\site-packages\\ase\\atoms.py:967: VisibleDeprecationWarning: Use get_global_number_of_atoms() instead\n",
      "  warnings.warn('Use get_global_number_of_atoms() instead',\n",
      "[INFO 03-09 17:14:59] ax.service.ax_client: Completed trial 7 with data: {'adsorption_energy': (11.856643, 0.0)}.\n",
      "[INFO 03-09 17:15:01] ax.service.ax_client: Generated new trial 8 with parameters {'x': 6.427949, 'y': 0.0, 'z': 16.114043} using model BoTorch.\n",
      "C:\\Users\\arnau\\AppData\\Roaming\\Python\\Python310\\site-packages\\ase\\atoms.py:967: VisibleDeprecationWarning: Use get_global_number_of_atoms() instead\n",
      "  warnings.warn('Use get_global_number_of_atoms() instead',\n",
      "[INFO 03-09 17:15:01] ax.service.ax_client: Completed trial 8 with data: {'adsorption_energy': (12.014996, 0.0)}.\n",
      "[INFO 03-09 17:15:02] ax.service.ax_client: Generated new trial 9 with parameters {'x': 4.617362, 'y': 7.717451, 'z': 16.214498} using model BoTorch.\n",
      "C:\\Users\\arnau\\AppData\\Roaming\\Python\\Python310\\site-packages\\ase\\atoms.py:967: VisibleDeprecationWarning: Use get_global_number_of_atoms() instead\n",
      "  warnings.warn('Use get_global_number_of_atoms() instead',\n",
      "[INFO 03-09 17:15:02] ax.service.ax_client: Completed trial 9 with data: {'adsorption_energy': (12.232166, 0.0)}.\n",
      "[INFO 03-09 17:15:04] ax.service.ax_client: Generated new trial 10 with parameters {'x': 3.524157, 'y': 0.0, 'z': 15.300095} using model BoTorch.\n",
      "C:\\Users\\arnau\\AppData\\Roaming\\Python\\Python310\\site-packages\\ase\\atoms.py:967: VisibleDeprecationWarning: Use get_global_number_of_atoms() instead\n",
      "  warnings.warn('Use get_global_number_of_atoms() instead',\n",
      "[INFO 03-09 17:15:04] ax.service.ax_client: Completed trial 10 with data: {'adsorption_energy': (11.943414, 0.0)}.\n",
      "[INFO 03-09 17:15:05] ax.service.ax_client: Generated new trial 11 with parameters {'x': 0.0, 'y': 6.031723, 'z': 17.834458} using model BoTorch.\n",
      "C:\\Users\\arnau\\AppData\\Roaming\\Python\\Python310\\site-packages\\ase\\atoms.py:967: VisibleDeprecationWarning: Use get_global_number_of_atoms() instead\n",
      "  warnings.warn('Use get_global_number_of_atoms() instead',\n",
      "[INFO 03-09 17:15:05] ax.service.ax_client: Completed trial 11 with data: {'adsorption_energy': (14.446496, 0.0)}.\n",
      "[INFO 03-09 17:15:06] ax.service.ax_client: Generated new trial 12 with parameters {'x': 3.34764, 'y': 2.338431, 'z': 18.448152} using model BoTorch.\n",
      "C:\\Users\\arnau\\AppData\\Roaming\\Python\\Python310\\site-packages\\ase\\atoms.py:967: VisibleDeprecationWarning: Use get_global_number_of_atoms() instead\n",
      "  warnings.warn('Use get_global_number_of_atoms() instead',\n",
      "[INFO 03-09 17:15:06] ax.service.ax_client: Completed trial 12 with data: {'adsorption_energy': (14.656397, 0.0)}.\n",
      "[INFO 03-09 17:15:07] ax.service.ax_client: Generated new trial 13 with parameters {'x': 9.092812, 'y': 6.297119, 'z': 18.446528} using model BoTorch.\n",
      "C:\\Users\\arnau\\AppData\\Roaming\\Python\\Python310\\site-packages\\ase\\atoms.py:967: VisibleDeprecationWarning: Use get_global_number_of_atoms() instead\n",
      "  warnings.warn('Use get_global_number_of_atoms() instead',\n",
      "[INFO 03-09 17:15:07] ax.service.ax_client: Completed trial 13 with data: {'adsorption_energy': (14.655476, 0.0)}.\n",
      "[INFO 03-09 17:15:09] ax.service.ax_client: Generated new trial 14 with parameters {'x': 0.0, 'y': 0.0, 'z': 17.48126} using model BoTorch.\n",
      "C:\\Users\\arnau\\AppData\\Roaming\\Python\\Python310\\site-packages\\ase\\atoms.py:967: VisibleDeprecationWarning: Use get_global_number_of_atoms() instead\n",
      "  warnings.warn('Use get_global_number_of_atoms() instead',\n",
      "[INFO 03-09 17:15:09] ax.service.ax_client: Completed trial 14 with data: {'adsorption_energy': (14.186295, 0.0)}.\n",
      "[INFO 03-09 17:15:10] ax.service.ax_client: Generated new trial 15 with parameters {'x': 10.153557, 'y': 7.47218, 'z': 16.18533} using model BoTorch.\n",
      "C:\\Users\\arnau\\AppData\\Roaming\\Python\\Python310\\site-packages\\ase\\atoms.py:967: VisibleDeprecationWarning: Use get_global_number_of_atoms() instead\n",
      "  warnings.warn('Use get_global_number_of_atoms() instead',\n",
      "[INFO 03-09 17:15:10] ax.service.ax_client: Completed trial 15 with data: {'adsorption_energy': (12.20639, 0.0)}.\n",
      "[INFO 03-09 17:15:12] ax.service.ax_client: Generated new trial 16 with parameters {'x': 8.780773, 'y': 0.0, 'z': 15.532856} using model BoTorch.\n",
      "C:\\Users\\arnau\\AppData\\Roaming\\Python\\Python310\\site-packages\\ase\\atoms.py:967: VisibleDeprecationWarning: Use get_global_number_of_atoms() instead\n",
      "  warnings.warn('Use get_global_number_of_atoms() instead',\n",
      "[INFO 03-09 17:15:12] ax.service.ax_client: Completed trial 16 with data: {'adsorption_energy': (11.282159, 0.0)}.\n",
      "[INFO 03-09 17:15:13] ax.service.ax_client: Generated new trial 17 with parameters {'x': 10.153557, 'y': 0.0, 'z': 17.66958} using model BoTorch.\n",
      "C:\\Users\\arnau\\AppData\\Roaming\\Python\\Python310\\site-packages\\ase\\atoms.py:967: VisibleDeprecationWarning: Use get_global_number_of_atoms() instead\n",
      "  warnings.warn('Use get_global_number_of_atoms() instead',\n",
      "[INFO 03-09 17:15:13] ax.service.ax_client: Completed trial 17 with data: {'adsorption_energy': (14.331952, 0.0)}.\n",
      "[INFO 03-09 17:15:14] ax.service.ax_client: Generated new trial 18 with parameters {'x': 10.153557, 'y': 3.100261, 'z': 19.618966} using model BoTorch.\n",
      "C:\\Users\\arnau\\AppData\\Roaming\\Python\\Python310\\site-packages\\ase\\atoms.py:967: VisibleDeprecationWarning: Use get_global_number_of_atoms() instead\n",
      "  warnings.warn('Use get_global_number_of_atoms() instead',\n",
      "[INFO 03-09 17:15:14] ax.service.ax_client: Completed trial 18 with data: {'adsorption_energy': (14.798724, 0.0)}.\n",
      "[INFO 03-09 17:15:15] ax.service.ax_client: Generated new trial 19 with parameters {'x': 10.153557, 'y': 8.793239, 'z': 19.919522} using model BoTorch.\n",
      "C:\\Users\\arnau\\AppData\\Roaming\\Python\\Python310\\site-packages\\ase\\atoms.py:967: VisibleDeprecationWarning: Use get_global_number_of_atoms() instead\n",
      "  warnings.warn('Use get_global_number_of_atoms() instead',\n",
      "[INFO 03-09 17:15:15] ax.service.ax_client: Completed trial 19 with data: {'adsorption_energy': (14.799132, 0.0)}.\n",
      "[INFO 03-09 17:15:16] ax.service.ax_client: Generated new trial 20 with parameters {'x': 1.50515, 'y': 5.177791, 'z': 20.293644} using model BoTorch.\n",
      "C:\\Users\\arnau\\AppData\\Roaming\\Python\\Python310\\site-packages\\ase\\atoms.py:967: VisibleDeprecationWarning: Use get_global_number_of_atoms() instead\n",
      "  warnings.warn('Use get_global_number_of_atoms() instead',\n",
      "[INFO 03-09 17:15:16] ax.service.ax_client: Completed trial 20 with data: {'adsorption_energy': (14.799167, 0.0)}.\n",
      "[INFO 03-09 17:15:17] ax.service.ax_client: Generated new trial 21 with parameters {'x': 0.0, 'y': 0.0, 'z': 19.659034} using model BoTorch.\n",
      "C:\\Users\\arnau\\AppData\\Roaming\\Python\\Python310\\site-packages\\ase\\atoms.py:967: VisibleDeprecationWarning: Use get_global_number_of_atoms() instead\n",
      "  warnings.warn('Use get_global_number_of_atoms() instead',\n",
      "[INFO 03-09 17:15:17] ax.service.ax_client: Completed trial 21 with data: {'adsorption_energy': (14.79708, 0.0)}.\n",
      "[INFO 03-09 17:15:18] ax.service.ax_client: Generated new trial 22 with parameters {'x': 7.601072, 'y': 0.0, 'z': 20.505133} using model BoTorch.\n",
      "C:\\Users\\arnau\\AppData\\Roaming\\Python\\Python310\\site-packages\\ase\\atoms.py:967: VisibleDeprecationWarning: Use get_global_number_of_atoms() instead\n",
      "  warnings.warn('Use get_global_number_of_atoms() instead',\n",
      "[INFO 03-09 17:15:18] ax.service.ax_client: Completed trial 22 with data: {'adsorption_energy': (14.799167, 0.0)}.\n",
      "[INFO 03-09 17:15:19] ax.service.ax_client: Generated new trial 23 with parameters {'x': 10.153557, 'y': 5.164876, 'z': 20.505133} using model BoTorch.\n",
      "C:\\Users\\arnau\\AppData\\Roaming\\Python\\Python310\\site-packages\\ase\\atoms.py:967: VisibleDeprecationWarning: Use get_global_number_of_atoms() instead\n",
      "  warnings.warn('Use get_global_number_of_atoms() instead',\n",
      "[INFO 03-09 17:15:19] ax.service.ax_client: Completed trial 23 with data: {'adsorption_energy': (14.799167, 0.0)}.\n",
      "[INFO 03-09 17:15:20] ax.service.ax_client: Generated new trial 24 with parameters {'x': 10.153557, 'y': 0.0, 'z': 16.792291} using model BoTorch.\n",
      "C:\\Users\\arnau\\AppData\\Roaming\\Python\\Python310\\site-packages\\ase\\atoms.py:967: VisibleDeprecationWarning: Use get_global_number_of_atoms() instead\n",
      "  warnings.warn('Use get_global_number_of_atoms() instead',\n",
      "[INFO 03-09 17:15:20] ax.service.ax_client: Completed trial 24 with data: {'adsorption_energy': (13.254494, 0.0)}.\n",
      "[INFO 03-09 17:15:22] ax.service.ax_client: Generated new trial 25 with parameters {'x': 8.024019, 'y': 8.793239, 'z': 16.100108} using model BoTorch.\n",
      "C:\\Users\\arnau\\AppData\\Roaming\\Python\\Python310\\site-packages\\ase\\atoms.py:967: VisibleDeprecationWarning: Use get_global_number_of_atoms() instead\n",
      "  warnings.warn('Use get_global_number_of_atoms() instead',\n",
      "[INFO 03-09 17:15:22] ax.service.ax_client: Completed trial 25 with data: {'adsorption_energy': (11.765622, 0.0)}.\n",
      "[INFO 03-09 17:15:23] ax.service.ax_client: Generated new trial 26 with parameters {'x': 0.0, 'y': 8.793239, 'z': 17.029254} using model BoTorch.\n",
      "C:\\Users\\arnau\\AppData\\Roaming\\Python\\Python310\\site-packages\\ase\\atoms.py:967: VisibleDeprecationWarning: Use get_global_number_of_atoms() instead\n",
      "  warnings.warn('Use get_global_number_of_atoms() instead',\n",
      "[INFO 03-09 17:15:23] ax.service.ax_client: Completed trial 26 with data: {'adsorption_energy': (13.656624, 0.0)}.\n",
      "[INFO 03-09 17:15:24] ax.service.ax_client: Generated new trial 27 with parameters {'x': 10.153557, 'y': 8.793239, 'z': 17.614063} using model BoTorch.\n",
      "C:\\Users\\arnau\\AppData\\Roaming\\Python\\Python310\\site-packages\\ase\\atoms.py:967: VisibleDeprecationWarning: Use get_global_number_of_atoms() instead\n",
      "  warnings.warn('Use get_global_number_of_atoms() instead',\n",
      "[INFO 03-09 17:15:24] ax.service.ax_client: Completed trial 27 with data: {'adsorption_energy': (14.292718, 0.0)}.\n",
      "[INFO 03-09 17:15:25] ax.service.ax_client: Generated new trial 28 with parameters {'x': 0.0, 'y': 3.240354, 'z': 15.901667} using model BoTorch.\n",
      "C:\\Users\\arnau\\AppData\\Roaming\\Python\\Python310\\site-packages\\ase\\atoms.py:967: VisibleDeprecationWarning: Use get_global_number_of_atoms() instead\n",
      "  warnings.warn('Use get_global_number_of_atoms() instead',\n",
      "[INFO 03-09 17:15:25] ax.service.ax_client: Completed trial 28 with data: {'adsorption_energy': (11.611094, 0.0)}.\n",
      "[INFO 03-09 17:15:26] ax.service.ax_client: Generated new trial 29 with parameters {'x': 10.153557, 'y': 0.0, 'z': 18.875483} using model BoTorch.\n",
      "C:\\Users\\arnau\\AppData\\Roaming\\Python\\Python310\\site-packages\\ase\\atoms.py:967: VisibleDeprecationWarning: Use get_global_number_of_atoms() instead\n",
      "  warnings.warn('Use get_global_number_of_atoms() instead',\n",
      "[INFO 03-09 17:15:26] ax.service.ax_client: Completed trial 29 with data: {'adsorption_energy': (14.734306, 0.0)}.\n",
      "[INFO 03-09 17:15:28] ax.service.ax_client: Generated new trial 30 with parameters {'x': 0.0, 'y': 8.793239, 'z': 19.740279} using model BoTorch.\n",
      "C:\\Users\\arnau\\AppData\\Roaming\\Python\\Python310\\site-packages\\ase\\atoms.py:967: VisibleDeprecationWarning: Use get_global_number_of_atoms() instead\n",
      "  warnings.warn('Use get_global_number_of_atoms() instead',\n",
      "[INFO 03-09 17:15:28] ax.service.ax_client: Completed trial 30 with data: {'adsorption_energy': (14.798569, 0.0)}.\n",
      "[INFO 03-09 17:15:29] ax.service.ax_client: Generated new trial 31 with parameters {'x': 6.725346, 'y': 5.670345, 'z': 15.84402} using model BoTorch.\n",
      "C:\\Users\\arnau\\AppData\\Roaming\\Python\\Python310\\site-packages\\ase\\atoms.py:967: VisibleDeprecationWarning: Use get_global_number_of_atoms() instead\n",
      "  warnings.warn('Use get_global_number_of_atoms() instead',\n",
      "[INFO 03-09 17:15:29] ax.service.ax_client: Completed trial 31 with data: {'adsorption_energy': (11.479514, 0.0)}.\n",
      "[INFO 03-09 17:15:31] ax.service.ax_client: Generated new trial 32 with parameters {'x': 0.0, 'y': 0.0, 'z': 16.246479} using model BoTorch.\n",
      "C:\\Users\\arnau\\AppData\\Roaming\\Python\\Python310\\site-packages\\ase\\atoms.py:967: VisibleDeprecationWarning: Use get_global_number_of_atoms() instead\n",
      "  warnings.warn('Use get_global_number_of_atoms() instead',\n",
      "[INFO 03-09 17:15:31] ax.service.ax_client: Completed trial 32 with data: {'adsorption_energy': (12.032402, 0.0)}.\n",
      "[INFO 03-09 17:15:32] ax.service.ax_client: Generated new trial 33 with parameters {'x': 10.153557, 'y': 0.0, 'z': 15.193913} using model BoTorch.\n",
      "C:\\Users\\arnau\\AppData\\Roaming\\Python\\Python310\\site-packages\\ase\\atoms.py:967: VisibleDeprecationWarning: Use get_global_number_of_atoms() instead\n",
      "  warnings.warn('Use get_global_number_of_atoms() instead',\n",
      "[INFO 03-09 17:15:32] ax.service.ax_client: Completed trial 33 with data: {'adsorption_energy': (19.497739, 0.0)}.\n",
      "[INFO 03-09 17:15:33] ax.service.ax_client: Generated new trial 34 with parameters {'x': 6.668063, 'y': 0.639902, 'z': 15.321797} using model BoTorch.\n",
      "C:\\Users\\arnau\\AppData\\Roaming\\Python\\Python310\\site-packages\\ase\\atoms.py:967: VisibleDeprecationWarning: Use get_global_number_of_atoms() instead\n",
      "  warnings.warn('Use get_global_number_of_atoms() instead',\n",
      "[INFO 03-09 17:15:33] ax.service.ax_client: Completed trial 34 with data: {'adsorption_energy': (11.533898, 0.0)}.\n",
      "[INFO 03-09 17:15:34] ax.service.ax_client: Generated new trial 35 with parameters {'x': 0.0, 'y': 0.0, 'z': 14.692478} using model BoTorch.\n",
      "C:\\Users\\arnau\\AppData\\Roaming\\Python\\Python310\\site-packages\\ase\\atoms.py:967: VisibleDeprecationWarning: Use get_global_number_of_atoms() instead\n",
      "  warnings.warn('Use get_global_number_of_atoms() instead',\n",
      "[INFO 03-09 17:15:34] ax.service.ax_client: Completed trial 35 with data: {'adsorption_energy': (67.906612, 0.0)}.\n",
      "[INFO 03-09 17:15:36] ax.service.ax_client: Generated new trial 36 with parameters {'x': 3.093014, 'y': 0.973571, 'z': 15.830178} using model BoTorch.\n",
      "C:\\Users\\arnau\\AppData\\Roaming\\Python\\Python310\\site-packages\\ase\\atoms.py:967: VisibleDeprecationWarning: Use get_global_number_of_atoms() instead\n",
      "  warnings.warn('Use get_global_number_of_atoms() instead',\n",
      "[INFO 03-09 17:15:36] ax.service.ax_client: Completed trial 36 with data: {'adsorption_energy': (11.476043, 0.0)}.\n",
      "[INFO 03-09 17:15:38] ax.service.ax_client: Generated new trial 37 with parameters {'x': 0.0, 'y': 5.503039, 'z': 16.350223} using model BoTorch.\n",
      "C:\\Users\\arnau\\AppData\\Roaming\\Python\\Python310\\site-packages\\ase\\atoms.py:967: VisibleDeprecationWarning: Use get_global_number_of_atoms() instead\n",
      "  warnings.warn('Use get_global_number_of_atoms() instead',\n",
      "[INFO 03-09 17:15:38] ax.service.ax_client: Completed trial 37 with data: {'adsorption_energy': (12.52873, 0.0)}.\n",
      "[INFO 03-09 17:15:39] ax.service.ax_client: Generated new trial 38 with parameters {'x': 5.246607, 'y': 3.432427, 'z': 19.695311} using model BoTorch.\n",
      "C:\\Users\\arnau\\AppData\\Roaming\\Python\\Python310\\site-packages\\ase\\atoms.py:967: VisibleDeprecationWarning: Use get_global_number_of_atoms() instead\n",
      "  warnings.warn('Use get_global_number_of_atoms() instead',\n",
      "[INFO 03-09 17:15:39] ax.service.ax_client: Completed trial 38 with data: {'adsorption_energy': (14.798848, 0.0)}.\n",
      "[INFO 03-09 17:15:40] ax.service.ax_client: Generated new trial 39 with parameters {'x': 5.814945, 'y': 8.793239, 'z': 20.505133} using model BoTorch.\n",
      "C:\\Users\\arnau\\AppData\\Roaming\\Python\\Python310\\site-packages\\ase\\atoms.py:967: VisibleDeprecationWarning: Use get_global_number_of_atoms() instead\n",
      "  warnings.warn('Use get_global_number_of_atoms() instead',\n",
      "[INFO 03-09 17:15:40] ax.service.ax_client: Completed trial 39 with data: {'adsorption_energy': (14.799167, 0.0)}.\n"
     ]
    }
   ],
   "source": [
    "from Note_func import evaluate\n",
    "N_BO_steps = input['n_bo_steps']\n",
    "for i in range(N_BO_steps):\n",
    "    parameters, trial_index = ax_client.get_next_trial()\n",
    "    # Local evaluation here can be replaced with deployment to external system.\n",
    "    ax_client.complete_trial(trial_index=trial_index, raw_data=evaluate(parameters))"
   ]
  },
  {
   "cell_type": "markdown",
   "id": "d6fde3ac",
   "metadata": {},
   "source": [
    "## (Optionnal : Load previous experiment result from JSON file)"
   ]
  },
  {
   "cell_type": "code",
   "execution_count": null,
   "id": "9a7a11a7",
   "metadata": {},
   "outputs": [],
   "source": [
    "ax_client = AxClient.load_from_json_file(filepath='test_json.json')"
   ]
  },
  {
   "cell_type": "markdown",
   "id": "27ccf88b-55bf-4a66-8c25-d9b7c16c1ae2",
   "metadata": {},
   "source": [
    "## Display Results"
   ]
  },
  {
   "cell_type": "code",
   "execution_count": null,
   "id": "555aafbc-755f-43ce-a5a2-c923ad466e3a",
   "metadata": {},
   "outputs": [],
   "source": [
    "df = ax_client.get_trials_data_frame()\n",
    "#save df as csv file\n",
    "df.to_csv('trials_dataframe.csv', index=False)\n",
    "ax_client.get_trials_data_frame()"
   ]
  },
  {
   "cell_type": "markdown",
   "id": "d2fa89c4-d269-4c9b-87f8-354e0ec7946d",
   "metadata": {},
   "source": [
    "## Plot Evolution of adsorption energy."
   ]
  },
  {
   "cell_type": "code",
   "execution_count": null,
   "id": "75ddb778-40c2-4fc2-bb87-49e2764a93b2",
   "metadata": {},
   "outputs": [],
   "source": [
    "from ax.utils.notebook.plotting import render\n",
    "# from botorch.acquisition\n",
    "\n",
    "render(ax_client.get_optimization_trace(objective_optimum=0.0)) #objective optimum should be the bare surface without additionnal atom"
   ]
  },
  {
   "cell_type": "markdown",
   "id": "0c009b11-1989-4f7b-9746-e56cc55ae920",
   "metadata": {},
   "source": [
    "## Plot learned response surface."
   ]
  },
  {
   "cell_type": "code",
   "execution_count": null,
   "id": "3a5cba0c-5fc3-41ee-b222-1a372d652ba0",
   "metadata": {},
   "outputs": [],
   "source": [
    "from ax.plot.contour import interact_contour\n",
    "model = ax_client.generation_strategy.model\n",
    "render(interact_contour(model=model, metric_name=\"adsorption_energy\",\n",
    "                       slice_values={'x': 1.263480218001716, 'y': 1.0, 'z': 3.01}))"
   ]
  },
  {
   "cell_type": "code",
   "execution_count": null,
   "id": "2834fdea-36d0-41d0-a3b2-2af945cd966a",
   "metadata": {},
   "outputs": [],
   "source": [
    "ax_client.get_best_parameters()\n",
    "#Modify atoms to represent the best solution\n",
    "params = ax_client.get_best_parameters()[:1][0]\n",
    "atoms[-1].position[:] = params['x'],params['y'],params['z']\n",
    "print(ax_client.get_best_parameters())"
   ]
  },
  {
   "cell_type": "markdown",
   "id": "a40b82cb",
   "metadata": {},
   "source": [
    "## Save Ax Client and experiment as JSON file"
   ]
  },
  {
   "cell_type": "code",
   "execution_count": null,
   "id": "941c24cd",
   "metadata": {},
   "outputs": [],
   "source": [
    "ax_client.save_to_json_file(filepath= 'test_json.json')"
   ]
  },
  {
   "cell_type": "markdown",
   "id": "36e96968-cff1-4e51-88c7-b79bf84ea0da",
   "metadata": {},
   "source": [
    "## Visualize the resulting chemical system."
   ]
  },
  {
   "cell_type": "code",
   "execution_count": null,
   "id": "a8f4e93a-b20f-4f8e-a0aa-6e994ac8993d",
   "metadata": {},
   "outputs": [],
   "source": [
    "from ase.visualize import view\n",
    "view(atoms, viewer='x3d')"
   ]
  },
  {
   "cell_type": "code",
   "execution_count": null,
   "id": "a7207210-3f5a-4098-802b-860365ffd016",
   "metadata": {},
   "outputs": [],
   "source": [
    "import matplotlib.pyplot as plt\n",
    "from ase.visualize.plot import plot_atoms\n",
    "\n",
    "fig, ax = plt.subplots()\n",
    "\n",
    "plot_atoms(atoms, ax, radii=0.5, rotation=('90x,45y,0z'))\n",
    "#plot_atoms(atoms, ax, radii=0.5, rotation=('0x,0y,0z'))\n",
    "\n",
    "\n",
    "fig.savefig(\"ase_slab.png\")"
   ]
  }
 ],
 "metadata": {
  "kernelspec": {
   "display_name": "Python 3 (ipykernel)",
   "language": "python",
   "name": "python3"
  },
  "language_info": {
   "codemirror_mode": {
    "name": "ipython",
    "version": 3
   },
   "file_extension": ".py",
   "mimetype": "text/x-python",
   "name": "python",
   "nbconvert_exporter": "python",
   "pygments_lexer": "ipython3",
   "version": "3.10.6"
  }
 },
 "nbformat": 4,
 "nbformat_minor": 5
}
