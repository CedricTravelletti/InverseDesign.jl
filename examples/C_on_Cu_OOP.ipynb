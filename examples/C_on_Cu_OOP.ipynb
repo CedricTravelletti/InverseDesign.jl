{
 "cells": [
  {
   "cell_type": "markdown",
   "id": "3093d156-dae6-4582-956e-dae5fc931162",
   "metadata": {},
   "source": [
    "## Compute lattice constant using the current potential."
   ]
  },
  {
   "cell_type": "code",
   "execution_count": null,
   "id": "22bfd3d8",
   "metadata": {},
   "outputs": [],
   "source": [
    "import Note_func_OOP as nf\n",
    "\n",
    "#Initialise system\n",
    "exp_test = nf.BOExperiment()\n",
    "\n",
    "#Review Input file parameters\n",
    "exp_test.review_input()\n",
    "\n",
    "#Compute and set cell a\n",
    "exp_test.set_cells()"
   ]
  },
  {
   "cell_type": "markdown",
   "id": "a30a657e-5a2a-4c1e-a7e4-81e55158e044",
   "metadata": {},
   "source": [
    "## Adsorb one C atom using built-in BFGS."
   ]
  },
  {
   "cell_type": "code",
   "execution_count": null,
   "id": "1cce9f1c-143a-4b28-a39f-3de162edb76b",
   "metadata": {},
   "outputs": [],
   "source": [
    "exp_test.Add_adsorbant()"
   ]
  },
  {
   "cell_type": "markdown",
   "id": "f7787e67-50e4-40d6-8479-f21e7482709c",
   "metadata": {},
   "source": [
    "## Optimize adsorbate position usgin built-in BFGS from ASE."
   ]
  },
  {
   "cell_type": "code",
   "execution_count": null,
   "id": "af55440d-dd81-4d14-a500-05ec8ef44691",
   "metadata": {},
   "outputs": [],
   "source": [
    "exp_test.BFGS_opt()"
   ]
  },
  {
   "cell_type": "code",
   "execution_count": null,
   "id": "b9d70bfb",
   "metadata": {},
   "outputs": [],
   "source": [
    "# Save BFGS as gig\n",
    "exp_test.BFGS_gif()"
   ]
  },
  {
   "cell_type": "markdown",
   "metadata": {},
   "source": [
    "## Convergence study"
   ]
  },
  {
   "cell_type": "code",
   "execution_count": null,
   "id": "e79b8917",
   "metadata": {},
   "outputs": [],
   "source": [
    "exp_test.conv_study()\n",
    "#Not yet implemented"
   ]
  },
  {
   "cell_type": "markdown",
   "id": "2ea5a0ea",
   "metadata": {},
   "source": [
    "## Response surface exploration"
   ]
  },
  {
   "cell_type": "code",
   "execution_count": null,
   "id": "6f2a1420",
   "metadata": {},
   "outputs": [],
   "source": [
    "exp_test.Response_surface()\n",
    "#Not yet implemented"
   ]
  },
  {
   "cell_type": "markdown",
   "id": "d80aa010-0d9f-4f24-82e7-3815ddcee72f",
   "metadata": {},
   "source": [
    "# BOTORCH"
   ]
  },
  {
   "cell_type": "markdown",
   "id": "e82d1d73-2d54-4fcf-8fe5-d504e37efed6",
   "metadata": {},
   "source": [
    "## Run the BO loop."
   ]
  },
  {
   "cell_type": "code",
   "execution_count": null,
   "id": "a476257c-7a50-473f-9482-4c0d4fee48c7",
   "metadata": {},
   "outputs": [],
   "source": [
    "exp_test.BO()"
   ]
  },
  {
   "cell_type": "markdown",
   "id": "d6fde3ac",
   "metadata": {},
   "source": [
    "## (Optionnal : Load previous experiment result from JSON file)"
   ]
  },
  {
   "cell_type": "code",
   "execution_count": null,
   "id": "9a7a11a7",
   "metadata": {},
   "outputs": [],
   "source": [
    "#Not yet implemented"
   ]
  },
  {
   "cell_type": "markdown",
   "id": "077c686d",
   "metadata": {},
   "source": [
    "## Save results in csv"
   ]
  },
  {
   "cell_type": "code",
   "execution_count": null,
   "id": "555aafbc-755f-43ce-a5a2-c923ad466e3a",
   "metadata": {},
   "outputs": [],
   "source": [
    "exp_test.save_exp_csv()"
   ]
  },
  {
   "cell_type": "markdown",
   "id": "a40b82cb",
   "metadata": {},
   "source": [
    "## Save Ax Client and experiment as JSON file"
   ]
  },
  {
   "cell_type": "code",
   "execution_count": null,
   "id": "941c24cd",
   "metadata": {},
   "outputs": [],
   "source": [
    "exp_test.save_exp_json()"
   ]
  },
  {
   "cell_type": "markdown",
   "id": "a599b521",
   "metadata": {},
   "source": [
    "## Display Results"
   ]
  },
  {
   "cell_type": "markdown",
   "id": "36e96968-cff1-4e51-88c7-b79bf84ea0da",
   "metadata": {},
   "source": [
    "## Visualize the resulting chemical system."
   ]
  },
  {
   "cell_type": "code",
   "execution_count": null,
   "id": "db887a3b",
   "metadata": {},
   "outputs": [],
   "source": [
    "exp_test.exp_view()"
   ]
  }
 ],
 "metadata": {
  "kernelspec": {
   "display_name": "Python 3 (ipykernel)",
   "language": "python",
   "name": "python3"
  },
  "language_info": {
   "codemirror_mode": {
    "name": "ipython",
    "version": 3
   },
   "file_extension": ".py",
   "mimetype": "text/x-python",
   "name": "python",
   "nbconvert_exporter": "python",
   "pygments_lexer": "ipython3",
   "version": "3.10.6"
  }
 },
 "nbformat": 4,
 "nbformat_minor": 5
}
