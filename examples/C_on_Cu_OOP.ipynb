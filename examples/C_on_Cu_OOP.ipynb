{
 "cells": [
  {
   "cell_type": "markdown",
   "id": "3093d156-dae6-4582-956e-dae5fc931162",
   "metadata": {},
   "source": [
    "## Compute lattice constant using the current potential."
   ]
  },
  {
   "cell_type": "code",
   "execution_count": null,
   "id": "22bfd3d8",
   "metadata": {},
   "outputs": [],
   "source": [
    "import Note_func_OOP as nf\n",
    "\n",
    "#Initialise system\n",
    "exp_test = nf.BOExperiment(\"Experiment 4\")\n",
    "\n",
    "#Review Input file parameters\n",
    "exp_test.review_input()\n",
    "\n",
    "#Compute and set cell a\n",
    "exp_test.set_cells()"
   ]
  },
  {
   "cell_type": "code",
   "execution_count": null,
   "id": "295e24b4",
   "metadata": {},
   "outputs": [],
   "source": [
    "# Adsorb one (or more) C atoms, or a molecule\n",
    "exp_test.add_adsorbant()\n",
    "#exp_test.view()"
   ]
  },
  {
   "cell_type": "code",
   "execution_count": null,
   "id": "b747fcea",
   "metadata": {},
   "outputs": [],
   "source": [
    "exp_test.add_molecule()\n",
    "exp_test.view()"
   ]
  },
  {
   "cell_type": "markdown",
   "id": "f7787e67-50e4-40d6-8479-f21e7482709c",
   "metadata": {},
   "source": [
    "## Optimize adsorbate position usgin built-in BFGS from ASE."
   ]
  },
  {
   "cell_type": "markdown",
   "id": "d80aa010-0d9f-4f24-82e7-3815ddcee72f",
   "metadata": {},
   "source": [
    "# BOTORCH"
   ]
  },
  {
   "cell_type": "markdown",
   "id": "e82d1d73-2d54-4fcf-8fe5-d504e37efed6",
   "metadata": {},
   "source": [
    "## Run the BO loop."
   ]
  },
  {
   "cell_type": "code",
   "execution_count": null,
   "id": "a476257c-7a50-473f-9482-4c0d4fee48c7",
   "metadata": {},
   "outputs": [],
   "source": [
    "## Optimize adsorbate position usgin built-in BFGS from ASE.\n",
    "\n",
    "exp_test.BFGS_opt()\n",
    "\n",
    "exp_test.BO()"
   ]
  },
  {
   "cell_type": "markdown",
   "id": "077c686d",
   "metadata": {},
   "source": [
    "## Save results in csv"
   ]
  },
  {
   "cell_type": "code",
   "execution_count": null,
   "id": "555aafbc-755f-43ce-a5a2-c923ad466e3a",
   "metadata": {},
   "outputs": [],
   "source": [
    "exp_test.save_exp_csv()"
   ]
  },
  {
   "cell_type": "markdown",
   "id": "a40b82cb",
   "metadata": {},
   "source": [
    "## Save Ax Client and experiment as JSON file"
   ]
  },
  {
   "cell_type": "code",
   "execution_count": null,
   "id": "941c24cd",
   "metadata": {},
   "outputs": [],
   "source": [
    "exp_test.save_exp_json()"
   ]
  },
  {
   "cell_type": "markdown",
   "id": "36e96968-cff1-4e51-88c7-b79bf84ea0da",
   "metadata": {},
   "source": [
    "# Visualize the resulting chemical system. Save plot and gif results"
   ]
  },
  {
   "cell_type": "markdown",
   "id": "73f42456",
   "metadata": {},
   "source": [
    "### Slice and contour plots (model and response surface)"
   ]
  },
  {
   "cell_type": "code",
   "execution_count": null,
   "id": "a641e5bb",
   "metadata": {},
   "outputs": [],
   "source": [
    "exp_test.exp_view()\n",
    "#exp_test.slice_plot()\n",
    "exp_test.slice_fit(plot=True)\n",
    "exp_test.slice_plot_resp_surface()\n",
    "exp_test.contour_plot()\n",
    "exp_test.acqf_contour_slice_gif()"
   ]
  },
  {
   "cell_type": "markdown",
   "id": "21372358",
   "metadata": {},
   "source": [
    "# Looping"
   ]
  },
  {
   "cell_type": "code",
   "execution_count": null,
   "id": "71a3ca7c",
   "metadata": {},
   "outputs": [],
   "source": [
    "import Note_func_OOP as nf\n",
    "\n",
    "exp_list = []\n",
    "\n",
    "# Loop over creating variable names and adding to list\n",
    "for i in range(1, 10):\n",
    "    exp_list.append(nf.BOExperiment(\"Experiment\" + str(i)))\n",
    "\n",
    "for i in exp_list:\n",
    "    i.review_input()\n",
    "    i.set_cells()\n",
    "    i.add_adsorbant()\n",
    "    #i.add_molecule()\n",
    "    i.BFGS_opt()\n",
    "    i.BO()\n",
    "    i.save_exp_csv()\n",
    "    #i.save_exp_json()\n",
    "    i.exp_view()\n",
    "    i.slice_fit(plot = True)\n",
    "    i.slice_plot_resp_surface()\n",
    "    i.contour_plot()"
   ]
  },
  {
   "cell_type": "code",
   "execution_count": null,
   "id": "f18808c3",
   "metadata": {},
   "outputs": [],
   "source": [
    "print(nf.BOExperiment.ExperimentNames)\n",
    "print(nf.BOExperiment.BFGS_en, nf.BOExperiment.BFGS_runtime)\n",
    "print(nf.BOExperiment.BO_en, nf.BOExperiment.BO_runtime)\n",
    "print(nf.BOExperiment.mean_BFGS(), nf.BOExperiment.mean_BO())"
   ]
  },
  {
   "cell_type": "markdown",
   "id": "cb8b9b8a",
   "metadata": {},
   "source": [
    "# Still to implement"
   ]
  },
  {
   "cell_type": "code",
   "execution_count": null,
   "id": "4fd84f77",
   "metadata": {},
   "outputs": [],
   "source": [
    "exp_test.conv_study()\n",
    "#Not yet implemented\n",
    "exp_test.record_data()"
   ]
  },
  {
   "cell_type": "markdown",
   "id": "c4e3be30",
   "metadata": {},
   "source": [
    "# Misc"
   ]
  },
  {
   "cell_type": "markdown",
   "id": "0c749e9e",
   "metadata": {},
   "source": [
    "### Response surface exploration"
   ]
  },
  {
   "cell_type": "code",
   "execution_count": null,
   "id": "1a891c7e",
   "metadata": {},
   "outputs": [],
   "source": [
    "exp_test.Response_surface()"
   ]
  }
 ],
 "metadata": {
  "kernelspec": {
   "display_name": "Python 3 (ipykernel)",
   "language": "python",
   "name": "python3"
  },
  "language_info": {
   "codemirror_mode": {
    "name": "ipython",
    "version": 3
   },
   "file_extension": ".py",
   "mimetype": "text/x-python",
   "name": "python",
   "nbconvert_exporter": "python",
   "pygments_lexer": "ipython3",
   "version": "3.10.6"
  }
 },
 "nbformat": 4,
 "nbformat_minor": 5
}
