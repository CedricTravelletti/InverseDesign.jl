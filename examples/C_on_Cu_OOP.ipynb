{
 "cells": [
  {
   "cell_type": "markdown",
   "id": "3093d156-dae6-4582-956e-dae5fc931162",
   "metadata": {},
   "source": [
    "## Compute lattice constant using the current potential."
   ]
  },
  {
   "cell_type": "code",
   "execution_count": null,
   "id": "22bfd3d8",
   "metadata": {},
   "outputs": [],
   "source": [
    "import Note_func_OOP as nf\n",
    "\n",
    "#Initialise system\n",
    "exp_test = nf.BOExperiment(\"Experiment 3\")\n",
    "\n",
    "#Review Input file parameters\n",
    "exp_test.review_input()\n",
    "\n",
    "#Compute and set cell a\n",
    "exp_test.set_cells()"
   ]
  },
  {
   "cell_type": "markdown",
   "id": "a30a657e-5a2a-4c1e-a7e4-81e55158e044",
   "metadata": {},
   "source": [
    "## Adsorb one C atom using built-in BFGS."
   ]
  },
  {
   "cell_type": "code",
   "execution_count": null,
   "id": "1cce9f1c-143a-4b28-a39f-3de162edb76b",
   "metadata": {},
   "outputs": [],
   "source": [
    "exp_test.add_adsorbant()"
   ]
  },
  {
   "cell_type": "code",
   "execution_count": null,
   "id": "b747fcea",
   "metadata": {},
   "outputs": [],
   "source": [
    "exp_test.add_molecule()"
   ]
  },
  {
   "cell_type": "code",
   "execution_count": null,
   "id": "6bb9fe4b",
   "metadata": {},
   "outputs": [],
   "source": [
    "exp_test.view()"
   ]
  },
  {
   "cell_type": "code",
   "execution_count": null,
   "id": "bebc4296",
   "metadata": {},
   "outputs": [],
   "source": [
    "exp_test.Response_surface()"
   ]
  },
  {
   "cell_type": "markdown",
   "id": "f7787e67-50e4-40d6-8479-f21e7482709c",
   "metadata": {},
   "source": [
    "## Optimize adsorbate position usgin built-in BFGS from ASE."
   ]
  },
  {
   "cell_type": "code",
   "execution_count": null,
   "id": "af55440d-dd81-4d14-a500-05ec8ef44691",
   "metadata": {},
   "outputs": [],
   "source": [
    "exp_test.BFGS_opt()"
   ]
  },
  {
   "cell_type": "code",
   "execution_count": null,
   "id": "b9d70bfb",
   "metadata": {},
   "outputs": [],
   "source": [
    "# Save BFGS as gif\n",
    "exp_test.BFGS_gif()"
   ]
  },
  {
   "cell_type": "markdown",
   "metadata": {},
   "source": [
    "## Convergence study"
   ]
  },
  {
   "cell_type": "code",
   "execution_count": null,
   "id": "e79b8917",
   "metadata": {},
   "outputs": [],
   "source": [
    "exp_test.conv_study()\n",
    "#Not yet implemented"
   ]
  },
  {
   "cell_type": "markdown",
   "id": "2ea5a0ea",
   "metadata": {},
   "source": [
    "## Response surface exploration"
   ]
  },
  {
   "cell_type": "code",
   "execution_count": null,
   "id": "6f2a1420",
   "metadata": {},
   "outputs": [],
   "source": [
    "exp_test.Response_surface()\n",
    "#Not yet implemented"
   ]
  },
  {
   "cell_type": "markdown",
   "id": "d80aa010-0d9f-4f24-82e7-3815ddcee72f",
   "metadata": {},
   "source": [
    "# BOTORCH"
   ]
  },
  {
   "cell_type": "markdown",
   "id": "e82d1d73-2d54-4fcf-8fe5-d504e37efed6",
   "metadata": {},
   "source": [
    "## Run the BO loop."
   ]
  },
  {
   "cell_type": "code",
   "execution_count": null,
   "id": "a476257c-7a50-473f-9482-4c0d4fee48c7",
   "metadata": {},
   "outputs": [],
   "source": [
    "exp_test.BO()"
   ]
  },
  {
   "cell_type": "code",
   "execution_count": null,
   "id": "4dde11c9",
   "metadata": {},
   "outputs": [],
   "source": [
    "nf.BOExperiment.mean_BFGS()"
   ]
  },
  {
   "cell_type": "code",
   "execution_count": null,
   "id": "88c45032",
   "metadata": {},
   "outputs": [],
   "source": [
    "nf.BOExperiment.mean_BO()"
   ]
  },
  {
   "cell_type": "code",
   "execution_count": null,
   "id": "e2e61f89",
   "metadata": {},
   "outputs": [],
   "source": [
    "nf.BOExperiment.ExperimentNames"
   ]
  },
  {
   "cell_type": "markdown",
   "id": "d6fde3ac",
   "metadata": {},
   "source": [
    "## (Optionnal : Load previous experiment result from JSON file)"
   ]
  },
  {
   "cell_type": "code",
   "execution_count": null,
   "id": "9a7a11a7",
   "metadata": {},
   "outputs": [],
   "source": [
    "#Not yet implemented\n",
    "import torch\n",
    "a = torch.tensor([[0.9995, 0.6505, 0.4270, 0.6972, 0.4363, 0.7692],\n",
    "        [0.1262, 0.5147, 0.9508, 0.0819, 0.0879, 0.4912],\n",
    "        [0.0867, 0.0657, 0.8721, 0.4590, 0.4767, 0.2643],\n",
    "        [0.1340, 0.2028, 0.8101, 0.9379, 0.7087, 0.2836],\n",
    "        [0.9854, 0.5990, 0.4352, 0.4520, 0.0852, 0.3856]])\n",
    "\n",
    "\n",
    "a.shape[-2:].numel()\n",
    "a.size(-1)"
   ]
  },
  {
   "cell_type": "markdown",
   "id": "077c686d",
   "metadata": {},
   "source": [
    "## Save results in csv"
   ]
  },
  {
   "cell_type": "code",
   "execution_count": null,
   "id": "555aafbc-755f-43ce-a5a2-c923ad466e3a",
   "metadata": {},
   "outputs": [],
   "source": [
    "exp_test.save_exp_csv()"
   ]
  },
  {
   "cell_type": "markdown",
   "id": "a40b82cb",
   "metadata": {},
   "source": [
    "## Save Ax Client and experiment as JSON file"
   ]
  },
  {
   "cell_type": "code",
   "execution_count": null,
   "id": "941c24cd",
   "metadata": {},
   "outputs": [],
   "source": [
    "exp_test.save_exp_json()"
   ]
  },
  {
   "cell_type": "markdown",
   "id": "a599b521",
   "metadata": {},
   "source": [
    "## Display Results"
   ]
  },
  {
   "cell_type": "markdown",
   "id": "36e96968-cff1-4e51-88c7-b79bf84ea0da",
   "metadata": {},
   "source": [
    "## Visualize the resulting chemical system."
   ]
  },
  {
   "cell_type": "code",
   "execution_count": null,
   "id": "db887a3b",
   "metadata": {},
   "outputs": [],
   "source": [
    "exp_test.exp_view()"
   ]
  },
  {
   "cell_type": "markdown",
   "id": "21372358",
   "metadata": {},
   "source": [
    "# Looping"
   ]
  },
  {
   "cell_type": "code",
   "execution_count": null,
   "id": "71a3ca7c",
   "metadata": {},
   "outputs": [],
   "source": [
    "import Note_func_OOP as nf\n",
    "\n",
    "exp_list = []\n",
    "\n",
    "# Loop over creating variable names and adding to list\n",
    "for i in range(1, 11):\n",
    "    exp_list.append(nf.BOExperiment(\"Experiment\" + str(i)))\n",
    "\n",
    "for i in exp_list:\n",
    "    i.set_cells()\n",
    "    i.add_adsorbant()\n",
    "    i.BFGS_opt()\n",
    "    i.BFGS_gif()\n",
    "    i.conv_study()\n",
    "    i.Response_surface()\n",
    "    i.BO()\n",
    "    i.save_exp_csv()\n",
    "    i.save_exp_json()\n",
    "    i.exp_view()"
   ]
  },
  {
   "cell_type": "code",
   "execution_count": null,
   "id": "f18808c3",
   "metadata": {},
   "outputs": [],
   "source": [
    "nf.BOExperiment.BFGS_en"
   ]
  },
  {
   "cell_type": "code",
   "execution_count": null,
   "id": "9d2df6f2",
   "metadata": {},
   "outputs": [],
   "source": [
    "nf.BOExperiment.BFGS_runtime\n"
   ]
  },
  {
   "cell_type": "code",
   "execution_count": null,
   "id": "55f4281d",
   "metadata": {},
   "outputs": [],
   "source": [
    "nf.BOExperiment.BO_runtime"
   ]
  },
  {
   "cell_type": "code",
   "execution_count": null,
   "id": "67638099",
   "metadata": {},
   "outputs": [],
   "source": [
    "nf.BOExperiment.BO_en"
   ]
  },
  {
   "cell_type": "code",
   "execution_count": null,
   "id": "c0168823",
   "metadata": {},
   "outputs": [],
   "source": [
    "nf.BOExperiment.mean_BFGS()"
   ]
  },
  {
   "cell_type": "code",
   "execution_count": null,
   "id": "988d9528",
   "metadata": {},
   "outputs": [],
   "source": [
    "nf.BOExperiment.mean_BO()"
   ]
  },
  {
   "cell_type": "code",
   "execution_count": null,
   "id": "c6e5c2cd",
   "metadata": {},
   "outputs": [],
   "source": [
    "nf.BOExperiment.ExperimentNames"
   ]
  },
  {
   "cell_type": "code",
   "execution_count": null,
   "id": "aa6287c6",
   "metadata": {},
   "outputs": [],
   "source": [
    "import torch\n",
    "\n",
    "x = torch.tensor([1, 2, 3, 4,5,6], dtype=torch.float32) \n",
    "x\n",
    "y = torch.tensor([2, 4, 6, 8,10,12], dtype=torch.float32)\n",
    "\n",
    "x.shape\n",
    "\n",
    "#Combine x and y into a single tensor\n",
    "xy = torch.vstack((x, y))\n",
    "\n",
    "xy.shape[-1]\n",
    "xy"
   ]
  },
  {
   "cell_type": "code",
   "execution_count": null,
   "id": "117dee48",
   "metadata": {},
   "outputs": [],
   "source": []
  }
 ],
 "metadata": {
  "kernelspec": {
   "display_name": "Python 3 (ipykernel)",
   "language": "python",
   "name": "python3"
  },
  "language_info": {
   "codemirror_mode": {
    "name": "ipython",
    "version": 3
   },
   "file_extension": ".py",
   "mimetype": "text/x-python",
   "name": "python",
   "nbconvert_exporter": "python",
   "pygments_lexer": "ipython3",
   "version": "3.10.6"
  }
 },
 "nbformat": 4,
 "nbformat_minor": 5
}
