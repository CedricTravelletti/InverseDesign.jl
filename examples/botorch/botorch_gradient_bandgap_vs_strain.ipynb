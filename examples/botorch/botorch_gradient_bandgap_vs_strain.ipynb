{
 "cells": [
  {
   "cell_type": "markdown",
   "id": "ce096015-21cf-4974-9a07-c9c0d13a057b",
   "metadata": {
    "tags": []
   },
   "source": [
    "## Benchmarking gradient BO\n",
    "\n",
    "We benchmark the gradient-based BO provided by BoTorch on traditional test functions. \n",
    "Note that the implementation provided by BoTorch only leverages gradients in the conditioning of the GP, \n",
    "not in the acquisition function itself."
   ]
  },
  {
   "cell_type": "code",
   "execution_count": 1,
   "id": "ddb3ae78-4f7c-49d4-a5ed-48b8b717734d",
   "metadata": {},
   "outputs": [],
   "source": [
    "# Imports\n",
    "import os\n",
    "\n",
    "import torch\n",
    "import gpytorch\n",
    "import numpy as np\n",
    "from matplotlib import pyplot as plt\n",
    "\n",
    "from botorch import fit_gpytorch_mll\n",
    "from botorch.optim import optimize_acqf\n",
    "from botorch.acquisition import qKnowledgeGradient, qNoisyExpectedImprovement\n",
    "from botorch.acquisition.objective import ScalarizedPosteriorTransform\n",
    "from botorch.models.gpytorch import GPyTorchModel\n",
    "from botorch.sampling.normal import SobolQMCNormalSampler\n",
    "from botorch.models.model import FantasizeMixin\n",
    "from botorch.models.gpytorch import GPyTorchModel\n",
    "\n",
    "from gpytorch.mlls.sum_marginal_log_likelihood import ExactMarginalLogLikelihood\n"
   ]
  },
  {
   "cell_type": "code",
   "execution_count": 2,
   "id": "f3c38a9d-2c6e-4804-a43e-ab1a9ca1e576",
   "metadata": {},
   "outputs": [],
   "source": [
    "# Set default data type to avoid numerical issues from low precision\n",
    "torch.set_default_dtype(torch.double)\n",
    "\n",
    "# Set seed for consistency and good results\n",
    "seed = 3\n",
    "torch.manual_seed(seed)\n",
    "np.random.seed(seed)"
   ]
  },
  {
   "cell_type": "code",
   "execution_count": 65,
   "id": "b0682efe-5d3d-4128-88fe-6783aec381bc",
   "metadata": {},
   "outputs": [],
   "source": [
    "# Parameters\n",
    "f_noise = 0.01 # Noise added to both function evaluations and their gradients\n",
    "rs_init = 3 # Initialization points from random search\n",
    "rb_dim = 3 # Dimension of the optimization problem.\n",
    "d_min = -5.12 # Lower bound of search space for each dimension of the domain\n",
    "d_max = 5.12 # Upper bound of search space for each dimension of the domain\n",
    "bo_iters = 40 # Number of iterations of Bayesian Optimization\n",
    "mc_samples = 256 # Samples from Monte-Carlo sampler"
   ]
  },
  {
   "cell_type": "markdown",
   "id": "acf0cc23-446d-4a94-9978-151828b8ef0f",
   "metadata": {},
   "source": [
    "## Derivative-enabled Gaussian Process (dGP)\n",
    "\n",
    "We create a custom BoTorch dGP model using GPyTorch. This model requires modifying the mean and covariance matrix to incorporate gradient/derivative information. As such, a mean *vector* and the covariance matrix of the RBF kernel are used [2]. This class was modified from this [GPyTorch tutorial](https://docs.gpytorch.ai/en/latest/examples/08_Advanced_Usage/Simple_GP_Regression_Derivative_Information_1d.html). \n"
   ]
  },
  {
   "cell_type": "code",
   "execution_count": 66,
   "id": "a42af425-d89b-4398-9bae-fdee07a9121b",
   "metadata": {},
   "outputs": [],
   "source": [
    "# Define the dGP\n",
    "class GPWithDerivatives(GPyTorchModel, gpytorch.models.ExactGP, FantasizeMixin):\n",
    "    def __init__(self, train_X, train_Y):\n",
    "        # Dimension of model\n",
    "        dim = train_X.shape[-1] \n",
    "        # Multi-dimensional likelihood since we're modeling a function and its gradient\n",
    "        likelihood = gpytorch.likelihoods.MultitaskGaussianLikelihood(num_tasks=1 + dim)\n",
    "        super().__init__(train_X, train_Y, likelihood)\n",
    "        # Gradient-enabled mean\n",
    "        self.mean_module = gpytorch.means.ConstantMeanGrad() \n",
    "        # Gradient-enabled kernel\n",
    "        self.base_kernel = gpytorch.kernels.RBFKernelGrad( \n",
    "            ard_num_dims=dim, # Separate lengthscale for each input dimension\n",
    "        )\n",
    "        # Adds lengthscale to the kernel\n",
    "        self.covar_module = gpytorch.kernels.ScaleKernel(self.base_kernel)\n",
    "        # Output dimension is 1 (function value) + dim (number of partial derivatives)\n",
    "        self._num_outputs = 1 + dim\n",
    "        # Used to extract function value and not gradients during optimization\n",
    "        self.scale_tensor = torch.tensor([1.0] + [0.0]*dim, dtype=torch.double)\n",
    "\n",
    "    def forward(self, x):\n",
    "        mean_x = self.mean_module(x)\n",
    "        covar_x = self.covar_module(x)\n",
    "        return gpytorch.distributions.MultitaskMultivariateNormal(mean_x, covar_x)\n",
    "\n",
    "class myGP(GPyTorchModel, gpytorch.models.ExactGP, FantasizeMixin):\n",
    "    def __init__(self, train_X, train_Y):\n",
    "        # Dimension of model\n",
    "        dim = train_X.shape[-1] \n",
    "        # Multi-dimensional likelihood since we're modeling a function and its gradient\n",
    "        likelihood = gpytorch.likelihoods.GaussianLikelihood()\n",
    "        super().__init__(train_X, train_Y, likelihood)\n",
    "        # Gradient-enabled mean\n",
    "        self.mean_module = gpytorch.means.ConstantMeanGrad() \n",
    "        # Gradient-enabled kernel\n",
    "        self.base_kernel = gpytorch.kernels.RBFKernelGrad( \n",
    "            ard_num_dims=dim, # Separate lengthscale for each input dimension\n",
    "        )\n",
    "        # Adds lengthscale to the kernel\n",
    "        self.covar_module = gpytorch.kernels.ScaleKernel(self.base_kernel)\n",
    "        # Output dimension is 1 (function value)\n",
    "        self._num_outputs = 1\n",
    "\n",
    "    def forward(self, x):\n",
    "        mean_x = self.mean_module(x)\n",
    "        covar_x = self.covar_module(x)\n",
    "        return gpytorch.distributions.MultivariateNormal(mean_x, covar_x)"
   ]
  },
  {
   "cell_type": "markdown",
   "id": "9b8024cb-34da-4c16-870e-5dcd9d1b7197",
   "metadata": {},
   "source": [
    "## Random Search\n",
    "\n",
    "To initialize our GP we obtain initialization data using random search on the optimization domain $[-2,2]^3$."
   ]
  },
  {
   "cell_type": "code",
   "execution_count": 67,
   "id": "18331985-8df4-49fb-9ccd-aa681a52995a",
   "metadata": {},
   "outputs": [],
   "source": [
    "# Random search locations\n",
    "init_X = torch.rand((rs_init, rb_dim))*(d_max - d_min)+d_min\n",
    "init_X = torch.autograd.Variable(init_X,requires_grad=True)"
   ]
  },
  {
   "cell_type": "code",
   "execution_count": 68,
   "id": "83a69d9b-5914-46e7-b21c-b8406cc21cd0",
   "metadata": {},
   "outputs": [],
   "source": [
    "import botorch.test_functions\n",
    "Rastrigin = botorch.test_functions.synthetic.Rastrigin(dim=rb_dim)\n",
    "Rosenbrock = botorch.test_functions.synthetic.Rosenbrock(dim=rb_dim)\n",
    "\n",
    "def f(x):\n",
    "    return - Rosenbrock.evaluate_true(x)"
   ]
  },
  {
   "cell_type": "code",
   "execution_count": 69,
   "id": "dc22b8d8-8d8d-491a-b804-77b4bf0bc426",
   "metadata": {},
   "outputs": [],
   "source": [
    "# Populate random search evaluations\n",
    "init_Y = torch.empty((rs_init, rb_dim + 1))\n",
    "for i in range(rs_init):\n",
    "    obj = f(init_X[i])\n",
    "    obj.backward()\n",
    "    deriv = init_X.grad[i]\n",
    "    init_Y[i][0] = obj\n",
    "    init_Y[i][1:] = deriv\n",
    "init_X = init_X.detach()\n",
    "init_Y = init_Y.detach()"
   ]
  },
  {
   "cell_type": "markdown",
   "id": "805acd60-bcd7-425d-ba57-7969d893f453",
   "metadata": {},
   "source": [
    "## qNEI FOBO Loop"
   ]
  },
  {
   "cell_type": "markdown",
   "id": "c3371766-c05f-4a8c-9720-9f236203a925",
   "metadata": {},
   "source": [
    "Here we have the FOBO loop with the qNEI acquisition function on a dGP. Note that we have to include a `ScalarizedPosteriorTransform` to ensure that we're optiming over the black-box function's function evaluation instead of its gradients (since the output of the dGP is a mean vector of the black-box function's value and gradients, as opposed to a mean scalar of just the black-box function's value). Also, we scale the domain and range of the training data [to avoid numerical issues](https://github.com/pytorch/botorch/issues/1745)."
   ]
  },
  {
   "cell_type": "code",
   "execution_count": 70,
   "id": "0e8d2138-81ec-49da-8fca-06991197a95c",
   "metadata": {
    "tags": []
   },
   "outputs": [
    {
     "ename": "ModelFittingError",
     "evalue": "All attempts to fit the model have failed. For more information, try enabling botorch.settings.debug mode.",
     "output_type": "error",
     "traceback": [
      "\u001b[0;31m---------------------------------------------------------------------------\u001b[0m",
      "\u001b[0;31mModelFittingError\u001b[0m                         Traceback (most recent call last)",
      "Cell \u001b[0;32mIn[70], line 17\u001b[0m\n\u001b[1;32m     15\u001b[0m dGP_model \u001b[38;5;241m=\u001b[39m GPWithDerivatives(scaled_train_X, scaled_train_Y) \u001b[38;5;66;03m# Define dGP model\u001b[39;00m\n\u001b[1;32m     16\u001b[0m mll \u001b[38;5;241m=\u001b[39m ExactMarginalLogLikelihood(dGP_model\u001b[38;5;241m.\u001b[39mlikelihood, dGP_model) \u001b[38;5;66;03m# Define MLL\u001b[39;00m\n\u001b[0;32m---> 17\u001b[0m \u001b[43mfit_gpytorch_mll\u001b[49m\u001b[43m(\u001b[49m\u001b[43mmll\u001b[49m\u001b[43m,\u001b[49m\u001b[43m \u001b[49m\u001b[43mmax_attempts\u001b[49m\u001b[38;5;241;43m=\u001b[39;49m\u001b[38;5;241;43m40\u001b[39;49m\u001b[43m)\u001b[49m\n\u001b[1;32m     19\u001b[0m \u001b[38;5;66;03m# Extract only the function value from the multi-output GP, the dGP\u001b[39;00m\n\u001b[1;32m     20\u001b[0m scal_transf \u001b[38;5;241m=\u001b[39m ScalarizedPosteriorTransform(weights\u001b[38;5;241m=\u001b[39mdGP_model\u001b[38;5;241m.\u001b[39mscale_tensor)\n",
      "File \u001b[0;32m~/PostPhD/Dev/BayesOpt/botorch/botorch/fit.py:105\u001b[0m, in \u001b[0;36mfit_gpytorch_mll\u001b[0;34m(mll, closure, optimizer, closure_kwargs, optimizer_kwargs, **kwargs)\u001b[0m\n\u001b[1;32m    102\u001b[0m \u001b[38;5;28;01mif\u001b[39;00m optimizer \u001b[38;5;129;01mis\u001b[39;00m \u001b[38;5;129;01mnot\u001b[39;00m \u001b[38;5;28;01mNone\u001b[39;00m:  \u001b[38;5;66;03m# defer to per-method defaults\u001b[39;00m\n\u001b[1;32m    103\u001b[0m     kwargs[\u001b[38;5;124m\"\u001b[39m\u001b[38;5;124moptimizer\u001b[39m\u001b[38;5;124m\"\u001b[39m] \u001b[38;5;241m=\u001b[39m optimizer\n\u001b[0;32m--> 105\u001b[0m \u001b[38;5;28;01mreturn\u001b[39;00m \u001b[43mFitGPyTorchMLL\u001b[49m\u001b[43m(\u001b[49m\n\u001b[1;32m    106\u001b[0m \u001b[43m    \u001b[49m\u001b[43mmll\u001b[49m\u001b[43m,\u001b[49m\n\u001b[1;32m    107\u001b[0m \u001b[43m    \u001b[49m\u001b[38;5;28;43mtype\u001b[39;49m\u001b[43m(\u001b[49m\u001b[43mmll\u001b[49m\u001b[38;5;241;43m.\u001b[39;49m\u001b[43mlikelihood\u001b[49m\u001b[43m)\u001b[49m\u001b[43m,\u001b[49m\n\u001b[1;32m    108\u001b[0m \u001b[43m    \u001b[49m\u001b[38;5;28;43mtype\u001b[39;49m\u001b[43m(\u001b[49m\u001b[43mmll\u001b[49m\u001b[38;5;241;43m.\u001b[39;49m\u001b[43mmodel\u001b[49m\u001b[43m)\u001b[49m\u001b[43m,\u001b[49m\n\u001b[1;32m    109\u001b[0m \u001b[43m    \u001b[49m\u001b[43mclosure\u001b[49m\u001b[38;5;241;43m=\u001b[39;49m\u001b[43mclosure\u001b[49m\u001b[43m,\u001b[49m\n\u001b[1;32m    110\u001b[0m \u001b[43m    \u001b[49m\u001b[43mclosure_kwargs\u001b[49m\u001b[38;5;241;43m=\u001b[39;49m\u001b[43mclosure_kwargs\u001b[49m\u001b[43m,\u001b[49m\n\u001b[1;32m    111\u001b[0m \u001b[43m    \u001b[49m\u001b[43moptimizer_kwargs\u001b[49m\u001b[38;5;241;43m=\u001b[39;49m\u001b[43moptimizer_kwargs\u001b[49m\u001b[43m,\u001b[49m\n\u001b[1;32m    112\u001b[0m \u001b[43m    \u001b[49m\u001b[38;5;241;43m*\u001b[39;49m\u001b[38;5;241;43m*\u001b[39;49m\u001b[43mkwargs\u001b[49m\u001b[43m,\u001b[49m\n\u001b[1;32m    113\u001b[0m \u001b[43m\u001b[49m\u001b[43m)\u001b[49m\n",
      "File \u001b[0;32m~/PostPhD/Dev/BayesOpt/botorch/botorch/utils/dispatcher.py:93\u001b[0m, in \u001b[0;36mDispatcher.__call__\u001b[0;34m(self, *args, **kwargs)\u001b[0m\n\u001b[1;32m     91\u001b[0m func \u001b[38;5;241m=\u001b[39m \u001b[38;5;28mself\u001b[39m\u001b[38;5;241m.\u001b[39m\u001b[38;5;21m__getitem__\u001b[39m(types\u001b[38;5;241m=\u001b[39mtypes)\n\u001b[1;32m     92\u001b[0m \u001b[38;5;28;01mtry\u001b[39;00m:\n\u001b[0;32m---> 93\u001b[0m     \u001b[38;5;28;01mreturn\u001b[39;00m \u001b[43mfunc\u001b[49m\u001b[43m(\u001b[49m\u001b[38;5;241;43m*\u001b[39;49m\u001b[43margs\u001b[49m\u001b[43m,\u001b[49m\u001b[43m \u001b[49m\u001b[38;5;241;43m*\u001b[39;49m\u001b[38;5;241;43m*\u001b[39;49m\u001b[43mkwargs\u001b[49m\u001b[43m)\u001b[49m\n\u001b[1;32m     94\u001b[0m \u001b[38;5;28;01mexcept\u001b[39;00m MDNotImplementedError:\n\u001b[1;32m     95\u001b[0m     \u001b[38;5;66;03m# Traverses registered methods in order, yields whenever a match is found\u001b[39;00m\n\u001b[1;32m     96\u001b[0m     funcs \u001b[38;5;241m=\u001b[39m \u001b[38;5;28mself\u001b[39m\u001b[38;5;241m.\u001b[39mdispatch_iter(\u001b[38;5;241m*\u001b[39mtypes)\n",
      "File \u001b[0;32m~/PostPhD/Dev/BayesOpt/botorch/botorch/fit.py:283\u001b[0m, in \u001b[0;36m_fit_fallback\u001b[0;34m(mll, _, __, closure, optimizer, closure_kwargs, optimizer_kwargs, max_attempts, warning_handler, caught_exception_types, **ignore)\u001b[0m\n\u001b[1;32m    280\u001b[0m \u001b[38;5;28;01mif\u001b[39;00m debug\u001b[38;5;241m.\u001b[39moff():\n\u001b[1;32m    281\u001b[0m     msg \u001b[38;5;241m=\u001b[39m msg \u001b[38;5;241m+\u001b[39m \u001b[38;5;124m\"\u001b[39m\u001b[38;5;124m For more information, try enabling botorch.settings.debug mode.\u001b[39m\u001b[38;5;124m\"\u001b[39m\n\u001b[0;32m--> 283\u001b[0m \u001b[38;5;28;01mraise\u001b[39;00m ModelFittingError(msg)\n",
      "\u001b[0;31mModelFittingError\u001b[0m: All attempts to fit the model have failed. For more information, try enabling botorch.settings.debug mode."
     ]
    }
   ],
   "source": [
    "train_X, train_Y = init_X.clone(), init_Y.clone()\n",
    "for i in range(bo_iters):\n",
    "    # Standardize domain and range, this prevents numerical issues\n",
    "    mean_Y = train_Y.mean(dim=0)\n",
    "    std_Y = train_Y.std(dim=0)\n",
    "    unscaled_train_Y = train_Y\n",
    "    scaled_train_Y = (train_Y - mean_Y) / std_Y\n",
    "    \n",
    "    mean_X = train_X.mean(dim=0)\n",
    "    std_X = train_X.std(dim=0)\n",
    "    unscaled_train_X = train_X\n",
    "    scaled_train_X = (train_X - mean_X) / std_X\n",
    "\n",
    "    # Initialize the dGP and fit it to the training data\n",
    "    dGP_model = GPWithDerivatives(scaled_train_X, scaled_train_Y) # Define dGP model\n",
    "    mll = ExactMarginalLogLikelihood(dGP_model.likelihood, dGP_model) # Define MLL\n",
    "    fit_gpytorch_mll(mll, max_attempts=40)\n",
    "\n",
    "    # Extract only the function value from the multi-output GP, the dGP\n",
    "    scal_transf = ScalarizedPosteriorTransform(weights=dGP_model.scale_tensor)\n",
    "\n",
    "    # Create qNEI acquisition function\n",
    "    sampler = SobolQMCNormalSampler(mc_samples)\n",
    "    qNEI = qNoisyExpectedImprovement(dGP_model,\\\n",
    "                train_X,\\\n",
    "                sampler,\\\n",
    "                posterior_transform=scal_transf)\n",
    "\n",
    "    # Set bounds for optimization: [-2,2]^d\n",
    "    bounds = torch.vstack([torch.tensor([d_min]*rb_dim),\\\n",
    "                           torch.tensor([d_max]*rb_dim)])\n",
    "\n",
    "    # Rescale bounds based on training data\n",
    "    bounds = (bounds - mean_X) / std_X\n",
    "\n",
    "    # Get candidate point for objective\n",
    "    candidates, _ = optimize_acqf(\n",
    "        acq_function=qNEI,\n",
    "        bounds=bounds,\n",
    "        q=1,\n",
    "        num_restarts=100,\n",
    "        raw_samples=512,  # used for intialization heuristic\n",
    "        options={\"batch_limit\": 1, \"maxiter\": 1000},\n",
    "    )\n",
    "\n",
    "    # Rescale candidate back to original domain\n",
    "    candidate = (candidates[0]  * std_X) + mean_X\n",
    "    candidate = torch.autograd.Variable(candidate,requires_grad=True)\n",
    "    \n",
    "    # Evaluate the objective and add it to the list of data for the model\n",
    "    obj = f(candidate)\n",
    "    obj.backward()\n",
    "    deriv = candidate.grad\n",
    "    new_Y = torch.cat([obj.unsqueeze(0),deriv])\n",
    "    \n",
    "    # Append evaluation to training data\n",
    "    train_X = torch.vstack((train_X, candidate)).detach().clone()\n",
    "    train_Y = torch.vstack((train_Y, new_Y)).detach().clone()\n"
   ]
  },
  {
   "cell_type": "markdown",
   "id": "8b168eaf-3a7f-402b-a90b-7254e8bd2670",
   "metadata": {},
   "source": [
    "## Run traditional BO."
   ]
  },
  {
   "cell_type": "code",
   "execution_count": 71,
   "id": "e84dfeca-2c40-4523-8e42-479d5fdb059f",
   "metadata": {},
   "outputs": [
    {
     "name": "stderr",
     "output_type": "stream",
     "text": [
      "/home/cedric/PostPhD/Dev/BayesOpt/botorch/botorch/models/utils/assorted.py:174: InputDataWarning: Input data is not contained to the unit cube. Please consider min-max scaling the input data.\n",
      "  warnings.warn(msg, InputDataWarning)\n",
      "/home/cedric/PostPhD/Dev/BayesOpt/botorch/botorch/models/utils/assorted.py:174: InputDataWarning: Input data is not contained to the unit cube. Please consider min-max scaling the input data.\n",
      "  warnings.warn(msg, InputDataWarning)\n",
      "/home/cedric/PostPhD/Dev/BayesOpt/botorch/botorch/models/utils/assorted.py:174: InputDataWarning: Input data is not contained to the unit cube. Please consider min-max scaling the input data.\n",
      "  warnings.warn(msg, InputDataWarning)\n",
      "/home/cedric/PostPhD/Dev/BayesOpt/botorch/botorch/models/utils/assorted.py:174: InputDataWarning: Input data is not contained to the unit cube. Please consider min-max scaling the input data.\n",
      "  warnings.warn(msg, InputDataWarning)\n",
      "/home/cedric/PostPhD/Dev/BayesOpt/botorch/botorch/models/utils/assorted.py:174: InputDataWarning: Input data is not contained to the unit cube. Please consider min-max scaling the input data.\n",
      "  warnings.warn(msg, InputDataWarning)\n",
      "/home/cedric/PostPhD/Dev/BayesOpt/botorch/botorch/models/utils/assorted.py:174: InputDataWarning: Input data is not contained to the unit cube. Please consider min-max scaling the input data.\n",
      "  warnings.warn(msg, InputDataWarning)\n",
      "/home/cedric/PostPhD/Dev/BayesOpt/botorch/botorch/models/utils/assorted.py:174: InputDataWarning: Input data is not contained to the unit cube. Please consider min-max scaling the input data.\n",
      "  warnings.warn(msg, InputDataWarning)\n",
      "/home/cedric/PostPhD/Dev/BayesOpt/botorch/botorch/models/utils/assorted.py:174: InputDataWarning: Input data is not contained to the unit cube. Please consider min-max scaling the input data.\n",
      "  warnings.warn(msg, InputDataWarning)\n",
      "/home/cedric/PostPhD/Dev/BayesOpt/botorch/botorch/models/utils/assorted.py:174: InputDataWarning: Input data is not contained to the unit cube. Please consider min-max scaling the input data.\n",
      "  warnings.warn(msg, InputDataWarning)\n",
      "/home/cedric/PostPhD/Dev/BayesOpt/botorch/botorch/models/utils/assorted.py:174: InputDataWarning: Input data is not contained to the unit cube. Please consider min-max scaling the input data.\n",
      "  warnings.warn(msg, InputDataWarning)\n",
      "/home/cedric/PostPhD/Dev/BayesOpt/botorch/botorch/models/utils/assorted.py:174: InputDataWarning: Input data is not contained to the unit cube. Please consider min-max scaling the input data.\n",
      "  warnings.warn(msg, InputDataWarning)\n",
      "/home/cedric/PostPhD/Dev/BayesOpt/botorch/botorch/models/utils/assorted.py:174: InputDataWarning: Input data is not contained to the unit cube. Please consider min-max scaling the input data.\n",
      "  warnings.warn(msg, InputDataWarning)\n",
      "/home/cedric/PostPhD/Dev/BayesOpt/botorch/botorch/models/utils/assorted.py:174: InputDataWarning: Input data is not contained to the unit cube. Please consider min-max scaling the input data.\n",
      "  warnings.warn(msg, InputDataWarning)\n",
      "/home/cedric/PostPhD/Dev/BayesOpt/botorch/botorch/models/utils/assorted.py:174: InputDataWarning: Input data is not contained to the unit cube. Please consider min-max scaling the input data.\n",
      "  warnings.warn(msg, InputDataWarning)\n",
      "/home/cedric/PostPhD/Dev/BayesOpt/botorch/botorch/models/utils/assorted.py:174: InputDataWarning: Input data is not contained to the unit cube. Please consider min-max scaling the input data.\n",
      "  warnings.warn(msg, InputDataWarning)\n",
      "/home/cedric/PostPhD/Dev/BayesOpt/botorch/botorch/models/utils/assorted.py:174: InputDataWarning: Input data is not contained to the unit cube. Please consider min-max scaling the input data.\n",
      "  warnings.warn(msg, InputDataWarning)\n",
      "/home/cedric/PostPhD/Dev/BayesOpt/botorch/botorch/models/utils/assorted.py:174: InputDataWarning: Input data is not contained to the unit cube. Please consider min-max scaling the input data.\n",
      "  warnings.warn(msg, InputDataWarning)\n",
      "/home/cedric/PostPhD/Dev/BayesOpt/botorch/botorch/models/utils/assorted.py:174: InputDataWarning: Input data is not contained to the unit cube. Please consider min-max scaling the input data.\n",
      "  warnings.warn(msg, InputDataWarning)\n",
      "/home/cedric/PostPhD/Dev/BayesOpt/botorch/botorch/models/utils/assorted.py:174: InputDataWarning: Input data is not contained to the unit cube. Please consider min-max scaling the input data.\n",
      "  warnings.warn(msg, InputDataWarning)\n",
      "/home/cedric/PostPhD/Dev/BayesOpt/botorch/botorch/models/utils/assorted.py:174: InputDataWarning: Input data is not contained to the unit cube. Please consider min-max scaling the input data.\n",
      "  warnings.warn(msg, InputDataWarning)\n",
      "/home/cedric/PostPhD/Dev/BayesOpt/botorch/botorch/models/utils/assorted.py:174: InputDataWarning: Input data is not contained to the unit cube. Please consider min-max scaling the input data.\n",
      "  warnings.warn(msg, InputDataWarning)\n",
      "/home/cedric/PostPhD/Dev/BayesOpt/botorch/botorch/models/utils/assorted.py:174: InputDataWarning: Input data is not contained to the unit cube. Please consider min-max scaling the input data.\n",
      "  warnings.warn(msg, InputDataWarning)\n",
      "/home/cedric/PostPhD/Dev/BayesOpt/botorch/botorch/models/utils/assorted.py:174: InputDataWarning: Input data is not contained to the unit cube. Please consider min-max scaling the input data.\n",
      "  warnings.warn(msg, InputDataWarning)\n",
      "/home/cedric/PostPhD/Dev/BayesOpt/botorch/botorch/models/utils/assorted.py:174: InputDataWarning: Input data is not contained to the unit cube. Please consider min-max scaling the input data.\n",
      "  warnings.warn(msg, InputDataWarning)\n",
      "/home/cedric/PostPhD/Dev/BayesOpt/botorch/botorch/models/utils/assorted.py:174: InputDataWarning: Input data is not contained to the unit cube. Please consider min-max scaling the input data.\n",
      "  warnings.warn(msg, InputDataWarning)\n",
      "/home/cedric/PostPhD/Dev/BayesOpt/botorch/botorch/models/utils/assorted.py:174: InputDataWarning: Input data is not contained to the unit cube. Please consider min-max scaling the input data.\n",
      "  warnings.warn(msg, InputDataWarning)\n",
      "/home/cedric/PostPhD/Dev/BayesOpt/botorch/botorch/models/utils/assorted.py:174: InputDataWarning: Input data is not contained to the unit cube. Please consider min-max scaling the input data.\n",
      "  warnings.warn(msg, InputDataWarning)\n",
      "/home/cedric/PostPhD/Dev/BayesOpt/botorch/botorch/models/utils/assorted.py:174: InputDataWarning: Input data is not contained to the unit cube. Please consider min-max scaling the input data.\n",
      "  warnings.warn(msg, InputDataWarning)\n",
      "/home/cedric/PostPhD/Dev/BayesOpt/botorch/botorch/models/utils/assorted.py:174: InputDataWarning: Input data is not contained to the unit cube. Please consider min-max scaling the input data.\n",
      "  warnings.warn(msg, InputDataWarning)\n",
      "/home/cedric/PostPhD/Dev/BayesOpt/botorch/botorch/models/utils/assorted.py:174: InputDataWarning: Input data is not contained to the unit cube. Please consider min-max scaling the input data.\n",
      "  warnings.warn(msg, InputDataWarning)\n",
      "/home/cedric/PostPhD/Dev/BayesOpt/botorch/botorch/models/utils/assorted.py:174: InputDataWarning: Input data is not contained to the unit cube. Please consider min-max scaling the input data.\n",
      "  warnings.warn(msg, InputDataWarning)\n",
      "/home/cedric/PostPhD/Dev/BayesOpt/botorch/botorch/models/utils/assorted.py:174: InputDataWarning: Input data is not contained to the unit cube. Please consider min-max scaling the input data.\n",
      "  warnings.warn(msg, InputDataWarning)\n",
      "/home/cedric/PostPhD/Dev/BayesOpt/botorch/botorch/models/utils/assorted.py:174: InputDataWarning: Input data is not contained to the unit cube. Please consider min-max scaling the input data.\n",
      "  warnings.warn(msg, InputDataWarning)\n",
      "/home/cedric/PostPhD/Dev/BayesOpt/botorch/botorch/models/utils/assorted.py:174: InputDataWarning: Input data is not contained to the unit cube. Please consider min-max scaling the input data.\n",
      "  warnings.warn(msg, InputDataWarning)\n",
      "/home/cedric/PostPhD/Dev/BayesOpt/botorch/botorch/models/utils/assorted.py:174: InputDataWarning: Input data is not contained to the unit cube. Please consider min-max scaling the input data.\n",
      "  warnings.warn(msg, InputDataWarning)\n",
      "/home/cedric/PostPhD/Dev/BayesOpt/botorch/botorch/models/utils/assorted.py:174: InputDataWarning: Input data is not contained to the unit cube. Please consider min-max scaling the input data.\n",
      "  warnings.warn(msg, InputDataWarning)\n",
      "/home/cedric/PostPhD/Dev/BayesOpt/botorch/botorch/models/utils/assorted.py:174: InputDataWarning: Input data is not contained to the unit cube. Please consider min-max scaling the input data.\n",
      "  warnings.warn(msg, InputDataWarning)\n",
      "/home/cedric/PostPhD/Dev/BayesOpt/botorch/botorch/models/utils/assorted.py:174: InputDataWarning: Input data is not contained to the unit cube. Please consider min-max scaling the input data.\n",
      "  warnings.warn(msg, InputDataWarning)\n",
      "/home/cedric/PostPhD/Dev/BayesOpt/botorch/botorch/models/utils/assorted.py:174: InputDataWarning: Input data is not contained to the unit cube. Please consider min-max scaling the input data.\n",
      "  warnings.warn(msg, InputDataWarning)\n",
      "/home/cedric/PostPhD/Dev/BayesOpt/botorch/botorch/models/utils/assorted.py:174: InputDataWarning: Input data is not contained to the unit cube. Please consider min-max scaling the input data.\n",
      "  warnings.warn(msg, InputDataWarning)\n"
     ]
    }
   ],
   "source": [
    "from botorch.models import SingleTaskGP\n",
    "train_X_bo, train_Y_bo = init_X.clone(), init_Y[:, 0].clone().reshape(-1, 1)\n",
    "for i in range(bo_iters):\n",
    "    # Standardize domain and range, this prevents numerical issues\n",
    "    mean_Y = train_Y_bo.mean(dim=0)\n",
    "    std_Y = train_Y_bo.std(dim=0)\n",
    "    unscaled_train_Y = train_Y_bo\n",
    "    scaled_train_Y = (train_Y_bo - mean_Y) / std_Y\n",
    "    \n",
    "    mean_X = train_X_bo.mean(dim=0)\n",
    "    std_X = train_X_bo.std(dim=0)\n",
    "    unscaled_train_X = train_X_bo\n",
    "    scaled_train_X = (train_X_bo - mean_X) / std_X\n",
    "\n",
    "    # Initialize the GP and fit it to the training data\n",
    "    GP_model = SingleTaskGP(train_X=scaled_train_X, train_Y=scaled_train_Y)\n",
    "    mll = ExactMarginalLogLikelihood(GP_model.likelihood, GP_model) # Define MLL\n",
    "    fit_gpytorch_mll(mll, max_attempts=40)\n",
    "\n",
    "    # Create qNEI acquisition function\n",
    "    sampler = SobolQMCNormalSampler(mc_samples)\n",
    "    qNEI = qNoisyExpectedImprovement(GP_model,\\\n",
    "                train_X_bo,\\\n",
    "                sampler,\\\n",
    "                )\n",
    "\n",
    "    # Set bounds for optimization: [-2,2]^d\n",
    "    bounds = torch.vstack([torch.tensor([d_min]*rb_dim),\\\n",
    "                           torch.tensor([d_max]*rb_dim)])\n",
    "\n",
    "    # Rescale bounds based on training data\n",
    "    bounds = (bounds - mean_X) / std_X\n",
    "\n",
    "    # Get candidate point for objective\n",
    "    candidates, _ = optimize_acqf(\n",
    "        acq_function=qNEI,\n",
    "        bounds=bounds,\n",
    "        q=1,\n",
    "        num_restarts=100,\n",
    "        raw_samples=512,  # used for intialization heuristic\n",
    "        options={\"batch_limit\": 1, \"maxiter\": 1000},\n",
    "    )\n",
    "\n",
    "    # Rescale candidate back to original domain\n",
    "    candidate = (candidates[0]  * std_X) + mean_X\n",
    "    candidate = torch.autograd.Variable(candidate,requires_grad=True)\n",
    "    \n",
    "    # Evaluate the objective and add it to the list of data for the model\n",
    "    obj = f(candidate)\n",
    "    new_Y = obj.unsqueeze(0)\n",
    "    \n",
    "    # Append evaluation to training data\n",
    "    train_X_bo = torch.vstack((train_X_bo, candidate)).detach().clone()\n",
    "    train_Y_bo = torch.vstack((train_Y_bo, new_Y)).detach().clone()\n"
   ]
  },
  {
   "cell_type": "markdown",
   "id": "d51a9838-1b0d-4369-b0cf-0baffe996925",
   "metadata": {},
   "source": [
    "## Plot Results"
   ]
  },
  {
   "cell_type": "markdown",
   "id": "c74d9ca3-2fa1-4df0-b1ea-b33b3e46f24e",
   "metadata": {},
   "source": [
    "From plotting the results we see that derivative-enabled Bayesian Optimization is able to utilize gradient information to maximize the objective function."
   ]
  },
  {
   "cell_type": "code",
   "execution_count": 76,
   "id": "0b235183-05ed-428c-b32d-2a8da25bb296",
   "metadata": {},
   "outputs": [
    {
     "data": {
      "image/png": "[encoded data removed]",
      "text/plain": [
       "<Figure size 640x480 with 1 Axes>"
      ]
     },
     "metadata": {},
     "output_type": "display_data"
    }
   ],
   "source": [
    "plot_iters = rs_init + bo_iters\n",
    "# Extract maximum value per iteration\n",
    "def extract_maxs(Y):\n",
    "    maxima = torch.zeros(Y.shape[0])\n",
    "    cur_max = Y[0][0]\n",
    "    for i in range(Y.shape[0]):\n",
    "        cur_max = cur_max if cur_max > Y[i][0] else Y[i][0]\n",
    "        maxima[i] = cur_max\n",
    "    return maxima\n",
    "maxima = extract_maxs(train_Y)\n",
    "maxima_bo = extract_maxs(train_Y_bo)\n",
    "\n",
    "# Get plotting values\n",
    "plt_y = np.log(-maxima.numpy())\n",
    "plt_y_bo = np.log(-maxima_bo.numpy())\n",
    "plt_x = list(range(1,len(plt_y)+1))\n",
    "plt_x_bo = list(range(1,len(plt_y_bo)+1))\n",
    "\n",
    "# Have the first x-value in the plot start at 1 to be consistent with above prints\n",
    "plt_y = np.hstack([plt_y])\n",
    "plt_x = np.hstack([plt_x])\n",
    "\n",
    "# Plot all values\n",
    "plt.plot([plt_x[rs_init-1], plt_x[rs_init]], [plt_y[rs_init-1], plt_y[rs_init]],\\\n",
    "         linestyle='--', color='gray')\n",
    "plt.plot(plt_x[0:rs_init], plt_y[0:rs_init], color='red', label=\"Init values\", marker='.')\n",
    "plt.plot(plt_x[rs_init:], plt_y[rs_init:], color='black', label=\"gradient BO values\", marker='.')\n",
    "plt.plot(plt_x_bo[rs_init:], plt_y_bo[rs_init:], color='green', label=\"vanilla BO values\", marker='.')\n",
    "\n",
    "plt.xlabel(\"BO Iteration\")\n",
    "plt.ylabel(\"Log regret\")\n",
    "plt.title(\"Best value found per BO iteration including initialization (Rosenbrock)\")\n",
    "plt.legend()\n",
    "plt.show()\n",
    "plt.close()"
   ]
  },
  {
   "cell_type": "code",
   "execution_count": null,
   "id": "7e953b19-a3b4-46b3-b3b0-bbf0511ac501",
   "metadata": {},
   "outputs": [],
   "source": []
  },
  {
   "cell_type": "code",
   "execution_count": null,
   "id": "8dacf002-bbfd-4a6e-aba5-43a72887e0b7",
   "metadata": {},
   "outputs": [],
   "source": []
  },
  {
   "cell_type": "code",
   "execution_count": null,
   "id": "f1dd4f47-8cf1-4eb7-a291-da4b5e9cb007",
   "metadata": {},
   "outputs": [],
   "source": []
  },
  {
   "cell_type": "code",
   "execution_count": 64,
   "id": "7cbfd279-2e30-4427-8cfb-3b42c1f39855",
   "metadata": {},
   "outputs": [
    {
     "data": {
      "text/plain": [
       "tensor(-980181.)"
      ]
     },
     "execution_count": 64,
     "metadata": {},
     "output_type": "execute_result"
    }
   ],
   "source": [
    "f(torch.Tensor([10, 1, 1]))"
   ]
  },
  {
   "cell_type": "markdown",
   "id": "9fd8e9fc-d42a-4215-800d-55c51decb920",
   "metadata": {},
   "source": [
    "## qKG FOBO Loop"
   ]
  },
  {
   "cell_type": "markdown",
   "id": "8dc5e991-8508-4050-a1c3-d3da3b14b1cb",
   "metadata": {},
   "source": [
    "Here we have the same FOBO loop, but with the qKG acquisition function.\n"
   ]
  },
  {
   "cell_type": "code",
   "execution_count": null,
   "id": "8b034797-d2ae-4b73-ba59-d1f94fa88e2d",
   "metadata": {
    "tags": []
   },
   "outputs": [],
   "source": [
    "# Reset training data to the same as for qNEI\n",
    "train_X = train_X[0:rs_init]\n",
    "train_Y = train_Y[0:rs_init]\n",
    "\n",
    "for i in range(bo_iters):\n",
    "    # Standardize domain and range, this prevents numerical issues\n",
    "    mean_Y = train_Y.mean(dim=0)\n",
    "    std_Y = train_Y.std(dim=0)\n",
    "    unscaled_train_Y = train_Y\n",
    "    scaled_train_Y = (train_Y - mean_Y) / std_Y\n",
    "    \n",
    "    mean_X = train_X.mean(dim=0)\n",
    "    std_X = train_X.std(dim=0)\n",
    "    unscaled_train_X = train_X\n",
    "    scaled_train_X = (train_X - mean_X) / std_X\n",
    "\n",
    "    # Initialize the dGP and fit it to the training data\n",
    "    dGP_model = GPWithDerivatives(scaled_train_X, scaled_train_Y) # Define dGP model\n",
    "    mll = ExactMarginalLogLikelihood(dGP_model.likelihood, dGP_model) # Define MLL\n",
    "    fit_gpytorch_mll(mll, max_attempts=20)\n",
    "\n",
    "    # Extract only the function value from the multi-output GP, the dGP\n",
    "    scal_transf = ScalarizedPosteriorTransform(weights=dGP_model.scale_tensor)\n",
    "\n",
    "    # Create the qKG acquisition function\n",
    "    qKG = qKnowledgeGradient(dGP_model,\\\n",
    "                posterior_transform=scal_transf,\\\n",
    "                num_fantasies=5)\n",
    "\n",
    "    # Set bounds for optimization: [-2,2]^d\n",
    "    bounds = torch.vstack([torch.tensor([d_min]*rb_dim),\\\n",
    "                           torch.tensor([d_max]*rb_dim)])\n",
    "\n",
    "    # Rescale domain based on training data\n",
    "    bounds = (bounds - mean_X) / std_X\n",
    "\n",
    "    # Get candidate point for objective\n",
    "    candidates, _ = optimize_acqf(\n",
    "        acq_function=qKG,\n",
    "        bounds=bounds,\n",
    "        q=1,\n",
    "        num_restarts=100,\n",
    "        raw_samples=512,  # used for intialization heuristic\n",
    "        options={\"batch_limit\": 1, \"maxiter\": 1000},\n",
    "    )\n",
    "\n",
    "    # Rescale candidate back to original domain\n",
    "    candidate = (candidates[0]  * std_X) + mean_X\n",
    "    \n",
    "    # Evaluate the objective and add it to the list of data for the model\n",
    "    obj, deriv = Rosenbrock(candidate)\n",
    "    new_Y = torch.cat([obj.unsqueeze(0),deriv])\n",
    "    \n",
    "    # Append evaluation to training data\n",
    "    train_X = torch.vstack((train_X, candidate)).detach().clone()\n",
    "    train_Y = torch.vstack((train_Y, new_Y)).detach().clone()\n"
   ]
  },
  {
   "cell_type": "markdown",
   "id": "16d05516-6e89-43a1-8904-5acd950e9f00",
   "metadata": {},
   "source": [
    "## Plot Results"
   ]
  },
  {
   "cell_type": "markdown",
   "id": "466e0aec-424b-4ac4-b908-256eb6eee790",
   "metadata": {},
   "source": [
    "From plotting the results we see that derivative-enabled Bayesian Optimization is able to find better maxima values."
   ]
  },
  {
   "cell_type": "code",
   "execution_count": null,
   "id": "c68f082f-92ac-4c9c-bcdc-8d428f0b6e44",
   "metadata": {},
   "outputs": [],
   "source": [
    "# Extract maximum value per iteration\n",
    "maxima = torch.zeros(rs_init + bo_iters)\n",
    "cur_max = train_Y[0][0]\n",
    "\n",
    "for i in range(rs_init + bo_iters):\n",
    "    cur_max = cur_max if cur_max > train_Y[i][0] else train_Y[i][0]\n",
    "    maxima[i] = cur_max\n",
    "\n",
    "# Get plotting values\n",
    "plt_y = maxima.numpy()\n",
    "plt_x = list(range(1,len(plt_y)+1))\n",
    "\n",
    "# Have the first x-value in the plot start at 1 to be consistent with above prints\n",
    "plt_y = np.hstack([plt_y])\n",
    "plt_x = np.hstack([plt_x])\n",
    "\n",
    "# Plot all values\n",
    "plt.plot([plt_x[rs_init-1], plt_x[rs_init]], [plt_y[rs_init-1], plt_y[rs_init]],\\\n",
    "         linestyle='--', color='gray')\n",
    "plt.plot(plt_x[0:rs_init], plt_y[0:rs_init], color='red', label=\"Init values\", marker='.')\n",
    "plt.plot(plt_x[rs_init:], plt_y[rs_init:], color='black', label=\"BO values\", marker='.')\n",
    "plt.xlabel(\"BO Iteration\")\n",
    "plt.ylabel(\"Maximum value\")\n",
    "plt.title(\"Best value found per BO iteration including initialization\")\n",
    "plt.legend()\n",
    "plt.show()\n",
    "plt.close()\n",
    "\n",
    "plt.plot([plt_x[rs_init-1], plt_x[rs_init]], [plt_y[rs_init-1], plt_y[rs_init]],\\\n",
    "         linestyle='--', color='gray')\n",
    "plt.plot(plt_x[rs_init-1], plt_y[rs_init-1], color='red', label=\"Init values\", marker='.')\n",
    "plt.plot(plt_x[rs_init:], plt_y[rs_init:], color='black', label=\"BO values\", marker='.')\n",
    "plt.xlabel(\"BO Iteration\")\n",
    "plt.ylabel(\"Maximum value\")\n",
    "plt.title(\"Best value found per BO iteration after initialization\")\n",
    "plt.legend()\n",
    "plt.show()\n",
    "plt.close()"
   ]
  }
 ],
 "metadata": {
  "kernelspec": {
   "display_name": "Python 3 (ipykernel)",
   "language": "python",
   "name": "python3"
  },
  "language_info": {
   "codemirror_mode": {
    "name": "ipython",
    "version": 3
   },
   "file_extension": ".py",
   "mimetype": "text/x-python",
   "name": "python",
   "nbconvert_exporter": "python",
   "pygments_lexer": "ipython3",
   "version": "3.11.6"
  }
 },
 "nbformat": 4,
 "nbformat_minor": 5
}
