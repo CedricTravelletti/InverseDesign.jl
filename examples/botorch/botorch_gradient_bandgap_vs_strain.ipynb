{
 "cells": [
  {
   "cell_type": "markdown",
   "metadata": {},
   "source": [
    "# Hook BoTorch gradient BO with bandgap."
   ]
  },
  {
   "cell_type": "code",
   "execution_count": null,
   "metadata": {
    "customInput": null,
    "executionStartTime": 1646802598883,
    "executionStopTime": 1646802598888,
    "originalKey": "0b364288-7551-4ebb-9f96-719361878af3",
    "requestMsgId": "4c7bff19-2eca-4be8-8d92-f4f3b9f23d85",
    "showInput": true
   },
   "outputs": [],
   "source": [
    "import os\n",
    "\n",
    "from ax.utils.testing.mock import fast_botorch_optimize_context_manager\n",
    "import plotly.io as pio\n",
    "\n",
    "# Ax uses Plotly to produce interactive plots. These are great for viewing and analysis,\n",
    "# though they also lead to large file sizes, which is not ideal for files living in GH.\n",
    "# Changing the default to `png` strips the interactive components to get around this.\n",
    "pio.renderers.default = \"png\"\n",
    "\n",
    "NUM_EVALS = 20"
   ]
  },
  {
   "cell_type": "markdown",
   "metadata": {},
   "source": [
    "## GP Model"
   ]
  },
  {
   "cell_type": "code",
   "execution_count": null,
   "metadata": {
    "code_folding": [],
    "executionStartTime": 1646802598911,
    "executionStopTime": 1646802598919,
    "hidden_ranges": [],
    "originalKey": "63288450-0e06-4487-857e-9e1e9d85a343",
    "requestMsgId": "d9929043-08ac-41b5-9268-2a1bef0676c8"
   },
   "outputs": [],
   "source": [
    "from typing import Optional\n",
    "\n",
    "from botorch.models.gpytorch import GPyTorchModel\n",
    "from gpytorch.distributions import MultivariateNormal\n",
    "from gpytorch.kernels import RBFKernel, ScaleKernel\n",
    "from gpytorch.likelihoods import GaussianLikelihood\n",
    "from gpytorch.means import ConstantMean\n",
    "from gpytorch.models import ExactGP\n",
    "from torch import Tensor\n",
    "\n",
    "\n",
    "class SimpleCustomGP(ExactGP, GPyTorchModel):\n",
    "\n",
    "    _num_outputs = 1  # to inform GPyTorchModel API\n",
    "\n",
    "    def __init__(self, train_X, train_Y, train_Yvar: Optional[Tensor] = None):\n",
    "        # NOTE: This ignores train_Yvar and uses inferred noise instead.\n",
    "        # squeeze output dim before passing train_Y to ExactGP\n",
    "        super().__init__(train_X, train_Y.squeeze(-1), GaussianLikelihood())\n",
    "        self.mean_module = ConstantMean()\n",
    "        self.covar_module = ScaleKernel(\n",
    "            base_kernel=RBFKernel(ard_num_dims=train_X.shape[-1]),\n",
    "        )\n",
    "        self.to(train_X)  # make sure we're on the right device/dtype\n",
    "\n",
    "    def forward(self, x):\n",
    "        mean_x = self.mean_module(x)\n",
    "        covar_x = self.covar_module(x)\n",
    "        return MultivariateNormal(mean_x, covar_x)"
   ]
  },
  {
   "cell_type": "code",
   "execution_count": null,
   "metadata": {
    "code_folding": [],
    "customInput": null,
    "executionStartTime": 1646802598937,
    "executionStopTime": 1646802598969,
    "hidden_ranges": [],
    "originalKey": "e848d43f-cee5-4d6f-a930-2559554582d6",
    "requestMsgId": "f55bab2a-3462-4377-82d3-8ea107d2551b",
    "showInput": true
   },
   "outputs": [],
   "source": [
    "from ax.models.torch.botorch_modular.model import BoTorchModel\n",
    "from ax.models.torch.botorch_modular.surrogate import Surrogate\n",
    "\n",
    "\n",
    "ax_model = BoTorchModel(\n",
    "    surrogate=Surrogate(\n",
    "        # The model class to use\n",
    "        botorch_model_class=SimpleCustomGP,\n",
    "        # Optional, MLL class with which to optimize model parameters\n",
    "        # mll_class=ExactMarginalLogLikelihood,\n",
    "        # Optional, dictionary of keyword arguments to model constructor\n",
    "        # model_options={}\n",
    "    ),\n",
    "    # Optional, acquisition function class to use - see custom acquisition tutorial\n",
    "    # botorch_acqf_class=qExpectedImprovement,\n",
    ")"
   ]
  },
  {
   "cell_type": "markdown",
   "metadata": {},
   "source": [
    "## Create the AX experiment"
   ]
  },
  {
   "cell_type": "code",
   "execution_count": null,
   "metadata": {
    "code_folding": [],
    "customInput": null,
    "executionStartTime": 1646802598995,
    "executionStopTime": 1646802599053,
    "hidden_ranges": [],
    "originalKey": "906806a1-8b77-4719-82cb-4b86cc696271",
    "requestMsgId": "5d74fa60-f595-4e7a-bbbc-e91f42b934d1",
    "showInput": true
   },
   "outputs": [],
   "source": [
    "from ax.modelbridge.generation_strategy import GenerationStep, GenerationStrategy\n",
    "from ax.modelbridge.registry import Models\n",
    "\n",
    "\n",
    "gs = GenerationStrategy(\n",
    "    steps=[\n",
    "        # Quasi-random initialization step\n",
    "        GenerationStep(\n",
    "            model=Models.SOBOL,\n",
    "            num_trials=5,  # How many trials should be produced from this generation step\n",
    "        ),\n",
    "        # Bayesian optimization step using the custom acquisition function\n",
    "        GenerationStep(\n",
    "            model=Models.BOTORCH_MODULAR,\n",
    "            num_trials=-1,  # No limitation on how many trials should be produced from this step\n",
    "            # For `BOTORCH_MODULAR`, we pass in kwargs to specify what surrogate or acquisition function to use.\n",
    "            model_kwargs={\n",
    "                \"surrogate\": Surrogate(SimpleCustomGP),\n",
    "            },\n",
    "        ),\n",
    "    ]\n",
    ")"
   ]
  },
  {
   "cell_type": "code",
   "execution_count": null,
   "metadata": {
    "code_folding": [],
    "customInput": null,
    "executionStartTime": 1646802599081,
    "executionStopTime": 1646802599411,
    "hidden_ranges": [],
    "originalKey": "84dad757-0494-4fc3-9acd-7262367b2671",
    "requestMsgId": "a3e2cc43-6913-4c70-bd5c-9d867c95b8ed",
    "showInput": true
   },
   "outputs": [],
   "source": [
    "import torch\n",
    "from ax.service.ax_client import AxClient\n",
    "from ax.service.utils.instantiation import ObjectiveProperties\n",
    "from botorch.test_functions import Branin\n",
    "\n",
    "\n",
    "# Initialize the client - AxClient offers a convenient API to control the experiment\n",
    "ax_client = AxClient(generation_strategy=gs)\n",
    "# Setup the experiment\n",
    "ax_client.create_experiment(\n",
    "    name=\"branin_test_experiment\",\n",
    "    parameters=[\n",
    "        {\n",
    "            \"name\": \"x1\",\n",
    "            \"type\": \"range\",\n",
    "            # It is crucial to use floats for the bounds, i.e., 0.0 rather than 0.\n",
    "            # Otherwise, the parameter would be inferred as an integer range.\n",
    "            \"bounds\": [-0.05, 0.05],\n",
    "        },\n",
    "        {\n",
    "            \"name\": \"x2\",\n",
    "            \"type\": \"range\",\n",
    "            \"bounds\": [-0.05, 0.05],\n",
    "        },\n",
    "    ],\n",
    "    objectives={\n",
    "        \"indirect_band_gap\": ObjectiveProperties(minimize=True),\n",
    "    },\n",
    ")"
   ]
  },
  {
   "cell_type": "markdown",
   "metadata": {},
   "source": [
    "### Define the function to optimize."
   ]
  },
  {
   "cell_type": "code",
   "execution_count": null,
   "metadata": {},
   "outputs": [],
   "source": [
    "import numpy as np\n",
    "from julia import Julia\n",
    "jl = Julia(runtime=\"/home/cedric/.juliaup/bin/julia\", compiled_modules=False)\n",
    "\n",
    "# Load DFTK\n",
    "from julia import Pkg, Main\n",
    "DFTK_path = \"/home/cedric/PostPhD/Dev/JuliaMolSim/DFTK.jl/\"\n",
    "Pkg.activate(DFTK_path)\n",
    "Pkg.resolve()\n",
    "Pkg.instantiate()\n",
    "\n",
    "import os\n",
    "Main.include(os.path.join(DFTK_path, \"examples/strain/silicon_strain_engineering.jl\"))\n",
    "\n",
    "%load_ext julia.magic"
   ]
  },
  {
   "cell_type": "code",
   "execution_count": null,
   "metadata": {},
   "outputs": [],
   "source": [
    "def evaluate(parameters):\n",
    "    # Only vary stress along x and y.\n",
    "    x = np.array(np.squeeze([[parameters.get(f\"x{i+1}\") for i in range(2)] + [0, 0, 0, 0]]))\n",
    "    # The GaussianLikelihood used by our model infers an observation noise level,\n",
    "    # so we pass an sem value of NaN to indicate that observation noise is unknown\n",
    "    indirect_band_gap = %julia austrip(strain_indirect_band_gap($x))\n",
    "    indirect_band_gap = np.abs(indirect_band_gap - 0.05) # optimize to target value.\n",
    "    return {\"indirect_band_gap\": (indirect_band_gap, float(\"nan\"))}"
   ]
  },
  {
   "cell_type": "markdown",
   "metadata": {},
   "source": [
    "## Evaluat indirect bandgap at 0 stress"
   ]
  },
  {
   "cell_type": "code",
   "execution_count": null,
   "metadata": {},
   "outputs": [],
   "source": [
    "evaluate({\"x1\": 0.0, \"x2\": 0.0})"
   ]
  },
  {
   "cell_type": "markdown",
   "metadata": {
    "customInput": null,
    "originalKey": "25ac5ba7-291b-466f-bed0-f8cb5f842605",
    "showInput": true
   },
   "source": [
    "### Running the BO loop"
   ]
  },
  {
   "cell_type": "code",
   "execution_count": null,
   "metadata": {
    "code_folding": [],
    "customInput": null,
    "executionStartTime": 1646802599439,
    "executionStopTime": 1646802636908,
    "hidden_ranges": [],
    "originalKey": "84f831d3-a148-4872-8ca6-2413d3c75b9c",
    "requestMsgId": "10bccad3-09b6-4711-8221-5fa0f75e7bdc",
    "scrolled": true,
    "showInput": true
   },
   "outputs": [],
   "source": [
    "for i in range(NUM_EVALS):\n",
    "    parameters, trial_index = ax_client.get_next_trial()\n",
    "    # Local evaluation here can be replaced with deployment to external system.\n",
    "    ax_client.complete_trial(trial_index=trial_index, raw_data=evaluate(parameters))"
   ]
  },
  {
   "cell_type": "markdown",
   "metadata": {
    "code_folding": [],
    "customInput": null,
    "hidden_ranges": [],
    "originalKey": "2794d041-6a39-483d-a603-cc5088bcd1b2",
    "showInput": true
   },
   "source": [
    "### Viewing the evaluated trials"
   ]
  },
  {
   "cell_type": "code",
   "execution_count": null,
   "metadata": {
    "code_folding": [],
    "customInput": null,
    "executionStartTime": 1646802636942,
    "executionStopTime": 1646802637202,
    "hidden_ranges": [],
    "originalKey": "db21dcbb-b74b-4a91-89c3-5ffbc8020220",
    "requestMsgId": "71578ba1-7826-4c60-84a5-a14d5a10608c",
    "showInput": true
   },
   "outputs": [],
   "source": [
    "ax_client.get_trials_data_frame()"
   ]
  },
  {
   "cell_type": "code",
   "execution_count": null,
   "metadata": {
    "code_folding": [],
    "customInput": null,
    "executionStartTime": 1646802637270,
    "executionStopTime": 1646802637381,
    "hidden_ranges": [],
    "originalKey": "521e7082-5a4d-4110-b6ac-dd94fd674d3d",
    "requestMsgId": "034baf37-374d-4281-8943-9356ee6f3e84",
    "showInput": true
   },
   "outputs": [],
   "source": [
    "parameters, values = ax_client.get_best_parameters()\n",
    "print(f\"Best parameters: {parameters}\")\n",
    "print(f\"Corresponding mean: {values[0]}, covariance: {values[1]}\")"
   ]
  },
  {
   "cell_type": "markdown",
   "metadata": {
    "code_folding": [],
    "customInput": null,
    "hidden_ranges": [],
    "originalKey": "10562d0a-5fc3-4771-91c3-f881bd211174",
    "showInput": true
   },
   "source": [
    "### Plotting the response surface and optimization progress"
   ]
  },
  {
   "cell_type": "code",
   "execution_count": null,
   "metadata": {
    "code_folding": [],
    "customInput": null,
    "executionStartTime": 1646802637385,
    "executionStopTime": 1646802638565,
    "hidden_ranges": [],
    "originalKey": "24bbc6f8-d9b7-45bc-ba2b-b92bbc9a3712",
    "requestMsgId": "d0b78eb5-687f-48ac-b482-e5bc2a1203b3",
    "showInput": true
   },
   "outputs": [],
   "source": [
    "from ax.utils.notebook.plotting import render\n",
    "\n",
    "render(ax_client.get_contour_plot())"
   ]
  },
  {
   "cell_type": "code",
   "execution_count": null,
   "metadata": {
    "code_folding": [],
    "customInput": null,
    "executionStartTime": 1646802638584,
    "executionStopTime": 1646802638597,
    "hidden_ranges": [],
    "originalKey": "143fe15b-4d45-47ed-88cb-39595bdb5033",
    "requestMsgId": "f3e3f04c-14ca-44df-adfa-0e30f46d2866",
    "showInput": true
   },
   "outputs": [],
   "source": [
    "best_parameters, values = ax_client.get_best_parameters()\n",
    "best_parameters, values[0]"
   ]
  },
  {
   "cell_type": "code",
   "execution_count": null,
   "metadata": {
    "code_folding": [],
    "customInput": null,
    "executionStartTime": 1646802638636,
    "executionStopTime": 1646802638751,
    "hidden_ranges": [],
    "originalKey": "53e7063d-b1e2-42db-9629-98467c0f69d7",
    "requestMsgId": "236623d1-ba20-47b5-83ba-670831a6706c",
    "showInput": true
   },
   "outputs": [],
   "source": [
    "render(ax_client.get_optimization_trace(objective_optimum=0.02))render(ax_client.get_optimization_trace(objective_optimum=0.02))"
   ]
  },
  {
   "cell_type": "markdown",
   "metadata": {},
   "source": [
    "## Run some more"
   ]
  },
  {
   "cell_type": "code",
   "execution_count": null,
   "metadata": {
    "scrolled": true
   },
   "outputs": [],
   "source": [
    "for i in range(NUM_EVALS):\n",
    "    parameters, trial_index = ax_client.get_next_trial()\n",
    "    # Local evaluation here can be replaced with deployment to external system.\n",
    "    ax_client.complete_trial(trial_index=trial_index, raw_data=evaluate(parameters))"
   ]
  },
  {
   "cell_type": "code",
   "execution_count": null,
   "metadata": {},
   "outputs": [],
   "source": [
    "render(ax_client.get_optimization_trace(objective_optimum=0.02))"
   ]
  },
  {
   "cell_type": "code",
   "execution_count": null,
   "metadata": {},
   "outputs": [],
   "source": [
    "render(ax_client.get_contour_plot())"
   ]
  },
  {
   "cell_type": "code",
   "execution_count": null,
   "metadata": {},
   "outputs": [],
   "source": [
    "# And some more.\n",
    "for i in range(10):\n",
    "    parameters, trial_index = ax_client.get_next_trial()\n",
    "    # Local evaluation here can be replaced with deployment to external system.\n",
    "    ax_cWWSYScreenshot from 2024-03-07 22-03-04Screenshot from 2024-03-07 22-03-04Alient.complete_trial(trial_index=trial_index, raw_data=evaluate(parameters))"
   ]
  },
  {
   "cell_type": "code",
   "execution_count": null,
   "metadata": {},
   "outputs": [],
   "source": [
    "render(ax_client.get_optimization_trace(objective_optimum=0.0))"
   ]
  }
 ],
 "metadata": {
  "custom": {
   "cells": [],
   "metadata": {
    "fileHeader": "",
    "isAdHoc": false,
    "kernelspec": {
     "display_name": "python3",
     "language": "python",
     "name": "python3"
    },
    "language_info": {
     "codemirror_mode": {
      "name": "ipython",
      "version": 3
     },
     "file_extension": ".py",
     "mimetype": "text/x-python",
     "name": "python",
     "nbconvert_exporter": "python",
     "pygments_lexer": "ipython3",
     "version": "3.8.13"
    }
   },
   "nbformat": 4,
   "nbformat_minor": 2
  },
  "indentAmount": 2,
  "kernelspec": {
   "display_name": "Python 3 (ipykernel)",
   "language": "python",
   "name": "python3"
  },
  "language_info": {
   "codemirror_mode": {
    "name": "ipython",
    "version": 3
   },
   "file_extension": ".py",
   "mimetype": "text/x-python",
   "name": "python",
   "nbconvert_exporter": "python",
   "pygments_lexer": "ipython3",
   "version": "3.11.6"
  }
 },
 "nbformat": 4,
 "nbformat_minor": 4
}
