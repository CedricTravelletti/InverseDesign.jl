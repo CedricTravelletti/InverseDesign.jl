{
 "cells": [
  {
   "cell_type": "markdown",
   "id": "3093d156-dae6-4582-956e-dae5fc931162",
   "metadata": {},
   "source": [
    "## Compute lattice constant using the current potential."
   ]
  },
  {
   "cell_type": "code",
   "execution_count": 1,
   "id": "c6af6c7f-2d9b-4f1e-a437-09112c8560bf",
   "metadata": {},
   "outputs": [
    {
     "data": {
      "text/plain": [
       "-0.007036492048371201"
      ]
     },
     "execution_count": 1,
     "metadata": {},
     "output_type": "execute_result"
    }
   ],
   "source": [
    "from ase.build import bulk\n",
    "from ase.calculators.emt import EMT\n",
    "from ase.db import connect\n",
    "from ase.eos import calculate_eos\n",
    "\n",
    "\n",
    "atoms = bulk('Cu', 'fcc')\n",
    "atoms.calc = EMT()\n",
    "eos = calculate_eos(atoms)\n",
    "v, e, B = eos.fit()  # find minimum\n",
    "# Do one more calculation at the minimum and write to database:\n",
    "atoms.cell *= (v / atoms.get_volume())**(1 / 3)\n",
    "atoms.get_potential_energy()"
   ]
  },
  {
   "cell_type": "markdown",
   "id": "29a83363",
   "metadata": {},
   "source": [
    "#Test commit push on second laptop"
   ]
  },
  {
   "cell_type": "markdown",
   "id": "a30a657e-5a2a-4c1e-a7e4-81e55158e044",
   "metadata": {},
   "source": [
    "## Adsorb one C atom using built-in BFGS.\n",
    "\n",
    "### First prepare the supercell (so the atom adsorbate does not see its mirror image)."
   ]
  },
  {
   "cell_type": "code",
   "execution_count": 2,
   "id": "1cce9f1c-143a-4b28-a39f-3de162edb76b",
   "metadata": {},
   "outputs": [
    {
     "data": {
      "text/plain": [
       "array([3, 3, 3, 3, 3, 3, 3, 3, 3, 3, 3, 3, 3, 3, 3, 3, 2, 2, 2, 2, 2, 2,\n",
       "       2, 2, 2, 2, 2, 2, 2, 2, 2, 2, 1, 1, 1, 1, 1, 1, 1, 1, 1, 1, 1, 1,\n",
       "       1, 1, 1, 1])"
      ]
     },
     "execution_count": 2,
     "metadata": {},
     "output_type": "execute_result"
    }
   ],
   "source": [
    "# Now prepare adsorption.\n",
    "from ase.build import add_adsorbate, fcc111\n",
    "from ase.visualize import view\n",
    "ads = 'C'\n",
    "n_layers = 3\n",
    "a = atoms.cell[0, 1] * 2 # Equilibrium lattice constant.\n",
    "atoms = fcc111(\"Cu\", (4, 4, n_layers), a=a)\n",
    "atoms.get_tags()"
   ]
  },
  {
   "cell_type": "code",
   "execution_count": null,
   "id": "0abc31c3",
   "metadata": {},
   "outputs": [],
   "source": [
    "view(atoms, viewer='x3d')"
   ]
  },
  {
   "cell_type": "code",
   "execution_count": null,
   "id": "2a3722e8-17fb-4c6c-a93e-16c0892770cd",
   "metadata": {},
   "outputs": [],
   "source": [
    "atoms\n",
    "atoms.get_positions()"
   ]
  },
  {
   "cell_type": "markdown",
   "id": "33be5140-cfe3-49a2-a195-a1630d17d6a3",
   "metadata": {},
   "source": [
    "## Add single atom adsorbate."
   ]
  },
  {
   "cell_type": "code",
   "execution_count": 3,
   "id": "d3f52c46-e18c-4e94-acbf-ced78ecc2d03",
   "metadata": {},
   "outputs": [
    {
     "data": {
      "text/plain": [
       "array([[1.26919466e+00, 7.32769880e-01, 1.00000000e+01],\n",
       "       [3.80758399e+00, 7.32769880e-01, 1.00000000e+01],\n",
       "       [6.34597331e+00, 7.32769880e-01, 1.00000000e+01],\n",
       "       [8.88436264e+00, 7.32769880e-01, 1.00000000e+01],\n",
       "       [2.53838933e+00, 2.93107952e+00, 1.00000000e+01],\n",
       "       [5.07677865e+00, 2.93107952e+00, 1.00000000e+01],\n",
       "       [7.61516798e+00, 2.93107952e+00, 1.00000000e+01],\n",
       "       [1.01535573e+01, 2.93107952e+00, 1.00000000e+01],\n",
       "       [3.80758399e+00, 5.12938916e+00, 1.00000000e+01],\n",
       "       [6.34597331e+00, 5.12938916e+00, 1.00000000e+01],\n",
       "       [8.88436264e+00, 5.12938916e+00, 1.00000000e+01],\n",
       "       [1.14227520e+01, 5.12938916e+00, 1.00000000e+01],\n",
       "       [5.07677865e+00, 7.32769880e+00, 1.00000000e+01],\n",
       "       [7.61516798e+00, 7.32769880e+00, 1.00000000e+01],\n",
       "       [1.01535573e+01, 7.32769880e+00, 1.00000000e+01],\n",
       "       [1.26919466e+01, 7.32769880e+00, 1.00000000e+01],\n",
       "       [2.70452304e-17, 1.46553976e+00, 1.20725862e+01],\n",
       "       [2.53838933e+00, 1.46553976e+00, 1.20725862e+01],\n",
       "       [5.07677865e+00, 1.46553976e+00, 1.20725862e+01],\n",
       "       [7.61516798e+00, 1.46553976e+00, 1.20725862e+01],\n",
       "       [1.26919466e+00, 3.66384940e+00, 1.20725862e+01],\n",
       "       [3.80758399e+00, 3.66384940e+00, 1.20725862e+01],\n",
       "       [6.34597331e+00, 3.66384940e+00, 1.20725862e+01],\n",
       "       [8.88436264e+00, 3.66384940e+00, 1.20725862e+01],\n",
       "       [2.53838933e+00, 5.86215904e+00, 1.20725862e+01],\n",
       "       [5.07677865e+00, 5.86215904e+00, 1.20725862e+01],\n",
       "       [7.61516798e+00, 5.86215904e+00, 1.20725862e+01],\n",
       "       [1.01535573e+01, 5.86215904e+00, 1.20725862e+01],\n",
       "       [3.80758399e+00, 8.06046868e+00, 1.20725862e+01],\n",
       "       [6.34597331e+00, 8.06046868e+00, 1.20725862e+01],\n",
       "       [8.88436264e+00, 8.06046868e+00, 1.20725862e+01],\n",
       "       [1.14227520e+01, 8.06046868e+00, 1.20725862e+01],\n",
       "       [0.00000000e+00, 0.00000000e+00, 1.41451724e+01],\n",
       "       [2.53838933e+00, 0.00000000e+00, 1.41451724e+01],\n",
       "       [5.07677865e+00, 0.00000000e+00, 1.41451724e+01],\n",
       "       [7.61516798e+00, 0.00000000e+00, 1.41451724e+01],\n",
       "       [1.26919466e+00, 2.19830964e+00, 1.41451724e+01],\n",
       "       [3.80758399e+00, 2.19830964e+00, 1.41451724e+01],\n",
       "       [6.34597331e+00, 2.19830964e+00, 1.41451724e+01],\n",
       "       [8.88436264e+00, 2.19830964e+00, 1.41451724e+01],\n",
       "       [2.53838933e+00, 4.39661928e+00, 1.41451724e+01],\n",
       "       [5.07677865e+00, 4.39661928e+00, 1.41451724e+01],\n",
       "       [7.61516798e+00, 4.39661928e+00, 1.41451724e+01],\n",
       "       [1.01535573e+01, 4.39661928e+00, 1.41451724e+01],\n",
       "       [3.80758399e+00, 6.59492892e+00, 1.41451724e+01],\n",
       "       [6.34597331e+00, 6.59492892e+00, 1.41451724e+01],\n",
       "       [8.88436264e+00, 6.59492892e+00, 1.41451724e+01],\n",
       "       [1.14227520e+01, 6.59492892e+00, 1.41451724e+01],\n",
       "       [1.26919466e+00, 7.32769880e-01, 1.56451724e+01]])"
      ]
     },
     "execution_count": 3,
     "metadata": {},
     "output_type": "execute_result"
    }
   ],
   "source": [
    "ads_height = 1.5 #modified initial conditions\n",
    "add_adsorbate(atoms, ads, height=ads_height, position='fcc')\n",
    "#defined vacuum layer for no overlap between supercells NEEDS CONVERGENCE STUDY\n",
    "atoms.center(vacuum = 10, axis = 2) \n",
    "atoms.get_tags()\n",
    "atoms.get_positions()"
   ]
  },
  {
   "cell_type": "code",
   "execution_count": null,
   "id": "16d041c9",
   "metadata": {},
   "outputs": [],
   "source": [
    "view(atoms, viewer='x3d')\n"
   ]
  },
  {
   "cell_type": "code",
   "execution_count": null,
   "id": "290f26f0-0957-4c8b-9ab8-af43e21e79ff",
   "metadata": {},
   "outputs": [],
   "source": [
    "atoms[-1]"
   ]
  },
  {
   "cell_type": "code",
   "execution_count": 4,
   "id": "02cc7f77-dbaf-4f56-93a7-31d08de90aa9",
   "metadata": {},
   "outputs": [],
   "source": [
    "# Constrain all atoms except the adsorbate:\n",
    "from ase.constraints import FixAtoms\n",
    "fixed = list(range(len(atoms) - 1))\n",
    "atoms.constraints = [FixAtoms(indices=fixed)]"
   ]
  },
  {
   "cell_type": "markdown",
   "id": "f7787e67-50e4-40d6-8479-f21e7482709c",
   "metadata": {},
   "source": [
    "## Optimize adsorbate position usgin built-in BFGS from ASE."
   ]
  },
  {
   "cell_type": "code",
   "execution_count": 5,
   "id": "af55440d-dd81-4d14-a500-05ec8ef44691",
   "metadata": {},
   "outputs": [
    {
     "data": {
      "text/plain": [
       "True"
      ]
     },
     "execution_count": 5,
     "metadata": {},
     "output_type": "execute_result"
    }
   ],
   "source": [
    "from ase.optimize import BFGS\n",
    "atoms.calc = EMT()\n",
    "opt = BFGS(atoms, logfile=None)\n",
    "opt.run(fmax=0.0001)"
   ]
  },
  {
   "cell_type": "code",
   "execution_count": 6,
   "id": "db703af8-9232-49a5-929f-8a98460698dd",
   "metadata": {},
   "outputs": [
    {
     "name": "stdout",
     "output_type": "stream",
     "text": [
      "[ 1.26919466  0.73276988 15.5051332 ]\n",
      "11.224918047323282\n"
     ]
    }
   ],
   "source": [
    "# Final adsorbate position.\n",
    "### print(atoms[3].position)\n",
    "print(atoms[-1].position) # modified to get adsorbate position\n",
    "\n",
    "# Final energy.\n",
    "print(atoms.get_potential_energy())"
   ]
  },
  {
   "cell_type": "markdown",
   "id": "d80aa010-0d9f-4f24-82e7-3815ddcee72f",
   "metadata": {},
   "source": [
    "## Comparison with BoTorch"
   ]
  },
  {
   "cell_type": "code",
   "execution_count": 7,
   "id": "2e2c9010-1f6d-4fab-88eb-f5d7f6e8eb6d",
   "metadata": {},
   "outputs": [],
   "source": [
    "import numpy as np\n",
    "import torch"
   ]
  },
  {
   "cell_type": "code",
   "execution_count": 8,
   "id": "23cb127e-8f86-4b72-aee6-61d1476f5c4a",
   "metadata": {},
   "outputs": [
    {
     "name": "stdout",
     "output_type": "stream",
     "text": [
      "14.145172411082656\n"
     ]
    }
   ],
   "source": [
    "# Do not allow our atom to go inside the surface. \n",
    "# Also restrict x-y to the unit cell size.\n",
    "bulk_z_max = np.max(atoms[:-1].positions[:, 2]) #modified to account for changes in initial conditions + universal\n",
    "print(bulk_z_max)\n",
    "cell_x_min, cell_x_max = float(np.min(atoms.cell[:, 0])), float(np.max(atoms.cell[:, 0]))\n",
    "cell_y_min, cell_y_max = float(np.min(atoms.cell[:, 1])), float(np.max(atoms.cell[:, 1]))\n",
    "#z_adsorb_max = 3 * ads_height\n",
    "z_adsorb_max = atoms[-1].position[-1] + 5 # modified to account for changes in initial conditions"
   ]
  },
  {
   "cell_type": "markdown",
   "id": "add31d28-0b29-43e9-8ac4-d12e890f3c01",
   "metadata": {},
   "source": [
    "## Set up evaluation function (pipe to ASE) for trial parameters suggested by Ax. \n",
    "Note that this function can return additional keys that can be used in the `outcome_constraints` of the experiment."
   ]
  },
  {
   "cell_type": "code",
   "execution_count": null,
   "id": "8851d88f-604e-4fdc-ba29-608292b65ef3",
   "metadata": {},
   "outputs": [],
   "source": [
    "def evaluate(parameters):\n",
    "    x = np.array([parameters.get(f\"x\"), parameters.get(f\"y\"), parameters.get(f\"z\")])\n",
    "     # Can put zeros since constraints are respected by set_positions.\n",
    "    new_pos = np.vstack([np.zeros((atoms.get_number_of_atoms() - 1, 3)), x])\n",
    "    atoms.set_positions(new_pos, apply_constraint=True)\n",
    "    energy = atoms.get_potential_energy()\n",
    "    \n",
    "    # In our case, standard error is 0, since we are computing a synthetic function.\n",
    "    return {\"adsorption_energy\": (energy, 0.0)} # We have 0 noise on the target."
   ]
  },
  {
   "cell_type": "code",
   "execution_count": null,
   "id": "e116847c-4017-4c05-b9c2-7ca93424b6e9",
   "metadata": {},
   "outputs": [],
   "source": [
    "from botorch.models import SingleTaskGP, ModelListGP, FixedNoiseGP\n",
    "# Ax wrappers for BoTorch components\n",
    "from ax.models.torch.botorch_modular.model import BoTorchModel\n",
    "from ax.models.torch.botorch_modular.surrogate import Surrogate\n",
    "from gpytorch.mlls.exact_marginal_log_likelihood import ExactMarginalLogLikelihood\n",
    "from botorch.acquisition.analytic import ExpectedImprovement\n",
    "\n",
    "# model = SingleTaskGP(init_x, init_y)\n",
    "# mll = ExactMarginalLogLikelihood(single_model.likelihood, single_model)\n",
    "\n",
    "# Fit on init data. \n",
    "# from botorch import fit_gpytorch_model\n",
    "# fit_gpytorch_model(mll)\n",
    "\n",
    "model = BoTorchModel(\n",
    "    # Optional `Surrogate` specification to use instead of default\n",
    "    surrogate=Surrogate(\n",
    "        # BoTorch `Model` type\n",
    "        botorch_model_class=FixedNoiseGP,\n",
    "        # Optional, MLL class with which to optimize model parameters\n",
    "        mll_class=ExactMarginalLogLikelihood,\n",
    "        # Optional, dictionary of keyword arguments to underlying\n",
    "        # BoTorch `Model` constructor\n",
    "        model_options={},\n",
    "    ),\n",
    "    # Optional BoTorch `AcquisitionFunction` to use instead of default\n",
    "    botorch_acqf_class=ExpectedImprovement,\n",
    "    # Optional dict of keyword arguments, passed to the input\n",
    "    # constructor for the given BoTorch `AcquisitionFunction`\n",
    "    acquisition_options={},\n",
    ")"
   ]
  },
  {
   "cell_type": "markdown",
   "id": "8bbac27a-9aab-424e-a713-5adf31a5d9d6",
   "metadata": {},
   "source": [
    "## Create client and initial sampling strategy to warm-up the GP model"
   ]
  },
  {
   "cell_type": "code",
   "execution_count": null,
   "id": "ce5cdbda-2bd7-4ec4-a281-5755ab609b75",
   "metadata": {},
   "outputs": [],
   "source": [
    "import torch\n",
    "from ax.service.ax_client import AxClient\n",
    "from ax.service.utils.instantiation import ObjectiveProperties\n",
    "\n",
    "from ax.modelbridge.generation_strategy import GenerationStep, GenerationStrategy\n",
    "from ax.modelbridge.registry import Models\n",
    "\n",
    "\n",
    "gs = GenerationStrategy(\n",
    "    steps=[\n",
    "        # 1. Initialization step (does not require pre-existing data and is well-suited for\n",
    "        # initial sampling of the search space)\n",
    "        GenerationStep(\n",
    "            model=Models.SOBOL,\n",
    "            num_trials=5,  # How many trials should be produced from this generation step\n",
    "            min_trials_observed=3,  # How many trials need to be completed to move to next model\n",
    "            max_parallelism=5,  # Max parallelism for this step\n",
    "            model_kwargs={\"seed\": 999},  # Any kwargs you want passed into the model\n",
    "            model_gen_kwargs={},  # Any kwargs you want passed to `modelbridge.gen`\n",
    "        ),\n",
    "        # 2. Bayesian optimization step (requires data obtained from previous phase and learns\n",
    "        # from all data available at the time of each new candidate generation call)\n",
    "        GenerationStep(\n",
    "            model=Models.BOTORCH_MODULAR,\n",
    "            num_trials=-1,  # No limitation on how many trials should be produced from this step\n",
    "            max_parallelism=3,  # Parallelism limit for this step, often lower than for Sobol\n",
    "            # More on parallelism vs. required samples in BayesOpt:\n",
    "            # https://ax.dev/docs/bayesopt.html#tradeoff-between-parallelism-and-total-number-of-trials\n",
    "        ),\n",
    "    ]\n",
    ")"
   ]
  },
  {
   "cell_type": "markdown",
   "id": "e7f0e763",
   "metadata": {},
   "source": [
    "## Call functions from separate file instead of defining in notebook"
   ]
  },
  {
   "cell_type": "code",
   "execution_count": 15,
   "id": "22c8b38b",
   "metadata": {},
   "outputs": [],
   "source": [
    "import pickle\n",
    "with open('atoms.pkl', 'wb') as f:\n",
    "    pickle.dump(atoms, f)\n",
    "\n",
    "import Note_func"
   ]
  },
  {
   "cell_type": "markdown",
   "id": "0aed0dcf-c8b4-4586-a2fb-b374bdd683ce",
   "metadata": {},
   "source": [
    "## Set up the optimization experiment in Ax."
   ]
  },
  {
   "cell_type": "code",
   "execution_count": 16,
   "id": "e378595d-f852-42a5-8db7-7346fc0732c2",
   "metadata": {},
   "outputs": [
    {
     "name": "stderr",
     "output_type": "stream",
     "text": [
      "[INFO 03-09 12:09:54] ax.service.ax_client: Starting optimization with verbose logging. To disable logging, set the `verbose_logging` argument to `False`. Note that float values in the logs are rounded to 6 decimal points.\n",
      "[INFO 03-09 12:09:54] ax.service.utils.instantiation: Inferred value type of ParameterType.FLOAT for parameter x. If that is not the expected value type, you can explicitly specify 'value_type' ('int', 'float', 'bool' or 'str') in parameter dict.\n",
      "[INFO 03-09 12:09:54] ax.service.utils.instantiation: Inferred value type of ParameterType.FLOAT for parameter y. If that is not the expected value type, you can explicitly specify 'value_type' ('int', 'float', 'bool' or 'str') in parameter dict.\n",
      "[INFO 03-09 12:09:54] ax.service.utils.instantiation: Inferred value type of ParameterType.FLOAT for parameter z. If that is not the expected value type, you can explicitly specify 'value_type' ('int', 'float', 'bool' or 'str') in parameter dict.\n",
      "[INFO 03-09 12:09:54] ax.service.utils.instantiation: Created search space: SearchSpace(parameters=[RangeParameter(name='x', parameter_type=FLOAT, range=[0.0, 10.153557303014782]), RangeParameter(name='y', parameter_type=FLOAT, range=[0.0, 8.793238563191812]), RangeParameter(name='z', parameter_type=FLOAT, range=[14.145172411082656, 20.505133198534594])], parameter_constraints=[]).\n"
     ]
    }
   ],
   "source": [
    "from ax.service.ax_client import AxClient\n",
    "from Note_func import gs\n",
    "from ax.service.utils.instantiation import ObjectiveProperties\n",
    "# Initialize the client - AxClient offers a convenient API to control the experiment\n",
    "ax_client = AxClient(generation_strategy=gs)\n",
    "\n",
    "ax_client.create_experiment(\n",
    "    name=\"adsorption_experiment\",\n",
    "    parameters=[\n",
    "        {\n",
    "            \"name\": \"x\",\n",
    "            \"type\": \"range\",\n",
    "            \"bounds\": [float(cell_x_min), float(cell_x_max)],\n",
    "        },\n",
    "        {\n",
    "            \"name\": \"y\",\n",
    "            \"type\": \"range\",\n",
    "            \"bounds\": [float(cell_y_min), float(cell_y_max)],\n",
    "        },\n",
    "        {\n",
    "            \"name\": \"z\",\n",
    "            \"type\": \"range\",\n",
    "            \"bounds\": [float(bulk_z_max), float(z_adsorb_max)], #I made a modification here, switched both bounds.\n",
    "        },\n",
    "    ],\n",
    "    objectives={\"adsorption_energy\": ObjectiveProperties(minimize=True)},\n",
    "    # parameter_constraints=[\"x1 + x2 <= 2.0\"],  # Optional.\n",
    "    # outcome_constraints=[\"l2norm <= 1.25\"],  # Optional.\n",
    ")"
   ]
  },
  {
   "cell_type": "markdown",
   "id": "e82d1d73-2d54-4fcf-8fe5-d504e37efed6",
   "metadata": {},
   "source": [
    "## Run the BO loop."
   ]
  },
  {
   "cell_type": "code",
   "execution_count": 17,
   "id": "a476257c-7a50-473f-9482-4c0d4fee48c7",
   "metadata": {},
   "outputs": [
    {
     "name": "stderr",
     "output_type": "stream",
     "text": [
      "[INFO 03-09 12:09:56] ax.service.ax_client: Generated new trial 0 with parameters {'x': 6.383844, 'y': 4.526849, 'z': 17.334144} using model Sobol.\n",
      "c:\\Users\\arnau\\AppData\\Local\\Programs\\Python\\Python310\\lib\\site-packages\\ase\\atoms.py:967: VisibleDeprecationWarning: Use get_global_number_of_atoms() instead\n",
      "  warnings.warn('Use get_global_number_of_atoms() instead',\n",
      "[INFO 03-09 12:09:56] ax.service.ax_client: Completed trial 0 with data: {'adsorption_energy': (14.085002, 0.0)}.\n",
      "[INFO 03-09 12:09:56] ax.service.ax_client: Generated new trial 1 with parameters {'x': 2.526671, 'y': 2.704544, 'z': 16.63266} using model Sobol.\n",
      "c:\\Users\\arnau\\AppData\\Local\\Programs\\Python\\Python310\\lib\\site-packages\\ase\\atoms.py:967: VisibleDeprecationWarning: Use get_global_number_of_atoms() instead\n",
      "  warnings.warn('Use get_global_number_of_atoms() instead',\n",
      "[INFO 03-09 12:09:56] ax.service.ax_client: Completed trial 1 with data: {'adsorption_energy': (13.116128, 0.0)}.\n",
      "[INFO 03-09 12:09:56] ax.service.ax_client: Generated new trial 2 with parameters {'x': 2.842006, 'y': 7.520354, 'z': 18.958385} using model Sobol.\n",
      "c:\\Users\\arnau\\AppData\\Local\\Programs\\Python\\Python310\\lib\\site-packages\\ase\\atoms.py:967: VisibleDeprecationWarning: Use get_global_number_of_atoms() instead\n",
      "  warnings.warn('Use get_global_number_of_atoms() instead',\n",
      "[INFO 03-09 12:09:56] ax.service.ax_client: Completed trial 2 with data: {'adsorption_energy': (14.741501, 0.0)}.\n",
      "[INFO 03-09 12:09:56] ax.service.ax_client: Generated new trial 3 with parameters {'x': 8.602932, 'y': 0.808181, 'z': 15.08312} using model Sobol.\n",
      "c:\\Users\\arnau\\AppData\\Local\\Programs\\Python\\Python310\\lib\\site-packages\\ase\\atoms.py:967: VisibleDeprecationWarning: Use get_global_number_of_atoms() instead\n",
      "  warnings.warn('Use get_global_number_of_atoms() instead',\n",
      "[INFO 03-09 12:09:56] ax.service.ax_client: Completed trial 3 with data: {'adsorption_energy': (12.182324, 0.0)}.\n",
      "[INFO 03-09 12:09:56] ax.service.ax_client: Generated new trial 4 with parameters {'x': 9.260425, 'y': 8.57192, 'z': 15.853069} using model Sobol.\n",
      "c:\\Users\\arnau\\AppData\\Local\\Programs\\Python\\Python310\\lib\\site-packages\\ase\\atoms.py:967: VisibleDeprecationWarning: Use get_global_number_of_atoms() instead\n",
      "  warnings.warn('Use get_global_number_of_atoms() instead',\n",
      "[INFO 03-09 12:09:56] ax.service.ax_client: Completed trial 4 with data: {'adsorption_energy': (11.478172, 0.0)}.\n",
      "[INFO 03-09 12:09:57] ax.service.ax_client: Generated new trial 5 with parameters {'x': 10.153557, 'y': 8.793239, 'z': 14.583526} using model BoTorch.\n",
      "c:\\Users\\arnau\\AppData\\Local\\Programs\\Python\\Python310\\lib\\site-packages\\ase\\atoms.py:967: VisibleDeprecationWarning: Use get_global_number_of_atoms() instead\n",
      "  warnings.warn('Use get_global_number_of_atoms() instead',\n",
      "[INFO 03-09 12:09:57] ax.service.ax_client: Completed trial 5 with data: {'adsorption_energy': (92.604347, 0.0)}.\n",
      "[INFO 03-09 12:09:59] ax.service.ax_client: Generated new trial 6 with parameters {'x': 8.423158, 'y': 8.290197, 'z': 16.673511} using model BoTorch.\n",
      "c:\\Users\\arnau\\AppData\\Local\\Programs\\Python\\Python310\\lib\\site-packages\\ase\\atoms.py:967: VisibleDeprecationWarning: Use get_global_number_of_atoms() instead\n",
      "  warnings.warn('Use get_global_number_of_atoms() instead',\n",
      "[INFO 03-09 12:09:59] ax.service.ax_client: Completed trial 6 with data: {'adsorption_energy': (13.153508, 0.0)}.\n",
      "[INFO 03-09 12:10:01] ax.service.ax_client: Generated new trial 7 with parameters {'x': 7.385251, 'y': 3.937442, 'z': 16.130534} using model BoTorch.\n",
      "c:\\Users\\arnau\\AppData\\Local\\Programs\\Python\\Python310\\lib\\site-packages\\ase\\atoms.py:967: VisibleDeprecationWarning: Use get_global_number_of_atoms() instead\n",
      "  warnings.warn('Use get_global_number_of_atoms() instead',\n",
      "[INFO 03-09 12:10:01] ax.service.ax_client: Completed trial 7 with data: {'adsorption_energy': (11.858163, 0.0)}.\n",
      "[INFO 03-09 12:10:02] ax.service.ax_client: Generated new trial 8 with parameters {'x': 6.428415, 'y': 0.0, 'z': 16.112567} using model BoTorch.\n",
      "c:\\Users\\arnau\\AppData\\Local\\Programs\\Python\\Python310\\lib\\site-packages\\ase\\atoms.py:967: VisibleDeprecationWarning: Use get_global_number_of_atoms() instead\n",
      "  warnings.warn('Use get_global_number_of_atoms() instead',\n",
      "[INFO 03-09 12:10:02] ax.service.ax_client: Completed trial 8 with data: {'adsorption_energy': (12.011821, 0.0)}.\n",
      "[INFO 03-09 12:10:04] ax.service.ax_client: Generated new trial 9 with parameters {'x': 4.620697, 'y': 7.721646, 'z': 16.213318} using model BoTorch.\n",
      "c:\\Users\\arnau\\AppData\\Local\\Programs\\Python\\Python310\\lib\\site-packages\\ase\\atoms.py:967: VisibleDeprecationWarning: Use get_global_number_of_atoms() instead\n",
      "  warnings.warn('Use get_global_number_of_atoms() instead',\n",
      "[INFO 03-09 12:10:04] ax.service.ax_client: Completed trial 9 with data: {'adsorption_energy': (12.229064, 0.0)}.\n",
      "[INFO 03-09 12:10:06] ax.service.ax_client: Generated new trial 10 with parameters {'x': 3.524261, 'y': 0.0, 'z': 15.300117} using model BoTorch.\n",
      "c:\\Users\\arnau\\AppData\\Local\\Programs\\Python\\Python310\\lib\\site-packages\\ase\\atoms.py:967: VisibleDeprecationWarning: Use get_global_number_of_atoms() instead\n",
      "  warnings.warn('Use get_global_number_of_atoms() instead',\n",
      "[INFO 03-09 12:10:06] ax.service.ax_client: Completed trial 10 with data: {'adsorption_energy': (11.943062, 0.0)}.\n",
      "[INFO 03-09 12:10:07] ax.service.ax_client: Generated new trial 11 with parameters {'x': 0.0, 'y': 6.029528, 'z': 17.834562} using model BoTorch.\n",
      "c:\\Users\\arnau\\AppData\\Local\\Programs\\Python\\Python310\\lib\\site-packages\\ase\\atoms.py:967: VisibleDeprecationWarning: Use get_global_number_of_atoms() instead\n",
      "  warnings.warn('Use get_global_number_of_atoms() instead',\n",
      "[INFO 03-09 12:10:07] ax.service.ax_client: Completed trial 11 with data: {'adsorption_energy': (14.446561, 0.0)}.\n",
      "[INFO 03-09 12:10:09] ax.service.ax_client: Generated new trial 12 with parameters {'x': 10.153557, 'y': 7.086528, 'z': 16.20081} using model BoTorch.\n",
      "c:\\Users\\arnau\\AppData\\Local\\Programs\\Python\\Python310\\lib\\site-packages\\ase\\atoms.py:967: VisibleDeprecationWarning: Use get_global_number_of_atoms() instead\n",
      "  warnings.warn('Use get_global_number_of_atoms() instead',\n",
      "[INFO 03-09 12:10:09] ax.service.ax_client: Completed trial 12 with data: {'adsorption_energy': (12.23404, 0.0)}.\n",
      "[INFO 03-09 12:10:10] ax.service.ax_client: Generated new trial 13 with parameters {'x': 3.493934, 'y': 1.937353, 'z': 18.44859} using model BoTorch.\n",
      "c:\\Users\\arnau\\AppData\\Local\\Programs\\Python\\Python310\\lib\\site-packages\\ase\\atoms.py:967: VisibleDeprecationWarning: Use get_global_number_of_atoms() instead\n",
      "  warnings.warn('Use get_global_number_of_atoms() instead',\n",
      "[INFO 03-09 12:10:10] ax.service.ax_client: Completed trial 13 with data: {'adsorption_energy': (14.656123, 0.0)}.\n",
      "[INFO 03-09 12:10:12] ax.service.ax_client: Generated new trial 14 with parameters {'x': 8.36282, 'y': 0.0, 'z': 15.531486} using model BoTorch.\n",
      "c:\\Users\\arnau\\AppData\\Local\\Programs\\Python\\Python310\\lib\\site-packages\\ase\\atoms.py:967: VisibleDeprecationWarning: Use get_global_number_of_atoms() instead\n",
      "  warnings.warn('Use get_global_number_of_atoms() instead',\n",
      "[INFO 03-09 12:10:12] ax.service.ax_client: Completed trial 14 with data: {'adsorption_energy': (11.586889, 0.0)}.\n",
      "[INFO 03-09 12:10:14] ax.service.ax_client: Generated new trial 15 with parameters {'x': 9.622759, 'y': 6.233741, 'z': 18.494161} using model BoTorch.\n",
      "c:\\Users\\arnau\\AppData\\Local\\Programs\\Python\\Python310\\lib\\site-packages\\ase\\atoms.py:967: VisibleDeprecationWarning: Use get_global_number_of_atoms() instead\n",
      "  warnings.warn('Use get_global_number_of_atoms() instead',\n",
      "[INFO 03-09 12:10:14] ax.service.ax_client: Completed trial 15 with data: {'adsorption_energy': (14.670066, 0.0)}.\n",
      "[INFO 03-09 12:10:15] ax.service.ax_client: Generated new trial 16 with parameters {'x': 10.153557, 'y': 0.0, 'z': 17.596429} using model BoTorch.\n",
      "c:\\Users\\arnau\\AppData\\Local\\Programs\\Python\\Python310\\lib\\site-packages\\ase\\atoms.py:967: VisibleDeprecationWarning: Use get_global_number_of_atoms() instead\n",
      "  warnings.warn('Use get_global_number_of_atoms() instead',\n",
      "[INFO 03-09 12:10:15] ax.service.ax_client: Completed trial 16 with data: {'adsorption_energy': (14.279635, 0.0)}.\n",
      "[INFO 03-09 12:10:17] ax.service.ax_client: Generated new trial 17 with parameters {'x': 0.698474, 'y': 0.0, 'z': 17.47635} using model BoTorch.\n",
      "c:\\Users\\arnau\\AppData\\Local\\Programs\\Python\\Python310\\lib\\site-packages\\ase\\atoms.py:967: VisibleDeprecationWarning: Use get_global_number_of_atoms() instead\n",
      "  warnings.warn('Use get_global_number_of_atoms() instead',\n",
      "[INFO 03-09 12:10:17] ax.service.ax_client: Completed trial 17 with data: {'adsorption_energy': (14.198214, 0.0)}.\n",
      "[INFO 03-09 12:10:19] ax.service.ax_client: Generated new trial 18 with parameters {'x': 9.654657, 'y': 3.277013, 'z': 19.687777} using model BoTorch.\n",
      "c:\\Users\\arnau\\AppData\\Local\\Programs\\Python\\Python310\\lib\\site-packages\\ase\\atoms.py:967: VisibleDeprecationWarning: Use get_global_number_of_atoms() instead\n",
      "  warnings.warn('Use get_global_number_of_atoms() instead',\n",
      "[INFO 03-09 12:10:19] ax.service.ax_client: Completed trial 18 with data: {'adsorption_energy': (14.798952, 0.0)}.\n",
      "[INFO 03-09 12:10:20] ax.service.ax_client: Generated new trial 19 with parameters {'x': 10.153557, 'y': 8.793239, 'z': 19.927758} using model BoTorch.\n",
      "c:\\Users\\arnau\\AppData\\Local\\Programs\\Python\\Python310\\lib\\site-packages\\ase\\atoms.py:967: VisibleDeprecationWarning: Use get_global_number_of_atoms() instead\n",
      "  warnings.warn('Use get_global_number_of_atoms() instead',\n",
      "[INFO 03-09 12:10:20] ax.service.ax_client: Completed trial 19 with data: {'adsorption_energy': (14.799136, 0.0)}.\n",
      "[INFO 03-09 12:10:22] ax.service.ax_client: Generated new trial 20 with parameters {'x': 0.897983, 'y': 5.695296, 'z': 20.327146} using model BoTorch.\n",
      "c:\\Users\\arnau\\AppData\\Local\\Programs\\Python\\Python310\\lib\\site-packages\\ase\\atoms.py:967: VisibleDeprecationWarning: Use get_global_number_of_atoms() instead\n",
      "  warnings.warn('Use get_global_number_of_atoms() instead',\n",
      "[INFO 03-09 12:10:22] ax.service.ax_client: Completed trial 20 with data: {'adsorption_energy': (14.799167, 0.0)}.\n",
      "[INFO 03-09 12:10:23] ax.service.ax_client: Generated new trial 21 with parameters {'x': 0.0, 'y': 0.0, 'z': 19.757042} using model BoTorch.\n",
      "c:\\Users\\arnau\\AppData\\Local\\Programs\\Python\\Python310\\lib\\site-packages\\ase\\atoms.py:967: VisibleDeprecationWarning: Use get_global_number_of_atoms() instead\n",
      "  warnings.warn('Use get_global_number_of_atoms() instead',\n",
      "[INFO 03-09 12:10:23] ax.service.ax_client: Completed trial 21 with data: {'adsorption_energy': (14.798707, 0.0)}.\n",
      "[INFO 03-09 12:10:24] ax.service.ax_client: Generated new trial 22 with parameters {'x': 7.233718, 'y': 0.0, 'z': 20.505133} using model BoTorch.\n",
      "c:\\Users\\arnau\\AppData\\Local\\Programs\\Python\\Python310\\lib\\site-packages\\ase\\atoms.py:967: VisibleDeprecationWarning: Use get_global_number_of_atoms() instead\n",
      "  warnings.warn('Use get_global_number_of_atoms() instead',\n",
      "[INFO 03-09 12:10:25] ax.service.ax_client: Completed trial 22 with data: {'adsorption_energy': (14.799167, 0.0)}.\n",
      "[INFO 03-09 12:10:26] ax.service.ax_client: Generated new trial 23 with parameters {'x': 8.444165, 'y': 8.793239, 'z': 16.125792} using model BoTorch.\n",
      "c:\\Users\\arnau\\AppData\\Local\\Programs\\Python\\Python310\\lib\\site-packages\\ase\\atoms.py:967: VisibleDeprecationWarning: Use get_global_number_of_atoms() instead\n",
      "  warnings.warn('Use get_global_number_of_atoms() instead',\n",
      "[INFO 03-09 12:10:26] ax.service.ax_client: Completed trial 23 with data: {'adsorption_energy': (11.954896, 0.0)}.\n",
      "[INFO 03-09 12:10:27] ax.service.ax_client: Generated new trial 24 with parameters {'x': 0.0, 'y': 8.793239, 'z': 17.024176} using model BoTorch.\n",
      "c:\\Users\\arnau\\AppData\\Local\\Programs\\Python\\Python310\\lib\\site-packages\\ase\\atoms.py:967: VisibleDeprecationWarning: Use get_global_number_of_atoms() instead\n",
      "  warnings.warn('Use get_global_number_of_atoms() instead',\n",
      "[INFO 03-09 12:10:27] ax.service.ax_client: Completed trial 24 with data: {'adsorption_energy': (13.648983, 0.0)}.\n",
      "[INFO 03-09 12:10:28] ax.service.ax_client: Generated new trial 25 with parameters {'x': 10.153557, 'y': 8.793239, 'z': 17.644352} using model BoTorch.\n",
      "c:\\Users\\arnau\\AppData\\Local\\Programs\\Python\\Python310\\lib\\site-packages\\ase\\atoms.py:967: VisibleDeprecationWarning: Use get_global_number_of_atoms() instead\n",
      "  warnings.warn('Use get_global_number_of_atoms() instead',\n",
      "[INFO 03-09 12:10:28] ax.service.ax_client: Completed trial 25 with data: {'adsorption_energy': (14.314484, 0.0)}.\n",
      "[INFO 03-09 12:10:29] ax.service.ax_client: Generated new trial 26 with parameters {'x': 0.0, 'y': 2.691945, 'z': 15.93272} using model BoTorch.\n",
      "c:\\Users\\arnau\\AppData\\Local\\Programs\\Python\\Python310\\lib\\site-packages\\ase\\atoms.py:967: VisibleDeprecationWarning: Use get_global_number_of_atoms() instead\n",
      "  warnings.warn('Use get_global_number_of_atoms() instead',\n",
      "[INFO 03-09 12:10:29] ax.service.ax_client: Completed trial 26 with data: {'adsorption_energy': (11.68571, 0.0)}.\n",
      "[INFO 03-09 12:10:31] ax.service.ax_client: Generated new trial 27 with parameters {'x': 10.153557, 'y': 5.525889, 'z': 20.505133} using model BoTorch.\n",
      "c:\\Users\\arnau\\AppData\\Local\\Programs\\Python\\Python310\\lib\\site-packages\\ase\\atoms.py:967: VisibleDeprecationWarning: Use get_global_number_of_atoms() instead\n",
      "  warnings.warn('Use get_global_number_of_atoms() instead',\n",
      "[INFO 03-09 12:10:31] ax.service.ax_client: Completed trial 27 with data: {'adsorption_energy': (14.799167, 0.0)}.\n",
      "[INFO 03-09 12:10:32] ax.service.ax_client: Generated new trial 28 with parameters {'x': 10.153557, 'y': 0.0, 'z': 18.938346} using model BoTorch.\n",
      "c:\\Users\\arnau\\AppData\\Local\\Programs\\Python\\Python310\\lib\\site-packages\\ase\\atoms.py:967: VisibleDeprecationWarning: Use get_global_number_of_atoms() instead\n",
      "  warnings.warn('Use get_global_number_of_atoms() instead',\n",
      "[INFO 03-09 12:10:32] ax.service.ax_client: Completed trial 28 with data: {'adsorption_energy': (14.746469, 0.0)}.\n",
      "[INFO 03-09 12:10:34] ax.service.ax_client: Generated new trial 29 with parameters {'x': 10.153557, 'y': 0.0, 'z': 16.780942} using model BoTorch.\n",
      "c:\\Users\\arnau\\AppData\\Local\\Programs\\Python\\Python310\\lib\\site-packages\\ase\\atoms.py:967: VisibleDeprecationWarning: Use get_global_number_of_atoms() instead\n",
      "  warnings.warn('Use get_global_number_of_atoms() instead',\n",
      "[INFO 03-09 12:10:35] ax.service.ax_client: Completed trial 29 with data: {'adsorption_energy': (13.232865, 0.0)}.\n",
      "[INFO 03-09 12:10:36] ax.service.ax_client: Generated new trial 30 with parameters {'x': 6.784304, 'y': 5.923309, 'z': 15.861799} using model BoTorch.\n",
      "c:\\Users\\arnau\\AppData\\Local\\Programs\\Python\\Python310\\lib\\site-packages\\ase\\atoms.py:967: VisibleDeprecationWarning: Use get_global_number_of_atoms() instead\n",
      "  warnings.warn('Use get_global_number_of_atoms() instead',\n",
      "[INFO 03-09 12:10:36] ax.service.ax_client: Completed trial 30 with data: {'adsorption_energy': (11.465584, 0.0)}.\n",
      "[INFO 03-09 12:10:38] ax.service.ax_client: Generated new trial 31 with parameters {'x': 10.153557, 'y': 0.0, 'z': 15.179849} using model BoTorch.\n",
      "c:\\Users\\arnau\\AppData\\Local\\Programs\\Python\\Python310\\lib\\site-packages\\ase\\atoms.py:967: VisibleDeprecationWarning: Use get_global_number_of_atoms() instead\n",
      "  warnings.warn('Use get_global_number_of_atoms() instead',\n",
      "[INFO 03-09 12:10:38] ax.service.ax_client: Completed trial 31 with data: {'adsorption_energy': (20.032209, 0.0)}.\n",
      "[INFO 03-09 12:10:39] ax.service.ax_client: Generated new trial 32 with parameters {'x': 6.418487, 'y': 1.293185, 'z': 15.359316} using model BoTorch.\n",
      "c:\\Users\\arnau\\AppData\\Local\\Programs\\Python\\Python310\\lib\\site-packages\\ase\\atoms.py:967: VisibleDeprecationWarning: Use get_global_number_of_atoms() instead\n",
      "  warnings.warn('Use get_global_number_of_atoms() instead',\n",
      "[INFO 03-09 12:10:39] ax.service.ax_client: Completed trial 32 with data: {'adsorption_energy': (11.862865, 0.0)}.\n",
      "[INFO 03-09 12:10:40] ax.service.ax_client: Generated new trial 33 with parameters {'x': 6.626784, 'y': 0.0, 'z': 14.976434} using model BoTorch.\n",
      "c:\\Users\\arnau\\AppData\\Local\\Programs\\Python\\Python310\\lib\\site-packages\\ase\\atoms.py:967: VisibleDeprecationWarning: Use get_global_number_of_atoms() instead\n",
      "  warnings.warn('Use get_global_number_of_atoms() instead',\n",
      "[INFO 03-09 12:10:40] ax.service.ax_client: Completed trial 33 with data: {'adsorption_energy': (14.360562, 0.0)}.\n",
      "[INFO 03-09 12:10:41] ax.service.ax_client: Generated new trial 34 with parameters {'x': 1.151358, 'y': 0.0, 'z': 15.839246} using model BoTorch.\n",
      "c:\\Users\\arnau\\AppData\\Local\\Programs\\Python\\Python310\\lib\\site-packages\\ase\\atoms.py:967: VisibleDeprecationWarning: Use get_global_number_of_atoms() instead\n",
      "  warnings.warn('Use get_global_number_of_atoms() instead',\n",
      "[INFO 03-09 12:10:41] ax.service.ax_client: Completed trial 34 with data: {'adsorption_energy': (11.492665, 0.0)}.\n",
      "[INFO 03-09 12:10:43] ax.service.ax_client: Generated new trial 35 with parameters {'x': 4.608582, 'y': 3.71893, 'z': 19.783558} using model BoTorch.\n",
      "c:\\Users\\arnau\\AppData\\Local\\Programs\\Python\\Python310\\lib\\site-packages\\ase\\atoms.py:967: VisibleDeprecationWarning: Use get_global_number_of_atoms() instead\n",
      "  warnings.warn('Use get_global_number_of_atoms() instead',\n",
      "[INFO 03-09 12:10:43] ax.service.ax_client: Completed trial 35 with data: {'adsorption_energy': (14.799049, 0.0)}.\n",
      "[INFO 03-09 12:10:44] ax.service.ax_client: Generated new trial 36 with parameters {'x': 4.614762, 'y': 8.793239, 'z': 17.819143} using model BoTorch.\n",
      "c:\\Users\\arnau\\AppData\\Local\\Programs\\Python\\Python310\\lib\\site-packages\\ase\\atoms.py:967: VisibleDeprecationWarning: Use get_global_number_of_atoms() instead\n",
      "  warnings.warn('Use get_global_number_of_atoms() instead',\n",
      "[INFO 03-09 12:10:44] ax.service.ax_client: Completed trial 36 with data: {'adsorption_energy': (14.428104, 0.0)}.\n",
      "[INFO 03-09 12:10:46] ax.service.ax_client: Generated new trial 37 with parameters {'x': 0.0, 'y': 0.0, 'z': 15.206652} using model BoTorch.\n",
      "c:\\Users\\arnau\\AppData\\Local\\Programs\\Python\\Python310\\lib\\site-packages\\ase\\atoms.py:967: VisibleDeprecationWarning: Use get_global_number_of_atoms() instead\n",
      "  warnings.warn('Use get_global_number_of_atoms() instead',\n",
      "[INFO 03-09 12:10:46] ax.service.ax_client: Completed trial 37 with data: {'adsorption_energy': (19.036805, 0.0)}.\n",
      "[INFO 03-09 12:10:48] ax.service.ax_client: Generated new trial 38 with parameters {'x': 0.0, 'y': 5.136943, 'z': 16.273748} using model BoTorch.\n",
      "c:\\Users\\arnau\\AppData\\Local\\Programs\\Python\\Python310\\lib\\site-packages\\ase\\atoms.py:967: VisibleDeprecationWarning: Use get_global_number_of_atoms() instead\n",
      "  warnings.warn('Use get_global_number_of_atoms() instead',\n",
      "[INFO 03-09 12:10:48] ax.service.ax_client: Completed trial 38 with data: {'adsorption_energy': (12.255743, 0.0)}.\n",
      "[INFO 03-09 12:10:49] ax.service.ax_client: Generated new trial 39 with parameters {'x': 5.45561, 'y': 8.793239, 'z': 20.505133} using model BoTorch.\n",
      "c:\\Users\\arnau\\AppData\\Local\\Programs\\Python\\Python310\\lib\\site-packages\\ase\\atoms.py:967: VisibleDeprecationWarning: Use get_global_number_of_atoms() instead\n",
      "  warnings.warn('Use get_global_number_of_atoms() instead',\n",
      "[INFO 03-09 12:10:49] ax.service.ax_client: Completed trial 39 with data: {'adsorption_energy': (14.799167, 0.0)}.\n"
     ]
    }
   ],
   "source": [
    "from Note_func import evaluate\n",
    "N_BO_steps = 40\n",
    "for i in range(N_BO_steps):\n",
    "    parameters, trial_index = ax_client.get_next_trial()\n",
    "    # Local evaluation here can be replaced with deployment to external system.\n",
    "    ax_client.complete_trial(trial_index=trial_index, raw_data=evaluate(parameters))"
   ]
  },
  {
   "cell_type": "markdown",
   "id": "d6fde3ac",
   "metadata": {},
   "source": [
    "## (Optionnal : Load previous experiment result from JSON file)"
   ]
  },
  {
   "cell_type": "code",
   "execution_count": null,
   "id": "9a7a11a7",
   "metadata": {},
   "outputs": [],
   "source": [
    "ax_client = AxClient.load_from_json_file(filepath='test_json.json')"
   ]
  },
  {
   "cell_type": "markdown",
   "id": "27ccf88b-55bf-4a66-8c25-d9b7c16c1ae2",
   "metadata": {},
   "source": [
    "## Display Results"
   ]
  },
  {
   "cell_type": "code",
   "execution_count": null,
   "id": "555aafbc-755f-43ce-a5a2-c923ad466e3a",
   "metadata": {},
   "outputs": [],
   "source": [
    "ax_client.get_trials_data_frame()"
   ]
  },
  {
   "cell_type": "markdown",
   "id": "d2fa89c4-d269-4c9b-87f8-354e0ec7946d",
   "metadata": {},
   "source": [
    "## Plot Evolution of adsorption energy."
   ]
  },
  {
   "cell_type": "code",
   "execution_count": null,
   "id": "75ddb778-40c2-4fc2-bb87-49e2764a93b2",
   "metadata": {},
   "outputs": [],
   "source": [
    "from ax.utils.notebook.plotting import render\n",
    "# from botorch.acquisition\n",
    "\n",
    "render(ax_client.get_optimization_trace(objective_optimum=0.0))"
   ]
  },
  {
   "cell_type": "markdown",
   "id": "0c009b11-1989-4f7b-9746-e56cc55ae920",
   "metadata": {},
   "source": [
    "## Plot learned response surface."
   ]
  },
  {
   "cell_type": "code",
   "execution_count": null,
   "id": "3a5cba0c-5fc3-41ee-b222-1a372d652ba0",
   "metadata": {},
   "outputs": [],
   "source": [
    "from ax.plot.contour import interact_contour\n",
    "model = ax_client.generation_strategy.model\n",
    "render(interact_contour(model=model, metric_name=\"adsorption_energy\",\n",
    "                       slice_values={'x': 1.263480218001716, 'y': 1.0, 'z': 3.01}))"
   ]
  },
  {
   "cell_type": "code",
   "execution_count": null,
   "id": "2834fdea-36d0-41d0-a3b2-2af945cd966a",
   "metadata": {},
   "outputs": [],
   "source": [
    "ax_client.get_best_parameters()\n",
    "#Modify atoms to represent the best solution\n",
    "params = ax_client.get_best_parameters()[:1][0]\n",
    "atoms[-1].position[:] = params['x'],params['y'],params['z']\n",
    "print(ax_client.get_best_parameters())"
   ]
  },
  {
   "cell_type": "markdown",
   "id": "a40b82cb",
   "metadata": {},
   "source": [
    "## Save Ax Client and experiment as JSON file"
   ]
  },
  {
   "cell_type": "code",
   "execution_count": null,
   "id": "941c24cd",
   "metadata": {},
   "outputs": [],
   "source": [
    "ax_client.save_to_json_file(filepath= 'test_json.json')\n"
   ]
  },
  {
   "cell_type": "markdown",
   "id": "36e96968-cff1-4e51-88c7-b79bf84ea0da",
   "metadata": {},
   "source": [
    "## Visualize the resulting chemical system."
   ]
  },
  {
   "cell_type": "code",
   "execution_count": null,
   "id": "a8f4e93a-b20f-4f8e-a0aa-6e994ac8993d",
   "metadata": {},
   "outputs": [],
   "source": [
    "from ase.visualize import view\n",
    "view(atoms, viewer='x3d')"
   ]
  },
  {
   "cell_type": "code",
   "execution_count": null,
   "id": "a7207210-3f5a-4098-802b-860365ffd016",
   "metadata": {},
   "outputs": [],
   "source": [
    "import matplotlib.pyplot as plt\n",
    "from ase.visualize.plot import plot_atoms\n",
    "\n",
    "fig, ax = plt.subplots()\n",
    "\n",
    "plot_atoms(atoms, ax, radii=0.5, rotation=('90x,45y,0z'))\n",
    "#plot_atoms(atoms, ax, radii=0.5, rotation=('0x,0y,0z'))\n",
    "\n",
    "\n",
    "fig.savefig(\"ase_slab.png\")"
   ]
  }
 ],
 "metadata": {
  "kernelspec": {
   "display_name": "Python 3 (ipykernel)",
   "language": "python",
   "name": "python3"
  },
  "language_info": {
   "codemirror_mode": {
    "name": "ipython",
    "version": 3
   },
   "file_extension": ".py",
   "mimetype": "text/x-python",
   "name": "python",
   "nbconvert_exporter": "python",
   "pygments_lexer": "ipython3",
   "version": "3.10.6"
  }
 },
 "nbformat": 4,
 "nbformat_minor": 5
}
